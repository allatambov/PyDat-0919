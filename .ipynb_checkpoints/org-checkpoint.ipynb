{
 "cells": [
  {
   "cell_type": "markdown",
   "metadata": {
    "slideshow": {
     "slide_type": "slide"
    }
   },
   "source": [
    "### Python для анализа данных\n",
    "\n",
    "Занятия ведет: Алла Тамбовцева (@allatamb или allatambov@gmail.com)\n",
    "\n",
    "Ассистент: Виталий Евтушенко (@Witold1)\n",
    "\n",
    "Чат в Telegram: РАД 9 - 1 группа\n",
    "\n",
    "Материалы занятий и дополнительные материалы: https://github.com/allatambov/PyDat-0919"
   ]
  },
  {
   "cell_type": "markdown",
   "metadata": {
    "slideshow": {
     "slide_type": "slide"
    }
   },
   "source": [
    "### Правила игры и оценивание\n",
    "\n",
    "* Посещаемость не учитывается.\n",
    "\n",
    "\n",
    "* После каждого семинара выкладывается домашнее задание, дедлайн – 23:59 в день следующего занятия. Каждое домашнее задание оценивается в 10 баллов. \n",
    "\n",
    "\n",
    "* Сертификат выдается, если средняя оценка 4 балла и выше (среднее значение считается с учетом всех предложенных заданий, а не сданных).\n",
    "  Сдавать задания после дедлайна можно, но со штрафом. В пределах двух часов – штраф 20% (максимум за задание можно получить 8 баллов, а не 10), в пределах недели – штраф 40% (максимум за задание можно получить 6 баллов, а не 10).\n",
    "  \n",
    "  \n",
    "* Домашнее задание сдается по ссылке на Dropbox, ссылка для сдачи размещается в репозитории на Github (PyDat-0919).\n",
    "\n",
    "    \n",
    "* Проверка заданий и обратная связь – не более чем через 14 дней.\n"
   ]
  }
 ],
 "metadata": {
  "celltoolbar": "Slideshow",
  "kernelspec": {
   "display_name": "Python 3",
   "language": "python",
   "name": "python3"
  },
  "language_info": {
   "codemirror_mode": {
    "name": "ipython",
    "version": 3
   },
   "file_extension": ".py",
   "mimetype": "text/x-python",
   "name": "python",
   "nbconvert_exporter": "python",
   "pygments_lexer": "ipython3",
   "version": "3.6.8"
  }
 },
 "nbformat": 4,
 "nbformat_minor": 2
}
