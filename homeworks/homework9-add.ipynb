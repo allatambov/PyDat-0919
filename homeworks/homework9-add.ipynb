{
 "cells": [
  {
   "cell_type": "markdown",
   "metadata": {},
   "source": [
    "### Дополнительное домашнее задание\n",
    "\n",
    "*(для желающих, чисто на интерес)*"
   ]
  },
  {
   "cell_type": "markdown",
   "metadata": {},
   "source": [
    "1. Выбрать пользователя ВКонтакте. Лучше выбирать пользователя с не очень большим числом друзей и не очень маленьким (больше 100 уже будет тяжеловато, для удобства можно будет потом укоротить список друзей для упрощения задачи).\n",
    "2. Используя API ВКонтакте и соответствующую библиотеку Python, выгрузить имена и фамилии друзей этого пользователя.\n",
    "3. Для каждого друга пользователя, найденного на шаге 2, выгрузить имена и фамилии его друзей.\n",
    "4. На основе выгруженных данных (возможно, здесь будет удобно создать массив или вложенный список, где каждый список внутри содержит перечень друзей одного пользователя) построить граф друзей. \n",
    "\n",
    "Чтобы построить граф друзей, нужно: \n",
    "\n",
    "* получить матрицу смежности для описания графа;\n",
    "* установить библиотеку Networkx (`!pip install networkx`);\n",
    "* используя функционал библиотек Networkx и Matplotlib, по матрице смежности нарисовать граф друзей."
   ]
  },
  {
   "cell_type": "markdown",
   "metadata": {},
   "source": [
    "### Пояснения, необходимые для выполнения задания\n",
    "\n",
    "**Граф** – совокупность множества вершин (точек) и множества ребер (линий между ними). \n",
    "\n",
    "Отношения между людьми можно представить в виде графа, *вершинами* которого являются люди, а *ребрами* – связи между ними. Если отношения между людьми симметричные (Вася считает Петю другом, и Петя считает Васю другом), то их можно представить в виде **неориентированного графа**:\n",
    "\n",
    "![](https://raw.githubusercontent.com/allatambov/R-programming-4/master/homeworks/hw1/figs/README-unnamed-chunk-14-1.png)\n",
    "\n",
    "Если отношения между людьми несимметричные (Петя считает Васю другом, а Вася не считает Петю другом), то их можно представить в виде **ориентированного графа**:\n",
    "\n",
    "![](https://raw.githubusercontent.com/allatambov/R-programming-4/master/homeworks/hw1/figs/README-unnamed-chunk-15-1.png)\n",
    "\n",
    "Нас будут интересовать ориентированные графы, то есть несимметричные отношения между людьми.\n",
    "\n",
    "**Матрица смежности** ориентированного графа $G$ (*adjacency matrix*) – квадратная матрица $A$ размера $n \\times n$, где $n$ - число вершин графа $G$ с элементами такого вида:\n",
    "\n",
    "$$\n",
    "a_{ij} = \\begin{cases} \n",
    "1, \\text{если из вершины } i \\text{ идет дуга в вершину } j \\\\ \n",
    "0, иначе\\end{cases}\n",
    "$$ \n",
    "\n",
    "Матрица смежности ориентированного графа не должна быть симметричной. Кроме того, матрицы смежности в анализе социальных сетей имеют еще одну особенность – на главной диагонали обычно стоят нули, так как человек не считается другом самому себе (вообще матрицы смежности могут быть любыми, так как в графах возможны петли – связи вершины самой с собой).\n",
    "\n",
    "**Пример.**\n",
    "\n",
    "Есть пять друзей, обозначим их A, B, C, D, E. Известно, что \n",
    "\n",
    "* A дружит с C\n",
    "* B дружит с C, D, E \n",
    "* C дружит с A, B\n",
    "* D дружит с B, E\n",
    "* E дружит с B, D.\n",
    "\n",
    "Построим матрицу смежности размерности $5\\times 5$, так как друзей пятеро."
   ]
  },
  {
   "cell_type": "code",
   "execution_count": 1,
   "metadata": {},
   "outputs": [],
   "source": [
    "import numpy as np\n",
    "A = np.matrix([[0, 0, 1, 0, 0], \n",
    "               [0, 0, 1, 1, 1],\n",
    "               [1, 1, 0, 0, 0],\n",
    "               [0, 1, 0, 0, 1],\n",
    "               [0, 1, 0, 1, 0]]) "
   ]
  },
  {
   "cell_type": "markdown",
   "metadata": {},
   "source": [
    "Теперь импортируем необходимые для построения графа библиотеки:"
   ]
  },
  {
   "cell_type": "code",
   "execution_count": 2,
   "metadata": {},
   "outputs": [],
   "source": [
    "import networkx as nx\n",
    "import matplotlib.pyplot as plt"
   ]
  },
  {
   "cell_type": "markdown",
   "metadata": {},
   "source": [
    "Создаем граф G:"
   ]
  },
  {
   "cell_type": "code",
   "execution_count": 3,
   "metadata": {},
   "outputs": [
    {
     "data": {
      "text/plain": [
       "<networkx.classes.graph.Graph at 0xa120241d0>"
      ]
     },
     "execution_count": 3,
     "metadata": {},
     "output_type": "execute_result"
    }
   ],
   "source": [
    "G = nx.from_numpy_matrix(A)\n",
    "G"
   ]
  },
  {
   "cell_type": "markdown",
   "metadata": {},
   "source": [
    "Строим его:"
   ]
  },
  {
   "cell_type": "code",
   "execution_count": 4,
   "metadata": {},
   "outputs": [
    {
     "data": {
      "image/png": "[encoded data removed]",
      "text/plain": [
       "<Figure size 432x288 with 1 Axes>"
      ]
     },
     "metadata": {},
     "output_type": "display_data"
    }
   ],
   "source": [
    "# with_labels – чтобы вершины были подписаны\n",
    "# font_weight – чтобы шрифт в подписях был полужирным\n",
    "\n",
    "nx.draw(G, with_labels=True, font_weight='bold')"
   ]
  },
  {
   "cell_type": "markdown",
   "metadata": {},
   "source": [
    "Если хотим изменить подписи к вершинам, то придется создать словарь с соответствиями текущих меток (числа от 0 до 4) и новых. Удобнее всего это сделать с помощью `zip()`:"
   ]
  },
  {
   "cell_type": "code",
   "execution_count": 7,
   "metadata": {},
   "outputs": [
    {
     "data": {
      "text/plain": [
       "{0: 'A', 1: 'B', 2: 'C', 3: 'D', 4: 'E'}"
      ]
     },
     "execution_count": 7,
     "metadata": {},
     "output_type": "execute_result"
    }
   ],
   "source": [
    "new = ['A', 'B', 'C', 'D', 'E']\n",
    "old = range(0, 5)\n",
    "\n",
    "new_labels = dict(zip(old, new))\n",
    "new_labels"
   ]
  },
  {
   "cell_type": "code",
   "execution_count": 8,
   "metadata": {},
   "outputs": [
    {
     "data": {
      "image/png": "[encoded data removed]",
      "text/plain": [
       "<Figure size 432x288 with 1 Axes>"
      ]
     },
     "metadata": {},
     "output_type": "display_data"
    }
   ],
   "source": [
    "nx.draw(G, with_labels=True, font_weight='bold',\n",
    "       labels = new_labels)"
   ]
  },
  {
   "cell_type": "markdown",
   "metadata": {},
   "source": [
    "Граф друзей готов!\n",
    "\n",
    "Если хочется настроить другие параметры у графа (цвет, размер или форму вершин, цвет и начертание шрифта и прочее), можно обратиться к [документации](https://networkx.github.io/documentation/networkx-1.10/reference/generated/networkx.drawing.nx_pylab.draw_networkx.html#networkx.drawing.nx_pylab.draw_networkx).\n",
    "\n",
    "P.S. Как можно догадаться, главная загвоздка задания – сформировать матрицу смежности на основе выгруженных данных по каждому другу пользователя."
   ]
  }
 ],
 "metadata": {
  "kernelspec": {
   "display_name": "Python 3",
   "language": "python",
   "name": "python3"
  },
  "language_info": {
   "codemirror_mode": {
    "name": "ipython",
    "version": 3
   },
   "file_extension": ".py",
   "mimetype": "text/x-python",
   "name": "python",
   "nbconvert_exporter": "python",
   "pygments_lexer": "ipython3",
   "version": "3.6.8"
  }
 },
 "nbformat": 4,
 "nbformat_minor": 2
}
