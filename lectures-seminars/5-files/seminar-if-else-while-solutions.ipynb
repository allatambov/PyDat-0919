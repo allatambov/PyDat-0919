{
 "cells": [
  {
   "cell_type": "markdown",
   "metadata": {},
   "source": [
    "## Python для анализа данных\n",
    "\n",
    "*Алла Тамбовцева, НИУ ВШЭ*"
   ]
  },
  {
   "cell_type": "markdown",
   "metadata": {},
   "source": [
    "### Практикум по условным конструкциям, циклам и функциям: решения"
   ]
  },
  {
   "cell_type": "markdown",
   "metadata": {},
   "source": [
    "### Задача 1\n",
    "\n",
    "Дан список студентов."
   ]
  },
  {
   "cell_type": "code",
   "execution_count": 2,
   "metadata": {},
   "outputs": [],
   "source": [
    "students = [\"Вася\", \"Маша\", \"Петя\", \"Дима\", \n",
    "            \"Марина\", \"Люба\", \"Коля\", \"Ваня\"]"
   ]
  },
  {
   "cell_type": "markdown",
   "metadata": {},
   "source": [
    "Оценки студентов за контрольную работу сохранены в словаре `grades`:"
   ]
  },
  {
   "cell_type": "code",
   "execution_count": 3,
   "metadata": {},
   "outputs": [],
   "source": [
    "grades = {\"Вася\" : 4, \"Петя\" : 9, \"Марина\" : 8, \n",
    "          \"Люба\" : 4, \"Коля\" : 5, \"Ваня\": 10}"
   ]
  },
  {
   "cell_type": "markdown",
   "metadata": {},
   "source": [
    "* Напишите программу, которая выводит на экран имя студента из списка `students` и его оценку. Если оценки студента из списка `students` нет, то на экран должно выводиться имя студента и сообщение \"Контрольную работу не писал(а)\".\n",
    "\n",
    "* Напишите программу, которая выводит на экран имена студентов, которые получили отличные оценки (8 и выше).\n",
    "\n",
    "* Напишите программу, которая сохраняет имена студентов, получивших хорошие и отличные оценки, в список `good`, а получивших удовлетворительные и плохие оценки – в список `bad`."
   ]
  },
  {
   "cell_type": "code",
   "execution_count": 4,
   "metadata": {},
   "outputs": [
    {
     "name": "stdout",
     "output_type": "stream",
     "text": [
      "Вася 4\n",
      "Маша Контрольную работу не писал(а)\n",
      "Петя 9\n",
      "Дима Контрольную работу не писал(а)\n",
      "Марина 8\n",
      "Люба 4\n",
      "Коля 5\n",
      "Ваня 10\n"
     ]
    }
   ],
   "source": [
    "for s in students:\n",
    "    print(s, grades.get(s, \"Контрольную работу не писал(а)\"))"
   ]
  },
  {
   "cell_type": "code",
   "execution_count": 5,
   "metadata": {},
   "outputs": [
    {
     "name": "stdout",
     "output_type": "stream",
     "text": [
      "Петя\n",
      "Марина\n",
      "Ваня\n"
     ]
    }
   ],
   "source": [
    "# 2\n",
    "for st, gr in grades.items():\n",
    "    if gr >= 8:\n",
    "        print(st)"
   ]
  },
  {
   "cell_type": "code",
   "execution_count": 6,
   "metadata": {},
   "outputs": [
    {
     "name": "stdout",
     "output_type": "stream",
     "text": [
      "['Петя', 'Марина', 'Ваня']\n",
      "['Вася', 'Люба', 'Коля']\n"
     ]
    }
   ],
   "source": [
    "# 3\n",
    "good = []\n",
    "bad = []\n",
    "\n",
    "for st, gr in grades.items():\n",
    "    if gr >= 6:\n",
    "        good.append(st)\n",
    "    else:\n",
    "        bad.append(st)\n",
    "\n",
    "print(good)\n",
    "print(bad)"
   ]
  },
  {
   "cell_type": "markdown",
   "metadata": {},
   "source": [
    "### Задача 2\n",
    "\n",
    "Напишите программу, которая просит пользователя ввести число и, если оно чётное, выводит на экран сообщение: \"Это число чётное\", если нечётное – \"Это число нечётное\"."
   ]
  },
  {
   "cell_type": "code",
   "execution_count": 8,
   "metadata": {},
   "outputs": [
    {
     "name": "stdout",
     "output_type": "stream",
     "text": [
      "Введите число: 56\n",
      "Это число чётное.\n"
     ]
    }
   ],
   "source": [
    "num = int(input(\"Введите число: \"))\n",
    "\n",
    "# здесь нам понадобится остаток от деления %\n",
    "\n",
    "if num % 2 == 0:\n",
    "    print(\"Это число чётное.\")\n",
    "else:\n",
    "    print(\"Это число нечётное.\")"
   ]
  },
  {
   "cell_type": "markdown",
   "metadata": {},
   "source": [
    "### Задача 3\n",
    "\n",
    "Напишите программу, которая запрашивает у пользователя пароль, и далее:\n",
    "\n",
    "* если пароль верный, выводит на экран сообщение \"Login success\".\n",
    "* если пароль неверный, выводит на экран сообщение \"Incorrect \n",
    "password, try again!\" до тех пор, пока пользователь не введет верный пароль."
   ]
  },
  {
   "cell_type": "code",
   "execution_count": 10,
   "metadata": {},
   "outputs": [
    {
     "name": "stdout",
     "output_type": "stream",
     "text": [
      "Enter password.hse\n",
      "Incorrect password, try again!\n",
      "Enter password.hsep\n",
      "Incorrect password, try again!\n",
      "Enter password.hsepassword\n",
      "Login success.\n"
     ]
    }
   ],
   "source": [
    "password = \"hsepassword\"\n",
    "\n",
    "while True:\n",
    "    attempt = input(\"Enter password.\")\n",
    "    if attempt == password:\n",
    "        print(\"Login success.\")\n",
    "        break\n",
    "    else:\n",
    "        print(\"Incorrect password, try again!\")"
   ]
  },
  {
   "cell_type": "code",
   "execution_count": 11,
   "metadata": {},
   "outputs": [
    {
     "name": "stdout",
     "output_type": "stream",
     "text": [
      "Enter password: hse\n",
      "Enter password: hsepassowrd\n",
      "Enter password: hsepassword\n",
      "Login success.\n"
     ]
    }
   ],
   "source": [
    "# альтернативный код без True\n",
    "password = \"hsepassword\"\n",
    "attempt = input(\"Enter password: \")\n",
    "\n",
    "while password != attempt:\n",
    "    attempt = input(\"Enter password: \")\n",
    "print(\"Login success.\")"
   ]
  }
 ],
 "metadata": {
  "kernelspec": {
   "display_name": "Python 3",
   "language": "python",
   "name": "python3"
  },
  "language_info": {
   "codemirror_mode": {
    "name": "ipython",
    "version": 3
   },
   "file_extension": ".py",
   "mimetype": "text/x-python",
   "name": "python",
   "nbconvert_exporter": "python",
   "pygments_lexer": "ipython3",
   "version": "3.6.8"
  }
 },
 "nbformat": 4,
 "nbformat_minor": 2
}
