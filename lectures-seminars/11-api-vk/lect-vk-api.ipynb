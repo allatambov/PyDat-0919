{
 "cells": [
  {
   "cell_type": "markdown",
   "metadata": {},
   "source": [
    "# Python для анализа данных\n",
    "\n",
    "*Алла Тамбовцева, НИУ ВШЭ*"
   ]
  },
  {
   "cell_type": "markdown",
   "metadata": {},
   "source": [
    "### Работа с API: пример с API ВКонтакте"
   ]
  },
  {
   "cell_type": "markdown",
   "metadata": {},
   "source": [
    "Сегодня мы немного поработаем с API. API – программный интерфейс приложения, сокращение от *Application Programming Interface*. Этот интерфейс позволяет выполнять различные операции автоматически, через приложение. Если API нам нужен исключительно как источник данных, можно писать запросы, позволяющие обратиться к хранилищу информации внутри API. Если мы хотим управлять приложением, которое будет выполнять какие-то действия, удаленно, можно написать код, который будет, например, автоматически отвечать на сообщения, когда мы не онлайн, лайкать новый пост друга через 30 секунд после его появления, пересылать на почту фотографии, которые выложили участники диалога и прочее.\n",
    "\n",
    "Мы будем работать с API социальной сети ВКонтакте. Использовать API для написания и приема сообщений средствами Python мы не будем, а рассмотрим API как источник данных, позволяющий выгрузить все посты со стены пользователя или сообщества. Для работы нам понадобится библиотека `vk`, ее нужно установить через `pip install vk` в *Anaconda Command Prompt* (см. пример с `selenium` [здесь](https://nbviewer.jupyter.org/github/allatambov/Py-programming-3/blob/master/11-06/lect-selenium1.ipynb)).\n",
    "\n",
    "Импортируем библиотеку:"
   ]
  },
  {
   "cell_type": "code",
   "execution_count": 1,
   "metadata": {},
   "outputs": [],
   "source": [
    "import vk"
   ]
  },
  {
   "cell_type": "markdown",
   "metadata": {},
   "source": [
    "Теперь нужно авторизоваться: создать приложение и получить токен доступа к нему."
   ]
  },
  {
   "cell_type": "markdown",
   "metadata": {},
   "source": [
    "#### Для авторизации:\n",
    "    \n",
    "1. [Создать](https://vk.com/apps?act=manage) приложение ВКонтакте (пройти по ссылке). Дать название, выбрать *Standalone-приложение*.\n",
    "2. Включить приложение, сделать публичным (*Настройки - Состояние* и выбрать в выпадающем меню *Приложение включено и видно всем*).\n",
    "3. Авторизоваться: скопировать строку ниже в браузер, в `client id` вместо 1 выставить `id` своего приложения (первая строка в настроках ‒ *ID приложения*). Если не хочется ни в чем ограничивать свое приложение, можно оставить `scope=all` (у приложения будет доступ ко всему, к чему есть доступ у пользователя).\n",
    "\n",
    "    > ```https://oauth.vk.com/authorize?client_id=1&display=page&redirect_uri=http://oauth.vk.com/blank.html&scope=all&response_type=token```\n",
    "\n",
    "4. Скопировать `access token` из обновленной адресной строки (все после `access_token=` и до `&expires_in`, без `&`). Никому не показывать! По этому токену можно получить доступ ко всему аккаунту."
   ]
  },
  {
   "cell_type": "code",
   "execution_count": 2,
   "metadata": {},
   "outputs": [],
   "source": [
    "# скопировать свой access token без пробелов вместо 1234\n",
    "token = '1234'"
   ]
  },
  {
   "cell_type": "code",
   "execution_count": 3,
   "metadata": {},
   "outputs": [],
   "source": [
    "session = vk.Session(access_token = token) # открыть сессию для работы\n",
    "api = vk.API(session) # подключиться к API"
   ]
  },
  {
   "cell_type": "markdown",
   "metadata": {},
   "source": [
    "Попробуем сгрузить первые 100 постов со [стены](https://vk.com/hseofficial) неофициального сообщества ВШЭ. Сохраним ссылку на сообщество в переменную `group`:"
   ]
  },
  {
   "cell_type": "code",
   "execution_count": 4,
   "metadata": {},
   "outputs": [],
   "source": [
    "group = 'hseofficial'"
   ]
  },
  {
   "cell_type": "markdown",
   "metadata": {},
   "source": [
    "Обратите внимание: ссылка должна быть относительной, то есть без части с `https:/vk.com/`. Python и так будет знать, что мы работаем с сетью ВКонтакте."
   ]
  },
  {
   "cell_type": "markdown",
   "metadata": {},
   "source": [
    "Теперь получим доступ к стене этого сообщества:"
   ]
  },
  {
   "cell_type": "code",
   "execution_count": 5,
   "metadata": {},
   "outputs": [],
   "source": [
    "# wall.get - \"подключаемся\" к стене\n",
    "# count - сколько постов выгрузить (максимум)\n",
    "# v - версия API, можно обойтись без нее, но Python может выдать warning\n",
    "\n",
    "res = api.wall.get(domain = group, count = 100, v = 5.73)"
   ]
  },
  {
   "cell_type": "code",
   "execution_count": 7,
   "metadata": {},
   "outputs": [],
   "source": [
    "res"
   ]
  },
  {
   "cell_type": "markdown",
   "metadata": {},
   "source": [
    "Результат, сохраненный в `res`, очень похож на словарь. На самом деле, многие API возвращают результаты в формате JSON (JavaScript Object Notation), который тоже может быть представлен в виде набора пар ключ-значение."
   ]
  },
  {
   "cell_type": "code",
   "execution_count": 6,
   "metadata": {},
   "outputs": [
    {
     "data": {
      "text/plain": [
       "dict_keys(['count', 'items'])"
      ]
     },
     "execution_count": 6,
     "metadata": {},
     "output_type": "execute_result"
    }
   ],
   "source": [
    "res.keys()"
   ]
  },
  {
   "cell_type": "markdown",
   "metadata": {},
   "source": [
    "Ключами являются `count` и `items`. Нужные нам объекты (текст постов, id автора, дата и время публикации и проч.) находятся в `items`."
   ]
  },
  {
   "cell_type": "code",
   "execution_count": 7,
   "metadata": {},
   "outputs": [
    {
     "data": {
      "text/plain": [
       "{'id': 32689,\n",
       " 'from_id': -132,\n",
       " 'owner_id': -132,\n",
       " 'date': 1561751452,\n",
       " 'marked_as_ads': 0,\n",
       " 'post_type': 'post',\n",
       " 'text': 'https://www.hse.ru/news/admission/291052887.html Абитуриентам бакалавииата',\n",
       " 'signer_id': 6998,\n",
       " 'post_source': {'type': 'mvk'},\n",
       " 'comments': {'count': 1, 'can_post': 1, 'groups_can_post': True},\n",
       " 'likes': {'count': 0, 'user_likes': 0, 'can_like': 1, 'can_publish': 1},\n",
       " 'reposts': {'count': 0, 'user_reposted': 0},\n",
       " 'views': {'count': 1685}}"
      ]
     },
     "execution_count": 7,
     "metadata": {},
     "output_type": "execute_result"
    }
   ],
   "source": [
    "res['items'][0] # первый элемент items - первый пост со всей информацией о нем"
   ]
  },
  {
   "cell_type": "markdown",
   "metadata": {},
   "source": [
    "Помимо текста поста можно найти много всего интересного. Например, тип поста (`post_type`), дата (`date`), id поста (`id`), лайки (`likes`, которые включают информацию о том, могут ли пользователи лайкать пост и публиковать его, а также собственно число лайков), репосты (`reposts`, которые включают число репостов), число просмотров (`views`), комментарии (`comments`, которые включают информацию о том, могут ли пользователи комментировать пост, и число комментариев), и так далее."
   ]
  },
  {
   "cell_type": "markdown",
   "metadata": {},
   "source": [
    "Давайте остановимся на тексте поста, id автора, id поста, дате публикации, числе лайков и репостов. Чтобы извлечь соответствующую информацию, сохраним `items` и извлечем из них нужные поля:"
   ]
  },
  {
   "cell_type": "code",
   "execution_count": 8,
   "metadata": {},
   "outputs": [],
   "source": [
    "items = res['items']"
   ]
  },
  {
   "cell_type": "code",
   "execution_count": 16,
   "metadata": {},
   "outputs": [],
   "source": [
    "full_list = []\n",
    "\n",
    "for item in items:\n",
    "    L = [item['from_id'], item['id'], item['text'], item['date'],\n",
    "        item['likes']['count'], item['reposts']['count']]  # нужные поля\n",
    "    full_list.append(L)  # добавляем в список списков full_list"
   ]
  },
  {
   "cell_type": "code",
   "execution_count": 10,
   "metadata": {},
   "outputs": [
    {
     "data": {
      "text/plain": [
       "[[-132,\n",
       "  32689,\n",
       "  'https://www.hse.ru/news/admission/291052887.html Абитуриентам бакалавииата',\n",
       "  1561751452,\n",
       "  0,\n",
       "  0],\n",
       " [-132,\n",
       "  32686,\n",
       "  'Состоялся очередной выпуск лицея Вышки -самой большой школы страны! https://vk.com/video244696780_456239487',\n",
       "  1561529217,\n",
       "  21,\n",
       "  0],\n",
       " [-132,\n",
       "  32685,\n",
       "  'https://www.kommersant.ru/doc/4011570  Ректор о Вышке и об образовании',\n",
       "  1561521142,\n",
       "  4,\n",
       "  0]]"
      ]
     },
     "execution_count": 10,
     "metadata": {},
     "output_type": "execute_result"
    }
   ],
   "source": [
    "# несколько элементов списка\n",
    "full_list[0:3]"
   ]
  },
  {
   "cell_type": "markdown",
   "metadata": {},
   "source": [
    "Видно, что в некоторых постах текста не обнаружено. "
   ]
  },
  {
   "cell_type": "markdown",
   "metadata": {},
   "source": [
    "Из этого списка списков можно легко сделать датафрейм `pandas`. Но прежде посмотрим, как сгрузить следующие 100 (и не только 100) постов со стены. Обычно при работе с API нужно принимать во внимание две вещи: 1) какое ограничение стоит на число запросов за один раз (число постов в нашем случае); 2) какое ограничение стоит на число запросов в минуту. Чтобы действовать в соответствии с этими ограничениями, поступим так: будем грузить каждые следующие 100 постов, добавлять их к нашему списку, потом немного ждать, и грузить еще 100 постов, и так до тех пор, пока не сгрузим желаемое количество.\n",
    "\n",
    "Давайте для начала выберем это желаемое число постов. Пусть будет 400. "
   ]
  },
  {
   "cell_type": "code",
   "execution_count": 13,
   "metadata": {},
   "outputs": [],
   "source": [
    "nposts = 400"
   ]
  },
  {
   "cell_type": "markdown",
   "metadata": {},
   "source": [
    "Теперь вопрос: по каким значениям нужно «пробегаться» в цикле, чтобы сгрузить посты с 100 по 400 (первые 100 уже сохранены в `res`)? По целым значениям от 2 до 4 включительно, умножая эти значения на 100. В `vk.get` есть опция `offset`. Она позволяет сдвинуть начало отсчета постов на некоторое число. Так, если мы напишем `api.wall.get(domain = group, count = 100, offset = 100, v = 5.73)`,  мы получим посты с 100 по 200, так как начало отсчета сдвинулось на 100."
   ]
  },
  {
   "cell_type": "markdown",
   "metadata": {},
   "source": [
    "Реализуем описанное выше. Для цикла нам понадобится `range()`, а для задержки после выгрузки каждой сотни постов нам пригодится функция `sleep`: "
   ]
  },
  {
   "cell_type": "code",
   "execution_count": 11,
   "metadata": {},
   "outputs": [],
   "source": [
    "from time import sleep"
   ]
  },
  {
   "cell_type": "code",
   "execution_count": 17,
   "metadata": {},
   "outputs": [],
   "source": [
    "for i in range(2, int(nposts/100) + 1):\n",
    "    res2 = api.wall.get(domain = group, count = 100, offset = 100 * i, v = 5.73)\n",
    "    items2 = res2['items']\n",
    "    items.extend(items2) # добавляем к первой сотне постов в items\n",
    "    sleep(10)"
   ]
  },
  {
   "cell_type": "code",
   "execution_count": 18,
   "metadata": {},
   "outputs": [],
   "source": [
    "# опять выберем только нужные поля\n",
    "full_list = []\n",
    "for item in items:\n",
    "    L = [item['from_id'], item['id'], item['text'], item['date'],\n",
    "        item['likes']['count'], item['reposts']['count']]\n",
    "    full_list.append(L)"
   ]
  },
  {
   "cell_type": "markdown",
   "metadata": {},
   "source": [
    "Оставлось превратить обновленный список `items` (список списков) в датафрейм. Импортируем `pandas`."
   ]
  },
  {
   "cell_type": "code",
   "execution_count": 19,
   "metadata": {},
   "outputs": [],
   "source": [
    "import pandas as pd"
   ]
  },
  {
   "cell_type": "markdown",
   "metadata": {},
   "source": [
    "Создадим датафрейм:"
   ]
  },
  {
   "cell_type": "code",
   "execution_count": 20,
   "metadata": {},
   "outputs": [],
   "source": [
    "df = pd.DataFrame(full_list)"
   ]
  },
  {
   "cell_type": "code",
   "execution_count": 21,
   "metadata": {},
   "outputs": [
    {
     "data": {
      "text/html": [
       "<div>\n",
       "<style scoped>\n",
       "    .dataframe tbody tr th:only-of-type {\n",
       "        vertical-align: middle;\n",
       "    }\n",
       "\n",
       "    .dataframe tbody tr th {\n",
       "        vertical-align: top;\n",
       "    }\n",
       "\n",
       "    .dataframe thead th {\n",
       "        text-align: right;\n",
       "    }\n",
       "</style>\n",
       "<table border=\"1\" class=\"dataframe\">\n",
       "  <thead>\n",
       "    <tr style=\"text-align: right;\">\n",
       "      <th></th>\n",
       "      <th>0</th>\n",
       "      <th>1</th>\n",
       "      <th>2</th>\n",
       "      <th>3</th>\n",
       "      <th>4</th>\n",
       "      <th>5</th>\n",
       "    </tr>\n",
       "  </thead>\n",
       "  <tbody>\n",
       "    <tr>\n",
       "      <th>0</th>\n",
       "      <td>-132</td>\n",
       "      <td>32689</td>\n",
       "      <td>https://www.hse.ru/news/admission/291052887.ht...</td>\n",
       "      <td>1561751452</td>\n",
       "      <td>0</td>\n",
       "      <td>0</td>\n",
       "    </tr>\n",
       "    <tr>\n",
       "      <th>1</th>\n",
       "      <td>-132</td>\n",
       "      <td>32686</td>\n",
       "      <td>Состоялся очередной выпуск лицея Вышки -самой ...</td>\n",
       "      <td>1561529217</td>\n",
       "      <td>21</td>\n",
       "      <td>0</td>\n",
       "    </tr>\n",
       "    <tr>\n",
       "      <th>2</th>\n",
       "      <td>-132</td>\n",
       "      <td>32685</td>\n",
       "      <td>https://www.kommersant.ru/doc/4011570  Ректор ...</td>\n",
       "      <td>1561521142</td>\n",
       "      <td>4</td>\n",
       "      <td>0</td>\n",
       "    </tr>\n",
       "    <tr>\n",
       "      <th>3</th>\n",
       "      <td>-132</td>\n",
       "      <td>32684</td>\n",
       "      <td></td>\n",
       "      <td>1561483575</td>\n",
       "      <td>2</td>\n",
       "      <td>0</td>\n",
       "    </tr>\n",
       "    <tr>\n",
       "      <th>4</th>\n",
       "      <td>-132</td>\n",
       "      <td>32683</td>\n",
       "      <td></td>\n",
       "      <td>1561483206</td>\n",
       "      <td>2</td>\n",
       "      <td>1</td>\n",
       "    </tr>\n",
       "    <tr>\n",
       "      <th>5</th>\n",
       "      <td>-132</td>\n",
       "      <td>32676</td>\n",
       "      <td>Митрошкин Андрей, соцкарту нашел добрый челове...</td>\n",
       "      <td>1560711140</td>\n",
       "      <td>4</td>\n",
       "      <td>0</td>\n",
       "    </tr>\n",
       "    <tr>\n",
       "      <th>6</th>\n",
       "      <td>-132</td>\n",
       "      <td>32675</td>\n",
       "      <td>Приглашают студентов вуза Представительство пр...</td>\n",
       "      <td>1560710932</td>\n",
       "      <td>5</td>\n",
       "      <td>1</td>\n",
       "    </tr>\n",
       "    <tr>\n",
       "      <th>7</th>\n",
       "      <td>-132</td>\n",
       "      <td>32674</td>\n",
       "      <td>Поздравляем студентов-логистов с успехом! http...</td>\n",
       "      <td>1560257899</td>\n",
       "      <td>54</td>\n",
       "      <td>3</td>\n",
       "    </tr>\n",
       "    <tr>\n",
       "      <th>8</th>\n",
       "      <td>-132</td>\n",
       "      <td>32671</td>\n",
       "      <td></td>\n",
       "      <td>1559663033</td>\n",
       "      <td>0</td>\n",
       "      <td>0</td>\n",
       "    </tr>\n",
       "    <tr>\n",
       "      <th>9</th>\n",
       "      <td>-132</td>\n",
       "      <td>32662</td>\n",
       "      <td></td>\n",
       "      <td>1559201579</td>\n",
       "      <td>2</td>\n",
       "      <td>0</td>\n",
       "    </tr>\n",
       "  </tbody>\n",
       "</table>\n",
       "</div>"
      ],
      "text/plain": [
       "     0      1                                                  2           3  \\\n",
       "0 -132  32689  https://www.hse.ru/news/admission/291052887.ht...  1561751452   \n",
       "1 -132  32686  Состоялся очередной выпуск лицея Вышки -самой ...  1561529217   \n",
       "2 -132  32685  https://www.kommersant.ru/doc/4011570  Ректор ...  1561521142   \n",
       "3 -132  32684                                                     1561483575   \n",
       "4 -132  32683                                                     1561483206   \n",
       "5 -132  32676  Митрошкин Андрей, соцкарту нашел добрый челове...  1560711140   \n",
       "6 -132  32675  Приглашают студентов вуза Представительство пр...  1560710932   \n",
       "7 -132  32674  Поздравляем студентов-логистов с успехом! http...  1560257899   \n",
       "8 -132  32671                                                     1559663033   \n",
       "9 -132  32662                                                     1559201579   \n",
       "\n",
       "    4  5  \n",
       "0   0  0  \n",
       "1  21  0  \n",
       "2   4  0  \n",
       "3   2  0  \n",
       "4   2  1  \n",
       "5   4  0  \n",
       "6   5  1  \n",
       "7  54  3  \n",
       "8   0  0  \n",
       "9   2  0  "
      ]
     },
     "execution_count": 21,
     "metadata": {},
     "output_type": "execute_result"
    }
   ],
   "source": [
    "df.head(10)"
   ]
  },
  {
   "cell_type": "markdown",
   "metadata": {},
   "source": [
    "Ура! Осталось только дать внятные названия столбцам и разобраться, почему дата представлена в таком виде. что делать со столбцами, мы уже знаем."
   ]
  },
  {
   "cell_type": "code",
   "execution_count": 22,
   "metadata": {},
   "outputs": [
    {
     "data": {
      "text/html": [
       "<div>\n",
       "<style scoped>\n",
       "    .dataframe tbody tr th:only-of-type {\n",
       "        vertical-align: middle;\n",
       "    }\n",
       "\n",
       "    .dataframe tbody tr th {\n",
       "        vertical-align: top;\n",
       "    }\n",
       "\n",
       "    .dataframe thead th {\n",
       "        text-align: right;\n",
       "    }\n",
       "</style>\n",
       "<table border=\"1\" class=\"dataframe\">\n",
       "  <thead>\n",
       "    <tr style=\"text-align: right;\">\n",
       "      <th></th>\n",
       "      <th>from_id</th>\n",
       "      <th>id</th>\n",
       "      <th>text</th>\n",
       "      <th>date</th>\n",
       "      <th>likes</th>\n",
       "      <th>reposts</th>\n",
       "    </tr>\n",
       "  </thead>\n",
       "  <tbody>\n",
       "    <tr>\n",
       "      <th>0</th>\n",
       "      <td>-132</td>\n",
       "      <td>32689</td>\n",
       "      <td>https://www.hse.ru/news/admission/291052887.ht...</td>\n",
       "      <td>1561751452</td>\n",
       "      <td>0</td>\n",
       "      <td>0</td>\n",
       "    </tr>\n",
       "    <tr>\n",
       "      <th>1</th>\n",
       "      <td>-132</td>\n",
       "      <td>32686</td>\n",
       "      <td>Состоялся очередной выпуск лицея Вышки -самой ...</td>\n",
       "      <td>1561529217</td>\n",
       "      <td>21</td>\n",
       "      <td>0</td>\n",
       "    </tr>\n",
       "    <tr>\n",
       "      <th>2</th>\n",
       "      <td>-132</td>\n",
       "      <td>32685</td>\n",
       "      <td>https://www.kommersant.ru/doc/4011570  Ректор ...</td>\n",
       "      <td>1561521142</td>\n",
       "      <td>4</td>\n",
       "      <td>0</td>\n",
       "    </tr>\n",
       "    <tr>\n",
       "      <th>3</th>\n",
       "      <td>-132</td>\n",
       "      <td>32684</td>\n",
       "      <td></td>\n",
       "      <td>1561483575</td>\n",
       "      <td>2</td>\n",
       "      <td>0</td>\n",
       "    </tr>\n",
       "    <tr>\n",
       "      <th>4</th>\n",
       "      <td>-132</td>\n",
       "      <td>32683</td>\n",
       "      <td></td>\n",
       "      <td>1561483206</td>\n",
       "      <td>2</td>\n",
       "      <td>1</td>\n",
       "    </tr>\n",
       "    <tr>\n",
       "      <th>5</th>\n",
       "      <td>-132</td>\n",
       "      <td>32676</td>\n",
       "      <td>Митрошкин Андрей, соцкарту нашел добрый челове...</td>\n",
       "      <td>1560711140</td>\n",
       "      <td>4</td>\n",
       "      <td>0</td>\n",
       "    </tr>\n",
       "    <tr>\n",
       "      <th>6</th>\n",
       "      <td>-132</td>\n",
       "      <td>32675</td>\n",
       "      <td>Приглашают студентов вуза Представительство пр...</td>\n",
       "      <td>1560710932</td>\n",
       "      <td>5</td>\n",
       "      <td>1</td>\n",
       "    </tr>\n",
       "    <tr>\n",
       "      <th>7</th>\n",
       "      <td>-132</td>\n",
       "      <td>32674</td>\n",
       "      <td>Поздравляем студентов-логистов с успехом! http...</td>\n",
       "      <td>1560257899</td>\n",
       "      <td>54</td>\n",
       "      <td>3</td>\n",
       "    </tr>\n",
       "    <tr>\n",
       "      <th>8</th>\n",
       "      <td>-132</td>\n",
       "      <td>32671</td>\n",
       "      <td></td>\n",
       "      <td>1559663033</td>\n",
       "      <td>0</td>\n",
       "      <td>0</td>\n",
       "    </tr>\n",
       "    <tr>\n",
       "      <th>9</th>\n",
       "      <td>-132</td>\n",
       "      <td>32662</td>\n",
       "      <td></td>\n",
       "      <td>1559201579</td>\n",
       "      <td>2</td>\n",
       "      <td>0</td>\n",
       "    </tr>\n",
       "  </tbody>\n",
       "</table>\n",
       "</div>"
      ],
      "text/plain": [
       "   from_id     id                                               text  \\\n",
       "0     -132  32689  https://www.hse.ru/news/admission/291052887.ht...   \n",
       "1     -132  32686  Состоялся очередной выпуск лицея Вышки -самой ...   \n",
       "2     -132  32685  https://www.kommersant.ru/doc/4011570  Ректор ...   \n",
       "3     -132  32684                                                      \n",
       "4     -132  32683                                                      \n",
       "5     -132  32676  Митрошкин Андрей, соцкарту нашел добрый челове...   \n",
       "6     -132  32675  Приглашают студентов вуза Представительство пр...   \n",
       "7     -132  32674  Поздравляем студентов-логистов с успехом! http...   \n",
       "8     -132  32671                                                      \n",
       "9     -132  32662                                                      \n",
       "\n",
       "         date  likes  reposts  \n",
       "0  1561751452      0        0  \n",
       "1  1561529217     21        0  \n",
       "2  1561521142      4        0  \n",
       "3  1561483575      2        0  \n",
       "4  1561483206      2        1  \n",
       "5  1560711140      4        0  \n",
       "6  1560710932      5        1  \n",
       "7  1560257899     54        3  \n",
       "8  1559663033      0        0  \n",
       "9  1559201579      2        0  "
      ]
     },
     "execution_count": 22,
     "metadata": {},
     "output_type": "execute_result"
    }
   ],
   "source": [
    "df.columns = ['from_id', 'id', 'text', 'date', 'likes', 'reposts']\n",
    "df.head(10)"
   ]
  },
  {
   "cell_type": "markdown",
   "metadata": {},
   "source": [
    "С датой все интереснее. То, что указано в столбце `date`, это дата в виде UNIX-времени (POSIX-времени). Это число секунд, прошедших с 1 января 1970 года. Несмотря на то, что такой формат даты-времени кажется необычным, он довольно широко распространен в разных системах и приложениях (см. подробнее [здесь](https://ru.wikipedia.org/wiki/Unix-%D0%B2%D1%80%D0%B5%D0%BC%D1%8F)). Этот факт, конечно, радует, но хочется получить дату в более человеческом формате. Давайте напишем функцию для перевода UNIX-времени в формат *год-месяц-день-часы-минуты-секунды*. Для этого нам понадобится модуль *datetime*."
   ]
  },
  {
   "cell_type": "code",
   "execution_count": 23,
   "metadata": {},
   "outputs": [],
   "source": [
    "from datetime import datetime"
   ]
  },
  {
   "cell_type": "code",
   "execution_count": 24,
   "metadata": {},
   "outputs": [],
   "source": [
    "def date_norm(date):\n",
    "    d = datetime.fromtimestamp(date) # timestamp - UNIX-время в виде строки\n",
    "    str_d = d.strftime(\"%Y-%m-%d %H:%M:%S\") # %Y-%m-%d %H:%M:%S - год-месяц-день, часы:мин:сек\n",
    "    date_norm, time_norm = str_d.split(' ') # разобьем результат на части, отделим дату от времени\n",
    "    return date_norm, time_norm"
   ]
  },
  {
   "cell_type": "markdown",
   "metadata": {},
   "source": [
    "Применим нашу функцию к элементам столбца *date* и создадим новый – *date_norm*."
   ]
  },
  {
   "cell_type": "code",
   "execution_count": 25,
   "metadata": {},
   "outputs": [],
   "source": [
    "df['date_norm'] = df.date.apply(date_norm)"
   ]
  },
  {
   "cell_type": "code",
   "execution_count": 26,
   "metadata": {},
   "outputs": [
    {
     "data": {
      "text/html": [
       "<div>\n",
       "<style scoped>\n",
       "    .dataframe tbody tr th:only-of-type {\n",
       "        vertical-align: middle;\n",
       "    }\n",
       "\n",
       "    .dataframe tbody tr th {\n",
       "        vertical-align: top;\n",
       "    }\n",
       "\n",
       "    .dataframe thead th {\n",
       "        text-align: right;\n",
       "    }\n",
       "</style>\n",
       "<table border=\"1\" class=\"dataframe\">\n",
       "  <thead>\n",
       "    <tr style=\"text-align: right;\">\n",
       "      <th></th>\n",
       "      <th>from_id</th>\n",
       "      <th>id</th>\n",
       "      <th>text</th>\n",
       "      <th>date</th>\n",
       "      <th>likes</th>\n",
       "      <th>reposts</th>\n",
       "      <th>date_norm</th>\n",
       "    </tr>\n",
       "  </thead>\n",
       "  <tbody>\n",
       "    <tr>\n",
       "      <th>0</th>\n",
       "      <td>-132</td>\n",
       "      <td>32689</td>\n",
       "      <td>https://www.hse.ru/news/admission/291052887.ht...</td>\n",
       "      <td>1561751452</td>\n",
       "      <td>0</td>\n",
       "      <td>0</td>\n",
       "      <td>(2019-06-28, 22:50:52)</td>\n",
       "    </tr>\n",
       "    <tr>\n",
       "      <th>1</th>\n",
       "      <td>-132</td>\n",
       "      <td>32686</td>\n",
       "      <td>Состоялся очередной выпуск лицея Вышки -самой ...</td>\n",
       "      <td>1561529217</td>\n",
       "      <td>21</td>\n",
       "      <td>0</td>\n",
       "      <td>(2019-06-26, 09:06:57)</td>\n",
       "    </tr>\n",
       "    <tr>\n",
       "      <th>2</th>\n",
       "      <td>-132</td>\n",
       "      <td>32685</td>\n",
       "      <td>https://www.kommersant.ru/doc/4011570  Ректор ...</td>\n",
       "      <td>1561521142</td>\n",
       "      <td>4</td>\n",
       "      <td>0</td>\n",
       "      <td>(2019-06-26, 06:52:22)</td>\n",
       "    </tr>\n",
       "    <tr>\n",
       "      <th>3</th>\n",
       "      <td>-132</td>\n",
       "      <td>32684</td>\n",
       "      <td></td>\n",
       "      <td>1561483575</td>\n",
       "      <td>2</td>\n",
       "      <td>0</td>\n",
       "      <td>(2019-06-25, 20:26:15)</td>\n",
       "    </tr>\n",
       "    <tr>\n",
       "      <th>4</th>\n",
       "      <td>-132</td>\n",
       "      <td>32683</td>\n",
       "      <td></td>\n",
       "      <td>1561483206</td>\n",
       "      <td>2</td>\n",
       "      <td>1</td>\n",
       "      <td>(2019-06-25, 20:20:06)</td>\n",
       "    </tr>\n",
       "  </tbody>\n",
       "</table>\n",
       "</div>"
      ],
      "text/plain": [
       "   from_id     id                                               text  \\\n",
       "0     -132  32689  https://www.hse.ru/news/admission/291052887.ht...   \n",
       "1     -132  32686  Состоялся очередной выпуск лицея Вышки -самой ...   \n",
       "2     -132  32685  https://www.kommersant.ru/doc/4011570  Ректор ...   \n",
       "3     -132  32684                                                      \n",
       "4     -132  32683                                                      \n",
       "\n",
       "         date  likes  reposts               date_norm  \n",
       "0  1561751452      0        0  (2019-06-28, 22:50:52)  \n",
       "1  1561529217     21        0  (2019-06-26, 09:06:57)  \n",
       "2  1561521142      4        0  (2019-06-26, 06:52:22)  \n",
       "3  1561483575      2        0  (2019-06-25, 20:26:15)  \n",
       "4  1561483206      2        1  (2019-06-25, 20:20:06)  "
      ]
     },
     "execution_count": 26,
     "metadata": {},
     "output_type": "execute_result"
    }
   ],
   "source": [
    "df.head()"
   ]
  },
  {
   "cell_type": "markdown",
   "metadata": {},
   "source": [
    "Можно было, конечно, не разбивать на части дату и время, сохранять одной строкой. А можно написать функции, которые будут отделять дату от времени – извлекать их из кортежа в `date_norm`."
   ]
  },
  {
   "cell_type": "code",
   "execution_count": 27,
   "metadata": {},
   "outputs": [],
   "source": [
    "def get_date(date):\n",
    "    return date[0]\n",
    "\n",
    "def get_time(date):\n",
    "    return date[1]"
   ]
  },
  {
   "cell_type": "code",
   "execution_count": 28,
   "metadata": {},
   "outputs": [],
   "source": [
    "df['Date'] = df.date_norm.apply(get_date)\n",
    "df['Time'] = df.date_norm.apply(get_time)"
   ]
  },
  {
   "cell_type": "code",
   "execution_count": 29,
   "metadata": {},
   "outputs": [
    {
     "data": {
      "text/html": [
       "<div>\n",
       "<style scoped>\n",
       "    .dataframe tbody tr th:only-of-type {\n",
       "        vertical-align: middle;\n",
       "    }\n",
       "\n",
       "    .dataframe tbody tr th {\n",
       "        vertical-align: top;\n",
       "    }\n",
       "\n",
       "    .dataframe thead th {\n",
       "        text-align: right;\n",
       "    }\n",
       "</style>\n",
       "<table border=\"1\" class=\"dataframe\">\n",
       "  <thead>\n",
       "    <tr style=\"text-align: right;\">\n",
       "      <th></th>\n",
       "      <th>from_id</th>\n",
       "      <th>id</th>\n",
       "      <th>text</th>\n",
       "      <th>date</th>\n",
       "      <th>likes</th>\n",
       "      <th>reposts</th>\n",
       "      <th>date_norm</th>\n",
       "      <th>Date</th>\n",
       "      <th>Time</th>\n",
       "    </tr>\n",
       "  </thead>\n",
       "  <tbody>\n",
       "    <tr>\n",
       "      <th>0</th>\n",
       "      <td>-132</td>\n",
       "      <td>32689</td>\n",
       "      <td>https://www.hse.ru/news/admission/291052887.ht...</td>\n",
       "      <td>1561751452</td>\n",
       "      <td>0</td>\n",
       "      <td>0</td>\n",
       "      <td>(2019-06-28, 22:50:52)</td>\n",
       "      <td>2019-06-28</td>\n",
       "      <td>22:50:52</td>\n",
       "    </tr>\n",
       "    <tr>\n",
       "      <th>1</th>\n",
       "      <td>-132</td>\n",
       "      <td>32686</td>\n",
       "      <td>Состоялся очередной выпуск лицея Вышки -самой ...</td>\n",
       "      <td>1561529217</td>\n",
       "      <td>21</td>\n",
       "      <td>0</td>\n",
       "      <td>(2019-06-26, 09:06:57)</td>\n",
       "      <td>2019-06-26</td>\n",
       "      <td>09:06:57</td>\n",
       "    </tr>\n",
       "    <tr>\n",
       "      <th>2</th>\n",
       "      <td>-132</td>\n",
       "      <td>32685</td>\n",
       "      <td>https://www.kommersant.ru/doc/4011570  Ректор ...</td>\n",
       "      <td>1561521142</td>\n",
       "      <td>4</td>\n",
       "      <td>0</td>\n",
       "      <td>(2019-06-26, 06:52:22)</td>\n",
       "      <td>2019-06-26</td>\n",
       "      <td>06:52:22</td>\n",
       "    </tr>\n",
       "    <tr>\n",
       "      <th>3</th>\n",
       "      <td>-132</td>\n",
       "      <td>32684</td>\n",
       "      <td></td>\n",
       "      <td>1561483575</td>\n",
       "      <td>2</td>\n",
       "      <td>0</td>\n",
       "      <td>(2019-06-25, 20:26:15)</td>\n",
       "      <td>2019-06-25</td>\n",
       "      <td>20:26:15</td>\n",
       "    </tr>\n",
       "    <tr>\n",
       "      <th>4</th>\n",
       "      <td>-132</td>\n",
       "      <td>32683</td>\n",
       "      <td></td>\n",
       "      <td>1561483206</td>\n",
       "      <td>2</td>\n",
       "      <td>1</td>\n",
       "      <td>(2019-06-25, 20:20:06)</td>\n",
       "      <td>2019-06-25</td>\n",
       "      <td>20:20:06</td>\n",
       "    </tr>\n",
       "  </tbody>\n",
       "</table>\n",
       "</div>"
      ],
      "text/plain": [
       "   from_id     id                                               text  \\\n",
       "0     -132  32689  https://www.hse.ru/news/admission/291052887.ht...   \n",
       "1     -132  32686  Состоялся очередной выпуск лицея Вышки -самой ...   \n",
       "2     -132  32685  https://www.kommersant.ru/doc/4011570  Ректор ...   \n",
       "3     -132  32684                                                      \n",
       "4     -132  32683                                                      \n",
       "\n",
       "         date  likes  reposts               date_norm        Date      Time  \n",
       "0  1561751452      0        0  (2019-06-28, 22:50:52)  2019-06-28  22:50:52  \n",
       "1  1561529217     21        0  (2019-06-26, 09:06:57)  2019-06-26  09:06:57  \n",
       "2  1561521142      4        0  (2019-06-26, 06:52:22)  2019-06-26  06:52:22  \n",
       "3  1561483575      2        0  (2019-06-25, 20:26:15)  2019-06-25  20:26:15  \n",
       "4  1561483206      2        1  (2019-06-25, 20:20:06)  2019-06-25  20:20:06  "
      ]
     },
     "execution_count": 29,
     "metadata": {},
     "output_type": "execute_result"
    }
   ],
   "source": [
    "df.head()"
   ]
  },
  {
   "cell_type": "markdown",
   "metadata": {},
   "source": [
    "Всё! Материалы о разных методах и функциях для `vk.api` можно найти в [официальной документации](https://vk.com/dev/manuals). "
   ]
  }
 ],
 "metadata": {
  "kernelspec": {
   "display_name": "Python 3",
   "language": "python",
   "name": "python3"
  },
  "language_info": {
   "codemirror_mode": {
    "name": "ipython",
    "version": 3
   },
   "file_extension": ".py",
   "mimetype": "text/x-python",
   "name": "python",
   "nbconvert_exporter": "python",
   "pygments_lexer": "ipython3",
   "version": "3.6.8"
  }
 },
 "nbformat": 4,
 "nbformat_minor": 2
}
