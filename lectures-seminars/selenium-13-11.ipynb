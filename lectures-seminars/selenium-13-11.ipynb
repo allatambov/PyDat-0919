{
 "cells": [
  {
   "cell_type": "code",
   "execution_count": 1,
   "metadata": {},
   "outputs": [
    {
     "name": "stdout",
     "output_type": "stream",
     "text": [
      "Collecting selenium\n",
      "  Downloading https://files.pythonhosted.org/packages/80/d6/4294f0b4bce4de0abf13e17190289f9d0613b0a44e5dd6a7f5ca98459853/selenium-3.141.0-py2.py3-none-any.whl (904kB)\n",
      "Requirement already satisfied: urllib3 in c:\\users\\student\\anaconda3\\lib\\site-packages (from selenium) (1.24.2)\n",
      "Installing collected packages: selenium\n",
      "Successfully installed selenium-3.141.0\n"
     ]
    }
   ],
   "source": [
    "! pip install selenium"
   ]
  },
  {
   "cell_type": "code",
   "execution_count": 2,
   "metadata": {},
   "outputs": [],
   "source": [
    "import selenium"
   ]
  },
  {
   "cell_type": "code",
   "execution_count": 3,
   "metadata": {},
   "outputs": [],
   "source": [
    "from selenium import webdriver as wb"
   ]
  },
  {
   "cell_type": "code",
   "execution_count": 5,
   "metadata": {},
   "outputs": [],
   "source": [
    "br = wb.Chrome('D:/Downloads/chromedriver.exe') "
   ]
  },
  {
   "cell_type": "code",
   "execution_count": 6,
   "metadata": {},
   "outputs": [],
   "source": [
    "br.get('http://www.cikrf.ru/services/lk_address/?do=find_by_uik') "
   ]
  },
  {
   "cell_type": "code",
   "execution_count": 7,
   "metadata": {},
   "outputs": [],
   "source": [
    "n_uik = 244\n",
    "reg = \"Ивановская область\" "
   ]
  },
  {
   "cell_type": "code",
   "execution_count": 8,
   "metadata": {},
   "outputs": [],
   "source": [
    "uik_field = br.find_element_by_css_selector(\"#uik\")\n",
    "\n",
    "uik_field.send_keys(n_uik) "
   ]
  },
  {
   "cell_type": "code",
   "execution_count": 10,
   "metadata": {},
   "outputs": [],
   "source": [
    "reg_field = br.find_element_by_name('subject')\n",
    "reg_field.send_keys(reg) "
   ]
  },
  {
   "cell_type": "code",
   "execution_count": 11,
   "metadata": {},
   "outputs": [],
   "source": [
    "button = br.find_element_by_link_text(\"Отправить запрос\")\n",
    "button.click() "
   ]
  },
  {
   "cell_type": "code",
   "execution_count": 13,
   "metadata": {},
   "outputs": [],
   "source": [
    "page = br.page_source"
   ]
  },
  {
   "cell_type": "code",
   "execution_count": 14,
   "metadata": {},
   "outputs": [
    {
     "data": {
      "text/plain": [
       "str"
      ]
     },
     "execution_count": 14,
     "metadata": {},
     "output_type": "execute_result"
    }
   ],
   "source": [
    "type(page)"
   ]
  },
  {
   "cell_type": "code",
   "execution_count": 20,
   "metadata": {},
   "outputs": [],
   "source": [
    "addr = page.split('Адрес помещения для голосования:')[1].split('</p>')[0]  "
   ]
  },
  {
   "cell_type": "code",
   "execution_count": 21,
   "metadata": {},
   "outputs": [],
   "source": [
    "br = wb.Chrome('D:/Downloads/chromedriver.exe') \n",
    "\n",
    "def get_address(n_uik, reg):\n",
    "    br.get('http://www.cikrf.ru/services/lk_address/?do=find_by_uik') \n",
    "    \n",
    "    uik_field = br.find_element_by_css_selector(\"#uik\")\n",
    "    uik_field.send_keys(n_uik) \n",
    "    reg_field = br.find_element_by_name('subject')\n",
    "    reg_field.send_keys(reg) \n",
    "    button = br.find_element_by_link_text(\"Отправить запрос\")\n",
    "    button.click() \n",
    "    page = br.page_source\n",
    "    addr = page.split('Адрес помещения для голосования:')[1].split('</p>')[0]  \n",
    "    return addr"
   ]
  },
  {
   "cell_type": "code",
   "execution_count": 22,
   "metadata": {},
   "outputs": [
    {
     "data": {
      "text/plain": [
       "' 155800, Ивановская область, городской округ Кинешма, город Кинешма, улица Воеводы Боборыкина, дом 53, здание школы №11'"
      ]
     },
     "execution_count": 22,
     "metadata": {},
     "output_type": "execute_result"
    }
   ],
   "source": [
    "get_address(248, \"Ивановская область\") "
   ]
  },
  {
   "cell_type": "code",
   "execution_count": 23,
   "metadata": {},
   "outputs": [],
   "source": [
    "from time import sleep\n",
    "\n",
    "info = []\n",
    "for u in range(200, 301):\n",
    "    try:\n",
    "        sleep(1.5) \n",
    "        a = get_address(u, \"Ивановская область\")\n",
    "        info.append(a)\n",
    "    except:\n",
    "        info.append(None)"
   ]
  },
  {
   "cell_type": "code",
   "execution_count": 26,
   "metadata": {},
   "outputs": [],
   "source": [
    "uiks = list(zip(range(200, 301), info))"
   ]
  },
  {
   "cell_type": "code",
   "execution_count": 27,
   "metadata": {},
   "outputs": [
    {
     "data": {
      "text/html": [
       "<div>\n",
       "<style scoped>\n",
       "    .dataframe tbody tr th:only-of-type {\n",
       "        vertical-align: middle;\n",
       "    }\n",
       "\n",
       "    .dataframe tbody tr th {\n",
       "        vertical-align: top;\n",
       "    }\n",
       "\n",
       "    .dataframe thead th {\n",
       "        text-align: right;\n",
       "    }\n",
       "</style>\n",
       "<table border=\"1\" class=\"dataframe\">\n",
       "  <thead>\n",
       "    <tr style=\"text-align: right;\">\n",
       "      <th></th>\n",
       "      <th>0</th>\n",
       "      <th>1</th>\n",
       "    </tr>\n",
       "  </thead>\n",
       "  <tbody>\n",
       "    <tr>\n",
       "      <th>0</th>\n",
       "      <td>200</td>\n",
       "      <td>153003, Ивановская область, городской округ И...</td>\n",
       "    </tr>\n",
       "    <tr>\n",
       "      <th>1</th>\n",
       "      <td>201</td>\n",
       "      <td>153003, Ивановская область, городской округ И...</td>\n",
       "    </tr>\n",
       "    <tr>\n",
       "      <th>2</th>\n",
       "      <td>202</td>\n",
       "      <td>153003, Ивановская область, городской округ И...</td>\n",
       "    </tr>\n",
       "    <tr>\n",
       "      <th>3</th>\n",
       "      <td>203</td>\n",
       "      <td>153003, Ивановская область, городской округ И...</td>\n",
       "    </tr>\n",
       "    <tr>\n",
       "      <th>4</th>\n",
       "      <td>204</td>\n",
       "      <td>153003, Ивановская область, городской округ И...</td>\n",
       "    </tr>\n",
       "    <tr>\n",
       "      <th>5</th>\n",
       "      <td>205</td>\n",
       "      <td>None</td>\n",
       "    </tr>\n",
       "    <tr>\n",
       "      <th>6</th>\n",
       "      <td>206</td>\n",
       "      <td>153003, Ивановская область, городской округ И...</td>\n",
       "    </tr>\n",
       "    <tr>\n",
       "      <th>7</th>\n",
       "      <td>207</td>\n",
       "      <td>153031, Ивановская область, городской округ И...</td>\n",
       "    </tr>\n",
       "    <tr>\n",
       "      <th>8</th>\n",
       "      <td>208</td>\n",
       "      <td>153031, Ивановская область, городской округ И...</td>\n",
       "    </tr>\n",
       "    <tr>\n",
       "      <th>9</th>\n",
       "      <td>209</td>\n",
       "      <td>153003, Ивановская область, городской округ И...</td>\n",
       "    </tr>\n",
       "    <tr>\n",
       "      <th>10</th>\n",
       "      <td>210</td>\n",
       "      <td>153003, Ивановская область, городской округ И...</td>\n",
       "    </tr>\n",
       "    <tr>\n",
       "      <th>11</th>\n",
       "      <td>211</td>\n",
       "      <td>153021, Ивановская область, городской округ И...</td>\n",
       "    </tr>\n",
       "    <tr>\n",
       "      <th>12</th>\n",
       "      <td>212</td>\n",
       "      <td>153021, Ивановская область, городской округ И...</td>\n",
       "    </tr>\n",
       "    <tr>\n",
       "      <th>13</th>\n",
       "      <td>213</td>\n",
       "      <td>153003, Ивановская область, городской округ И...</td>\n",
       "    </tr>\n",
       "    <tr>\n",
       "      <th>14</th>\n",
       "      <td>214</td>\n",
       "      <td>153003, Ивановская область, городской округ И...</td>\n",
       "    </tr>\n",
       "    <tr>\n",
       "      <th>15</th>\n",
       "      <td>215</td>\n",
       "      <td>153003, Ивановская область, городской округ И...</td>\n",
       "    </tr>\n",
       "    <tr>\n",
       "      <th>16</th>\n",
       "      <td>216</td>\n",
       "      <td>153003, Ивановская область, городской округ И...</td>\n",
       "    </tr>\n",
       "    <tr>\n",
       "      <th>17</th>\n",
       "      <td>217</td>\n",
       "      <td>153011, Ивановская область, городской округ И...</td>\n",
       "    </tr>\n",
       "    <tr>\n",
       "      <th>18</th>\n",
       "      <td>218</td>\n",
       "      <td>153021, Ивановская область, городской округ И...</td>\n",
       "    </tr>\n",
       "    <tr>\n",
       "      <th>19</th>\n",
       "      <td>219</td>\n",
       "      <td>153021, Ивановская область, городской округ И...</td>\n",
       "    </tr>\n",
       "    <tr>\n",
       "      <th>20</th>\n",
       "      <td>220</td>\n",
       "      <td>153021, Ивановская область, городской округ И...</td>\n",
       "    </tr>\n",
       "    <tr>\n",
       "      <th>21</th>\n",
       "      <td>221</td>\n",
       "      <td>153021, Ивановская область, городской округ И...</td>\n",
       "    </tr>\n",
       "    <tr>\n",
       "      <th>22</th>\n",
       "      <td>222</td>\n",
       "      <td>153021, Ивановская область, городской округ И...</td>\n",
       "    </tr>\n",
       "    <tr>\n",
       "      <th>23</th>\n",
       "      <td>223</td>\n",
       "      <td>155330, Ивановская область, городской округ В...</td>\n",
       "    </tr>\n",
       "    <tr>\n",
       "      <th>24</th>\n",
       "      <td>224</td>\n",
       "      <td>155335, Ивановская область, городской округ В...</td>\n",
       "    </tr>\n",
       "    <tr>\n",
       "      <th>25</th>\n",
       "      <td>225</td>\n",
       "      <td>155331, Ивановская область, городской округ В...</td>\n",
       "    </tr>\n",
       "    <tr>\n",
       "      <th>26</th>\n",
       "      <td>226</td>\n",
       "      <td>155331, Ивановская область, городской округ В...</td>\n",
       "    </tr>\n",
       "    <tr>\n",
       "      <th>27</th>\n",
       "      <td>227</td>\n",
       "      <td>155332, Ивановская область, городской округ В...</td>\n",
       "    </tr>\n",
       "    <tr>\n",
       "      <th>28</th>\n",
       "      <td>228</td>\n",
       "      <td>155331, Ивановская область, городской округ В...</td>\n",
       "    </tr>\n",
       "    <tr>\n",
       "      <th>29</th>\n",
       "      <td>229</td>\n",
       "      <td>155331, Ивановская область, городской округ В...</td>\n",
       "    </tr>\n",
       "    <tr>\n",
       "      <th>...</th>\n",
       "      <td>...</td>\n",
       "      <td>...</td>\n",
       "    </tr>\n",
       "    <tr>\n",
       "      <th>71</th>\n",
       "      <td>271</td>\n",
       "      <td>155800, Ивановская область, городской округ К...</td>\n",
       "    </tr>\n",
       "    <tr>\n",
       "      <th>72</th>\n",
       "      <td>272</td>\n",
       "      <td>155800, Ивановская область, городской округ К...</td>\n",
       "    </tr>\n",
       "    <tr>\n",
       "      <th>73</th>\n",
       "      <td>273</td>\n",
       "      <td>155800, Ивановская область, городской округ К...</td>\n",
       "    </tr>\n",
       "    <tr>\n",
       "      <th>74</th>\n",
       "      <td>274</td>\n",
       "      <td>155800, Ивановская область, городской округ К...</td>\n",
       "    </tr>\n",
       "    <tr>\n",
       "      <th>75</th>\n",
       "      <td>275</td>\n",
       "      <td>155800, Ивановская область, городской округ К...</td>\n",
       "    </tr>\n",
       "    <tr>\n",
       "      <th>76</th>\n",
       "      <td>276</td>\n",
       "      <td>155800, Ивановская область, городской округ К...</td>\n",
       "    </tr>\n",
       "    <tr>\n",
       "      <th>77</th>\n",
       "      <td>277</td>\n",
       "      <td>None</td>\n",
       "    </tr>\n",
       "    <tr>\n",
       "      <th>78</th>\n",
       "      <td>278</td>\n",
       "      <td>155800, Ивановская область, городской округ К...</td>\n",
       "    </tr>\n",
       "    <tr>\n",
       "      <th>79</th>\n",
       "      <td>279</td>\n",
       "      <td>155800, Ивановская область, городской округ К...</td>\n",
       "    </tr>\n",
       "    <tr>\n",
       "      <th>80</th>\n",
       "      <td>280</td>\n",
       "      <td>155800, Ивановская область, городской округ К...</td>\n",
       "    </tr>\n",
       "    <tr>\n",
       "      <th>81</th>\n",
       "      <td>281</td>\n",
       "      <td>155800, Ивановская область, городской округ К...</td>\n",
       "    </tr>\n",
       "    <tr>\n",
       "      <th>82</th>\n",
       "      <td>282</td>\n",
       "      <td>155800, Ивановская область, городской округ К...</td>\n",
       "    </tr>\n",
       "    <tr>\n",
       "      <th>83</th>\n",
       "      <td>283</td>\n",
       "      <td>155800, Ивановская область, городской округ К...</td>\n",
       "    </tr>\n",
       "    <tr>\n",
       "      <th>84</th>\n",
       "      <td>284</td>\n",
       "      <td>155800, Ивановская область, городской округ К...</td>\n",
       "    </tr>\n",
       "    <tr>\n",
       "      <th>85</th>\n",
       "      <td>285</td>\n",
       "      <td>155800, Ивановская область, городской округ К...</td>\n",
       "    </tr>\n",
       "    <tr>\n",
       "      <th>86</th>\n",
       "      <td>286</td>\n",
       "      <td>155800, Ивановская область, городской округ К...</td>\n",
       "    </tr>\n",
       "    <tr>\n",
       "      <th>87</th>\n",
       "      <td>287</td>\n",
       "      <td>155800, Ивановская область, городской округ К...</td>\n",
       "    </tr>\n",
       "    <tr>\n",
       "      <th>88</th>\n",
       "      <td>288</td>\n",
       "      <td>155800, Ивановская область, городской округ К...</td>\n",
       "    </tr>\n",
       "    <tr>\n",
       "      <th>89</th>\n",
       "      <td>289</td>\n",
       "      <td>155800, Ивановская область, городской округ К...</td>\n",
       "    </tr>\n",
       "    <tr>\n",
       "      <th>90</th>\n",
       "      <td>290</td>\n",
       "      <td>153510, Ивановская область, городской округ К...</td>\n",
       "    </tr>\n",
       "    <tr>\n",
       "      <th>91</th>\n",
       "      <td>291</td>\n",
       "      <td>153510, Ивановская область, городской округ К...</td>\n",
       "    </tr>\n",
       "    <tr>\n",
       "      <th>92</th>\n",
       "      <td>292</td>\n",
       "      <td>153510, Ивановская область, городской округ К...</td>\n",
       "    </tr>\n",
       "    <tr>\n",
       "      <th>93</th>\n",
       "      <td>293</td>\n",
       "      <td>153511, Ивановская область, городской округ К...</td>\n",
       "    </tr>\n",
       "    <tr>\n",
       "      <th>94</th>\n",
       "      <td>294</td>\n",
       "      <td>153511, Ивановская область, городской округ К...</td>\n",
       "    </tr>\n",
       "    <tr>\n",
       "      <th>95</th>\n",
       "      <td>295</td>\n",
       "      <td>153511, Ивановская область, городской округ К...</td>\n",
       "    </tr>\n",
       "    <tr>\n",
       "      <th>96</th>\n",
       "      <td>296</td>\n",
       "      <td>153511, Ивановская область, городской округ К...</td>\n",
       "    </tr>\n",
       "    <tr>\n",
       "      <th>97</th>\n",
       "      <td>297</td>\n",
       "      <td>153511, Ивановская область, городской округ К...</td>\n",
       "    </tr>\n",
       "    <tr>\n",
       "      <th>98</th>\n",
       "      <td>298</td>\n",
       "      <td>153511, Ивановская область, городской округ К...</td>\n",
       "    </tr>\n",
       "    <tr>\n",
       "      <th>99</th>\n",
       "      <td>299</td>\n",
       "      <td>153511, Ивановская область, городской округ К...</td>\n",
       "    </tr>\n",
       "    <tr>\n",
       "      <th>100</th>\n",
       "      <td>300</td>\n",
       "      <td>153510, Ивановская область, городской округ К...</td>\n",
       "    </tr>\n",
       "  </tbody>\n",
       "</table>\n",
       "<p>101 rows × 2 columns</p>\n",
       "</div>"
      ],
      "text/plain": [
       "       0                                                  1\n",
       "0    200   153003, Ивановская область, городской округ И...\n",
       "1    201   153003, Ивановская область, городской округ И...\n",
       "2    202   153003, Ивановская область, городской округ И...\n",
       "3    203   153003, Ивановская область, городской округ И...\n",
       "4    204   153003, Ивановская область, городской округ И...\n",
       "5    205                                               None\n",
       "6    206   153003, Ивановская область, городской округ И...\n",
       "7    207   153031, Ивановская область, городской округ И...\n",
       "8    208   153031, Ивановская область, городской округ И...\n",
       "9    209   153003, Ивановская область, городской округ И...\n",
       "10   210   153003, Ивановская область, городской округ И...\n",
       "11   211   153021, Ивановская область, городской округ И...\n",
       "12   212   153021, Ивановская область, городской округ И...\n",
       "13   213   153003, Ивановская область, городской округ И...\n",
       "14   214   153003, Ивановская область, городской округ И...\n",
       "15   215   153003, Ивановская область, городской округ И...\n",
       "16   216   153003, Ивановская область, городской округ И...\n",
       "17   217   153011, Ивановская область, городской округ И...\n",
       "18   218   153021, Ивановская область, городской округ И...\n",
       "19   219   153021, Ивановская область, городской округ И...\n",
       "20   220   153021, Ивановская область, городской округ И...\n",
       "21   221   153021, Ивановская область, городской округ И...\n",
       "22   222   153021, Ивановская область, городской округ И...\n",
       "23   223   155330, Ивановская область, городской округ В...\n",
       "24   224   155335, Ивановская область, городской округ В...\n",
       "25   225   155331, Ивановская область, городской округ В...\n",
       "26   226   155331, Ивановская область, городской округ В...\n",
       "27   227   155332, Ивановская область, городской округ В...\n",
       "28   228   155331, Ивановская область, городской округ В...\n",
       "29   229   155331, Ивановская область, городской округ В...\n",
       "..   ...                                                ...\n",
       "71   271   155800, Ивановская область, городской округ К...\n",
       "72   272   155800, Ивановская область, городской округ К...\n",
       "73   273   155800, Ивановская область, городской округ К...\n",
       "74   274   155800, Ивановская область, городской округ К...\n",
       "75   275   155800, Ивановская область, городской округ К...\n",
       "76   276   155800, Ивановская область, городской округ К...\n",
       "77   277                                               None\n",
       "78   278   155800, Ивановская область, городской округ К...\n",
       "79   279   155800, Ивановская область, городской округ К...\n",
       "80   280   155800, Ивановская область, городской округ К...\n",
       "81   281   155800, Ивановская область, городской округ К...\n",
       "82   282   155800, Ивановская область, городской округ К...\n",
       "83   283   155800, Ивановская область, городской округ К...\n",
       "84   284   155800, Ивановская область, городской округ К...\n",
       "85   285   155800, Ивановская область, городской округ К...\n",
       "86   286   155800, Ивановская область, городской округ К...\n",
       "87   287   155800, Ивановская область, городской округ К...\n",
       "88   288   155800, Ивановская область, городской округ К...\n",
       "89   289   155800, Ивановская область, городской округ К...\n",
       "90   290   153510, Ивановская область, городской округ К...\n",
       "91   291   153510, Ивановская область, городской округ К...\n",
       "92   292   153510, Ивановская область, городской округ К...\n",
       "93   293   153511, Ивановская область, городской округ К...\n",
       "94   294   153511, Ивановская область, городской округ К...\n",
       "95   295   153511, Ивановская область, городской округ К...\n",
       "96   296   153511, Ивановская область, городской округ К...\n",
       "97   297   153511, Ивановская область, городской округ К...\n",
       "98   298   153511, Ивановская область, городской округ К...\n",
       "99   299   153511, Ивановская область, городской округ К...\n",
       "100  300   153510, Ивановская область, городской округ К...\n",
       "\n",
       "[101 rows x 2 columns]"
      ]
     },
     "execution_count": 27,
     "metadata": {},
     "output_type": "execute_result"
    }
   ],
   "source": [
    "import pandas as pd\n",
    "df = pd.DataFrame(uiks)\n",
    "df"
   ]
  },
  {
   "cell_type": "code",
   "execution_count": 28,
   "metadata": {},
   "outputs": [],
   "source": [
    "br = wb.Chrome('D:/Downloads/chromedriver.exe') \n",
    "br.get(\"http://www.biblio-globus.ru/\") "
   ]
  },
  {
   "cell_type": "code",
   "execution_count": 29,
   "metadata": {},
   "outputs": [],
   "source": [
    "search = br.find_element_by_css_selector('#search_string')\n",
    "search.send_keys(\"python\")"
   ]
  },
  {
   "cell_type": "code",
   "execution_count": 30,
   "metadata": {},
   "outputs": [],
   "source": [
    "button = br.find_element_by_css_selector(\"#search_submit\")\n",
    "button.click() "
   ]
  },
  {
   "cell_type": "code",
   "execution_count": 31,
   "metadata": {},
   "outputs": [],
   "source": [
    "page = br.page_source"
   ]
  },
  {
   "cell_type": "code",
   "execution_count": 33,
   "metadata": {},
   "outputs": [],
   "source": [
    "from bs4 import BeautifulSoup\n",
    "soup = BeautifulSoup(page) "
   ]
  },
  {
   "cell_type": "code",
   "execution_count": 38,
   "metadata": {},
   "outputs": [],
   "source": [
    "au_raw = soup.findAll('div', {'class' : 'author'}) \n",
    "au = [i.text for i in au_raw] "
   ]
  },
  {
   "cell_type": "code",
   "execution_count": 42,
   "metadata": {},
   "outputs": [],
   "source": [
    "bo_raw = soup.findAll('a', {'class':'name'})\n",
    "bo = [j.text for j in bo_raw] "
   ]
  },
  {
   "cell_type": "code",
   "execution_count": 48,
   "metadata": {},
   "outputs": [],
   "source": [
    "pr = soup.findAll('div', {'class':'title_data price'})\n",
    "prices = [k.findAll('span')[0].text for k in pr]  "
   ]
  },
  {
   "cell_type": "code",
   "execution_count": 50,
   "metadata": {},
   "outputs": [],
   "source": [
    "prices_final = [int(p.split(',')[0]) for p in prices]"
   ]
  },
  {
   "cell_type": "code",
   "execution_count": null,
   "metadata": {},
   "outputs": [],
   "source": []
  }
 ],
 "metadata": {
  "kernelspec": {
   "display_name": "Python 3",
   "language": "python",
   "name": "python3"
  },
  "language_info": {
   "codemirror_mode": {
    "name": "ipython",
    "version": 3
   },
   "file_extension": ".py",
   "mimetype": "text/x-python",
   "name": "python",
   "nbconvert_exporter": "python",
   "pygments_lexer": "ipython3",
   "version": "3.7.3"
  }
 },
 "nbformat": 4,
 "nbformat_minor": 2
}
