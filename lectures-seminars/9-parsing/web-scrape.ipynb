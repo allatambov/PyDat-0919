{
 "cells": [
  {
   "cell_type": "markdown",
   "metadata": {},
   "source": [
    "# Python для анализа данных\n",
    "\n",
    "*Алла Тамбовцева, НИУ ВШЭ*"
   ]
  },
  {
   "cell_type": "markdown",
   "metadata": {},
   "source": [
    "## Web-scraping\n",
    "\n",
    "Мы уже немного познакомились со структурой html-файлов, теперь попробуем выгрузить информацию из реальной страницы, а точнее, с реального сайта [nplus1.ru](https://nplus1.ru/).\n",
    "\n",
    "**Наша задача:** выгрузить недавние новости в датафрейм `pandas`, чтобы потом сохранить все в csv-файл.\n",
    "\n",
    "Сначала сгрузим весь html-код страницы и сохраним его в отдельную переменную. Для этого нам понадобится библиотека `requests`. Импортируем её:"
   ]
  },
  {
   "cell_type": "code",
   "execution_count": 1,
   "metadata": {},
   "outputs": [],
   "source": [
    "import requests"
   ]
  },
  {
   "cell_type": "markdown",
   "metadata": {},
   "source": [
    "Сохраним ссылку на главную страницу сайта в переменную `url` для удобства и выгрузим страницу. (Разумеется, это будет работать при подключении к интернету. Если соединение будет отключено, Python выдаст `NewConnectionError`)."
   ]
  },
  {
   "cell_type": "code",
   "execution_count": 2,
   "metadata": {},
   "outputs": [],
   "source": [
    "url = 'https://nplus1.ru/' # сохраняем\n",
    "page = requests.get(url) # загружаем страницу по ссылке"
   ]
  },
  {
   "cell_type": "markdown",
   "metadata": {},
   "source": [
    "Если мы просто посмотрим на объект, мы ничего особенного не увидим:"
   ]
  },
  {
   "cell_type": "code",
   "execution_count": 3,
   "metadata": {},
   "outputs": [
    {
     "data": {
      "text/plain": [
       "<Response [200]>"
      ]
     },
     "execution_count": 3,
     "metadata": {},
     "output_type": "execute_result"
    }
   ],
   "source": [
    "page  # response 200 - страница загружена"
   ]
  },
  {
   "cell_type": "markdown",
   "metadata": {},
   "source": [
    "Импортируем функцию `BeautifulSoup` из библиотеки `bs4` (от *beautifulsoup4*) и заберём со страницы `page` код html в виде текста. "
   ]
  },
  {
   "cell_type": "code",
   "execution_count": 4,
   "metadata": {},
   "outputs": [],
   "source": [
    "from bs4 import BeautifulSoup  # не спрашивайте, почему BeautifulSoup"
   ]
  },
  {
   "cell_type": "code",
   "execution_count": 5,
   "metadata": {},
   "outputs": [],
   "source": [
    "soup = BeautifulSoup(page.text, 'lxml')"
   ]
  },
  {
   "cell_type": "markdown",
   "metadata": {},
   "source": [
    "Если выведем `soup` на экран, мы увидим то же самое, что в режиме разработчика или в режиме происмотра исходного кода (`view-source` через *Ctrl+U* в Google Chrome)."
   ]
  },
  {
   "cell_type": "code",
   "execution_count": null,
   "metadata": {},
   "outputs": [],
   "source": [
    "soup"
   ]
  },
  {
   "cell_type": "markdown",
   "metadata": {},
   "source": [
    "Для просмотра выглядит не очень удобно.  «Причешем» наш `soup` – воспользуемся методом `.prettify()` в сочетании с функцией `print()`."
   ]
  },
  {
   "cell_type": "code",
   "execution_count": null,
   "metadata": {},
   "outputs": [],
   "source": [
    "print(soup.prettify())"
   ]
  },
  {
   "cell_type": "markdown",
   "metadata": {},
   "source": [
    "В такой выдаче ориентироваться гораздо удобнее (но при желании, то же можно увидеть в браузере, на большом экране)."
   ]
  },
  {
   "cell_type": "markdown",
   "metadata": {},
   "source": [
    "Чтобы сгрузить все новости с главной страницы сайта, нужно собрать все ссылки на страницы с этими новостями. Ссылки в html-файле всегда заключены в тэг `<a></a>` и имеют атрибут `href`. Посмотрим на кусочки кода, соответствующие всем ссылкам на главной странице сайта:"
   ]
  },
  {
   "cell_type": "code",
   "execution_count": 6,
   "metadata": {},
   "outputs": [
    {
     "name": "stdout",
     "output_type": "stream",
     "text": [
      "#\n",
      "/\n",
      "#\n",
      "#\n",
      "/rubric/astronomy\n",
      "/rubric/physics\n",
      "/rubric/biology\n",
      "/rubric/robots-drones\n",
      "/theme/oops\n",
      "/theme/economy-literature\n",
      "/theme/hayabusa\n",
      "/theme/art-of-integration\n",
      "/\n",
      "#\n",
      "/rubric/astronomy\n",
      "/rubric/physics\n",
      "/rubric/biology\n",
      "/rubric/robots-drones\n",
      "#\n",
      "/theme/oops\n",
      "/theme/economy-literature\n",
      "/theme/hayabusa\n",
      "/theme/art-of-integration\n",
      "https://nplus1.ru/blog/2019/03/27/five-years-deadline\n",
      "https://nplus1.ru/blog/2019/03/27/five-years-deadline\n",
      "https://nplus1.ru/blog/2019/03/26/limb-183\n",
      "https://nplus1.ru/blog/2019/03/25/ben-franklin-effect\n",
      "https://nplus1.ru/blog/2019/03/22/a-history-of-private-life\n",
      "https://nplus1.ru/blog/2019/03/22/spanish-princess\n",
      "https://nplus1.ru/blog/2019/03/21/climate-change-of-the-dead\n",
      "https://nplus1.ru/blog/2019/03/21/half-fathers\n",
      "https://nplus1.ru/blog/2019/03/20/coins-manufactering\n",
      "https://nplus1.ru/blog/2019/03/18/map-of-the-universe\n",
      "https://nplus1.ru/blog/2019/03/28/what-about-labioldentals\n",
      "/news/2019/03/31/first\n",
      "/news/2019/03/30/very-big-boulder-on-Bennu\n",
      "/news/2019/03/30/PSP-two-flyby\n",
      "/news/2019/03/30/functional-brain-map\n",
      "/news/2019/03/30/seizure-odour\n",
      "/news/2019/03/30/id-capsule\n",
      "/news/2019/03/29/mars-helicopter-fly-now\n",
      "/material/2019/03/29/psycho-batman\n",
      "/rubric/mezzanine\n",
      "/news/2019/03/29/ABRACADABRA\n",
      "/news/2019/03/29/nz-apple-picker\n",
      "/news/2019/03/29/i-know-kung-fu\n",
      "/news/2019/03/29/warming-leads-to-cruelty\n",
      "/news/2019/03/29/ghost-faces\n",
      "/news/2019/03/29/language-storage\n",
      "/blog/2019/03/29/the-revolutionary-genius-of-plants\n",
      "/blog/2019/03/28/what-about-labioldentals\n",
      "/material/2019/03/28/head-transplantation\n",
      "/rubric/medicine\n",
      "/material/2019/03/27/tetanus\n",
      "/rubric/medicine\n",
      "/news/2019/03/29/island-building\n",
      "/news/2019/03/29/deep-water-mars\n",
      "/news/2019/03/29/curaxins\n",
      "/news/2019/03/29/inflation-falsification\n",
      "/news/2019/03/29/sooo-tiny\n",
      "/news/2019/03/29/small-moons-of-Saturn\n",
      "/blog/2019/03/27/five-years-deadline\n",
      "/blog/2019/03/26/limb-183\n",
      "/news/2019/03/26/learning-languages\n",
      "/rubric/partners\n",
      "/material/2019/03/25/120-element\n",
      "/rubric/physics\n",
      "/theme/phys\n",
      "/news/2019/03/26/dark-system\n",
      "/news/2019/03/29/language-storage\n",
      "/news/2019/03/27/schizo-genes\n",
      "/news/2019/03/29/curaxins\n",
      "/news/2019/03/29/inflation-falsification\n",
      "/news/2019/03/26/efremovka-ancient-solar-flare\n",
      "/news/2019/03/29/ABRACADABRA\n",
      "/news/2019/03/27/exoplanet-interferometry\n",
      "/news/2019/03/26/quantum-radiation-pressure-noise\n",
      "/news/2019/03/29/ghost-faces\n",
      "https://nplus1.ru/blog/2019/03/27/five-years-deadline\n",
      "https://nplus1.ru/blog/2019/03/27/five-years-deadline\n",
      "https://nplus1.ru/blog/2019/03/26/limb-183\n",
      "https://nplus1.ru/blog/2019/03/25/ben-franklin-effect\n",
      "https://nplus1.ru/blog/2019/03/22/a-history-of-private-life\n",
      "https://nplus1.ru/blog/2019/03/22/spanish-princess\n",
      "https://nplus1.ru/blog/2019/03/21/climate-change-of-the-dead\n",
      "https://nplus1.ru/blog/2019/03/21/half-fathers\n",
      "https://nplus1.ru/blog/2019/03/20/coins-manufactering\n",
      "https://nplus1.ru/blog/2019/03/18/map-of-the-universe\n",
      "https://nplus1.ru/blog/2019/03/28/what-about-labioldentals\n",
      "/\n",
      "/about\n",
      "/adv\n",
      "/rules\n",
      "/vacancy\n",
      "/difficult\n",
      "https://nplus1.ru/personal-data-policy\n",
      "#\n",
      "https://t.me/nplusone\n",
      "http://vk.com/nplusone\n",
      "https://www.facebook.com/nplusone\n",
      "https://twitter.com/nplusodin\n",
      "https://ok.ru/nplus1\n",
      "https://soundcloud.com/nplus_1\n",
      "/rss\n"
     ]
    }
   ],
   "source": [
    "for link in soup.find_all('a'):\n",
    "    print(link.get('href'))"
   ]
  },
  {
   "cell_type": "markdown",
   "metadata": {},
   "source": [
    "Ссылок много. Но нам нужны только новости – ссылки, которые начинаются со слова `/news`. Добавим условие: будем выбирать только те ссылки, в которых есть `/news`. Создадим пустой список `urls` и будем добавлять в него только ссылки, которые удовлетворяют этому условию."
   ]
  },
  {
   "cell_type": "code",
   "execution_count": 7,
   "metadata": {},
   "outputs": [
    {
     "data": {
      "text/plain": [
       "['/news/2019/03/31/first',\n",
       " '/news/2019/03/30/very-big-boulder-on-Bennu',\n",
       " '/news/2019/03/30/PSP-two-flyby',\n",
       " '/news/2019/03/30/functional-brain-map',\n",
       " '/news/2019/03/30/seizure-odour',\n",
       " '/news/2019/03/30/id-capsule',\n",
       " '/news/2019/03/29/mars-helicopter-fly-now',\n",
       " '/news/2019/03/29/ABRACADABRA',\n",
       " '/news/2019/03/29/nz-apple-picker',\n",
       " '/news/2019/03/29/i-know-kung-fu',\n",
       " '/news/2019/03/29/warming-leads-to-cruelty',\n",
       " '/news/2019/03/29/ghost-faces',\n",
       " '/news/2019/03/29/language-storage',\n",
       " '/news/2019/03/29/island-building',\n",
       " '/news/2019/03/29/deep-water-mars',\n",
       " '/news/2019/03/29/curaxins',\n",
       " '/news/2019/03/29/inflation-falsification',\n",
       " '/news/2019/03/29/sooo-tiny',\n",
       " '/news/2019/03/29/small-moons-of-Saturn',\n",
       " '/news/2019/03/26/learning-languages',\n",
       " '/news/2019/03/26/dark-system',\n",
       " '/news/2019/03/29/language-storage',\n",
       " '/news/2019/03/27/schizo-genes',\n",
       " '/news/2019/03/29/curaxins',\n",
       " '/news/2019/03/29/inflation-falsification',\n",
       " '/news/2019/03/26/efremovka-ancient-solar-flare',\n",
       " '/news/2019/03/29/ABRACADABRA',\n",
       " '/news/2019/03/27/exoplanet-interferometry',\n",
       " '/news/2019/03/26/quantum-radiation-pressure-noise',\n",
       " '/news/2019/03/29/ghost-faces']"
      ]
     },
     "execution_count": 7,
     "metadata": {},
     "output_type": "execute_result"
    }
   ],
   "source": [
    "urls = []\n",
    "\n",
    "for link in soup.find_all('a'):\n",
    "    if '/news' in link.get('href'):\n",
    "        urls.append(link.get('href'))\n",
    "urls"
   ]
  },
  {
   "cell_type": "markdown",
   "metadata": {},
   "source": [
    "Ссылки, которые у нас есть в списке `urls`, относительные: они неполные, начало ссылки (название сайта) отсутствует. Давайте превратим их в абсолютные ‒ склеим с ссылкой https://nplus1.ru."
   ]
  },
  {
   "cell_type": "code",
   "execution_count": 8,
   "metadata": {},
   "outputs": [
    {
     "data": {
      "text/plain": [
       "['https://nplus1.ru/news/2019/03/31/first',\n",
       " 'https://nplus1.ru/news/2019/03/30/very-big-boulder-on-Bennu',\n",
       " 'https://nplus1.ru/news/2019/03/30/PSP-two-flyby',\n",
       " 'https://nplus1.ru/news/2019/03/30/functional-brain-map',\n",
       " 'https://nplus1.ru/news/2019/03/30/seizure-odour',\n",
       " 'https://nplus1.ru/news/2019/03/30/id-capsule',\n",
       " 'https://nplus1.ru/news/2019/03/29/mars-helicopter-fly-now',\n",
       " 'https://nplus1.ru/news/2019/03/29/ABRACADABRA',\n",
       " 'https://nplus1.ru/news/2019/03/29/nz-apple-picker',\n",
       " 'https://nplus1.ru/news/2019/03/29/i-know-kung-fu',\n",
       " 'https://nplus1.ru/news/2019/03/29/warming-leads-to-cruelty',\n",
       " 'https://nplus1.ru/news/2019/03/29/ghost-faces',\n",
       " 'https://nplus1.ru/news/2019/03/29/language-storage',\n",
       " 'https://nplus1.ru/news/2019/03/29/island-building',\n",
       " 'https://nplus1.ru/news/2019/03/29/deep-water-mars',\n",
       " 'https://nplus1.ru/news/2019/03/29/curaxins',\n",
       " 'https://nplus1.ru/news/2019/03/29/inflation-falsification',\n",
       " 'https://nplus1.ru/news/2019/03/29/sooo-tiny',\n",
       " 'https://nplus1.ru/news/2019/03/29/small-moons-of-Saturn',\n",
       " 'https://nplus1.ru/news/2019/03/26/learning-languages',\n",
       " 'https://nplus1.ru/news/2019/03/26/dark-system',\n",
       " 'https://nplus1.ru/news/2019/03/29/language-storage',\n",
       " 'https://nplus1.ru/news/2019/03/27/schizo-genes',\n",
       " 'https://nplus1.ru/news/2019/03/29/curaxins',\n",
       " 'https://nplus1.ru/news/2019/03/29/inflation-falsification',\n",
       " 'https://nplus1.ru/news/2019/03/26/efremovka-ancient-solar-flare',\n",
       " 'https://nplus1.ru/news/2019/03/29/ABRACADABRA',\n",
       " 'https://nplus1.ru/news/2019/03/27/exoplanet-interferometry',\n",
       " 'https://nplus1.ru/news/2019/03/26/quantum-radiation-pressure-noise',\n",
       " 'https://nplus1.ru/news/2019/03/29/ghost-faces']"
      ]
     },
     "execution_count": 8,
     "metadata": {},
     "output_type": "execute_result"
    }
   ],
   "source": [
    "full_urls = []\n",
    "\n",
    "for u in urls:\n",
    "    res = 'https://nplus1.ru' + u\n",
    "    full_urls.append(res) \n",
    "\n",
    "full_urls"
   ]
  },
  {
   "cell_type": "markdown",
   "metadata": {},
   "source": [
    "Теперь наша задача сводится к следующему: изучить одну страницу с новостью, научиться из нее вытаскивать текст и всю необходимую информацию, а потом применить весь набор действий к каждой ссылке из `full_urls` в цикле. Посмотрим на новость с индексом 1, у вас может быть другая, новости обновляются."
   ]
  },
  {
   "cell_type": "code",
   "execution_count": 9,
   "metadata": {},
   "outputs": [],
   "source": [
    "url0 = full_urls[1]\n",
    "\n",
    "page0 = requests.get(url0)\n",
    "soup0 = BeautifulSoup(page0.text, 'lxml')"
   ]
  },
  {
   "cell_type": "markdown",
   "metadata": {},
   "source": [
    "В коде каждой страницы с новостью есть часть с мета-информацией: датой, именем автора и проч. Такая информация окружена тэгом `<meta></meta>`. Посмотрим:"
   ]
  },
  {
   "cell_type": "code",
   "execution_count": 10,
   "metadata": {},
   "outputs": [
    {
     "data": {
      "text/plain": [
       "[<meta charset=\"utf-8\"/>,\n",
       " <meta content=\"ie=edge\" http-equiv=\"x-ua-compatible\"/>,\n",
       " <meta content=\"width=device-width, initial-scale=1\" name=\"viewport\"/>,\n",
       " <meta content=\"yes\" name=\"apple-mobile-web-app-capable\"/>,\n",
       " <meta content=\"black\" name=\"apple-mobile-web-app-status-bar-style\"/>,\n",
       " <meta content=\"2019-03-30\" itemprop=\"datePublished\"/>,\n",
       " <meta content=\"Александр Войтюк\" name=\"mediator_author\"/>,\n",
       " <meta content=\"В создании стереопары принял участие астрофизик и гитарист группы Queen Брайан Мэй\" name=\"description\"/>,\n",
       " <meta content=\"Александр Войтюк\" name=\"author\"/>,\n",
       " <meta content=\"\" name=\"copyright\"/>,\n",
       " <meta content=\"OSIRIS-REx показал 52-метровую скалу на поверхности Бенну\" property=\"og:title\"/>,\n",
       " <meta content=\"https://nplus1.ru/images/2019/03/30/e784de84c7da53249343a3d0e3a124b3.gif\" property=\"og:image\"/>,\n",
       " <meta content=\"https://nplus1.ru/news/2019/03/30/very-big-boulder-on-Bennu\" property=\"og:url\"/>,\n",
       " <meta content=\"В создании стереопары принял участие астрофизик и гитарист группы Queen Брайан Мэй\" property=\"og:description\"/>,\n",
       " <meta content=\"summary_large_image\" name=\"twitter:card\"/>,\n",
       " <meta content=\"@nplusodin\" name=\"twitter:site\"/>,\n",
       " <meta content=\"OSIRIS-REx показал 52-метровую скалу на поверхности Бенну\" name=\"twitter:title\"/>,\n",
       " <meta content=\"В создании стереопары принял участие астрофизик и гитарист группы Queen Брайан Мэй\" name=\"twitter:description\"/>,\n",
       " <meta content=\"https://nplus1.ru/images/2019/03/30/e784de84c7da53249343a3d0e3a124b3.gif\" name=\"twitter:image\"/>,\n",
       " <meta content=\"8c90b02c84ac3b72\" name=\"yandex-verification\"/>]"
      ]
     },
     "execution_count": 10,
     "metadata": {},
     "output_type": "execute_result"
    }
   ],
   "source": [
    "soup0.find_all('meta')"
   ]
  },
  {
   "cell_type": "markdown",
   "metadata": {},
   "source": [
    "Из этого списка нам нужны части с именем автора, датой, заголовком и кратким описанием. Воспользуемся поиском по атрибуту `name`. Передадим функции `find_all()` в качестве аргумента словарь с названием и значением атрибута: "
   ]
  },
  {
   "cell_type": "code",
   "execution_count": 11,
   "metadata": {},
   "outputs": [
    {
     "data": {
      "text/plain": [
       "[<meta content=\"Александр Войтюк\" name=\"author\"/>]"
      ]
     },
     "execution_count": 11,
     "metadata": {},
     "output_type": "execute_result"
    }
   ],
   "source": [
    "soup0.find_all('meta', {'name' : 'author'}) # например, автор"
   ]
  },
  {
   "cell_type": "markdown",
   "metadata": {},
   "source": [
    "Теперь выберем единственный элемент полученного списка (с индексом 0):"
   ]
  },
  {
   "cell_type": "code",
   "execution_count": 12,
   "metadata": {},
   "outputs": [
    {
     "data": {
      "text/plain": [
       "<meta content=\"Александр Войтюк\" name=\"author\"/>"
      ]
     },
     "execution_count": 12,
     "metadata": {},
     "output_type": "execute_result"
    }
   ],
   "source": [
    "soup0.find_all('meta', {'name' : 'author'})[0]"
   ]
  },
  {
   "cell_type": "markdown",
   "metadata": {},
   "source": [
    "Нам нужно вытащить из этого объекта `content` – имя автора. Посмотрим на атрибуты:"
   ]
  },
  {
   "cell_type": "code",
   "execution_count": 13,
   "metadata": {},
   "outputs": [
    {
     "data": {
      "text/plain": [
       "{'name': 'author', 'content': 'Александр Войтюк'}"
      ]
     },
     "execution_count": 13,
     "metadata": {},
     "output_type": "execute_result"
    }
   ],
   "source": [
    "soup0.find_all('meta', {'name' : 'author'})[0].attrs"
   ]
  },
  {
   "cell_type": "markdown",
   "metadata": {},
   "source": [
    "Как получить отсюда `content`? Очень просто, ведь это словарь! А доставать из словаря значение по ключу мы умеем."
   ]
  },
  {
   "cell_type": "code",
   "execution_count": 14,
   "metadata": {},
   "outputs": [
    {
     "data": {
      "text/plain": [
       "'Александр Войтюк'"
      ]
     },
     "execution_count": 14,
     "metadata": {},
     "output_type": "execute_result"
    }
   ],
   "source": [
    "author = soup0.find_all('meta', {'name' : 'author'})[0].attrs['content']\n",
    "author"
   ]
  },
  {
   "cell_type": "markdown",
   "metadata": {},
   "source": [
    "Аналогичным образом извлечем дату, заголовок и описание."
   ]
  },
  {
   "cell_type": "code",
   "execution_count": 15,
   "metadata": {},
   "outputs": [],
   "source": [
    "date = soup0.find_all('meta', {'itemprop' : 'datePublished'})[0].attrs['content']\n",
    "title = soup0.find_all('meta', {'property' : 'og:title'})[0].attrs['content']\n",
    "description = soup0.find_all('meta', {'name' : 'description'})[0].attrs['content']"
   ]
  },
  {
   "cell_type": "markdown",
   "metadata": {},
   "source": [
    "Осталось вытащить рубрики и сложность текста. Если мы посмотрим на исходный код страницы, мы увидим, что нужная нам информация находится в тэгах `<p></p>`:"
   ]
  },
  {
   "cell_type": "code",
   "execution_count": 16,
   "metadata": {},
   "outputs": [
    {
     "data": {
      "text/plain": [
       "[<p class=\"table\">\n",
       " <a data-rubric=\"astronomy\" href=\"/rubric/astronomy\">Астрономия</a>\n",
       " </p>, <p class=\"table\">\n",
       " <a href=\"/news/2019/03/30\">\n",
       " <time content=\"2019-03-30\" data-unix=\"1553957085\" itemprop=\"datePublished\">\n",
       " <span>17:44</span>\n",
       " <span>30 Март 2019</span>\n",
       " </time>\n",
       " </a>\n",
       " </p>, <p class=\"table\">\n",
       " <a href=\"/difficult/2.3\">\n",
       " <span>Сложность</span>\n",
       " <span class=\"difficult-value\">2.3</span>\n",
       " </a>\n",
       " </p>, <p class=\"title\"></p>, <p class=\"credits\">NASA/Goddard/University of Arizona/Roman Tkachenko</p>, <p>Исследователи из команды миссии OSIRIS-REx создали стереопару, благодаря которой можно ощутить в объеме 52-метровую скалу на поверхности астероида Бенну. Подобные изображения помогут в выборе места для забора пробы грунта с астероида, <a href=\"https://www.asteroidmission.org/bennus-boulder-1-stereo-pair-stereoscope-version/\" rel=\"nofollow\" target=\"_blank\" title=\"Link: https://www.asteroidmission.org/bennus-boulder-1-stereo-pair-stereoscope-version/\">сообщается</a> на сайте миссии.</p>, <p>Старт автоматической межпланетной станции OSIRIS-REx <a href=\"https://nplus1.ru/news/2016/09/09/osiris-start\" target=\"_blank\">состоялся</a> в сентябре 2016 года. Главная цель миссии — изучение 500-метрового околоземного астероида <a href=\"https://ru.wikipedia.org/wiki/(101955)_%D0%91%D0%B5%D0%BD%D0%BD%D1%83\" rel=\"nofollow\" target=\"_blank\" title=\"Link: https://ru.wikipedia.org/wiki/(101955)_%D0%91%D0%B5%D0%BD%D0%BD%D1%83\">(101955) Бенну</a>, относящегося к спектральному <a href=\"https://ru.wikipedia.org/wiki/%D0%90%D1%81%D1%82%D0%B5%D1%80%D0%BE%D0%B8%D0%B4_%D0%BA%D0%BB%D0%B0%D1%81%D1%81%D0%B0_B\" rel=\"nofollow\" target=\"_blank\" title=\"Link: https://ru.wikipedia.org/wiki/%D0%90%D1%81%D1%82%D0%B5%D1%80%D0%BE%D0%B8%D0%B4_%D0%BA%D0%BB%D0%B0%D1%81%D1%81%D0%B0_B\">классу В</a>. Станция <a href=\"https://nplus1.ru/news/2018/12/03/arrival-to-bennu\" target=\"_blank\">достигла</a> своей цели 3 декабря 2018 года, после чего начала изучение состава грунта при помощи спектрометров. Ожидается, что в начале июля 2020 года станция сблизится с поверхностью астероида и при помощи специального манипулятора соберет с нее 60 граммов пыли и фрагментов породы. После этого в марте 2021 года космический аппарат отправится к Земле и сбросит капсулу с грунтом в сентябре 2023 года.</p>, <p>Фотографии валуна на астероиде, из которых было смонтирована стереопара, были получены 1 и 2 декабря 2018 года бортовой камерой PolyCam во время фазы финального сближения OSIRIS-Rex с астероидом. Размер скалы — 52 метра, а находится она в южном полушарии астероида. Скала уходит вглубь поверхности и может быть выступающей частью одного из фрагментов родительского тела астероида. </p>, <p>Примечательно, что в работе принял участие Брайан Мэй — гитарист рок-группы Queen и астрофизик, который в январе официально вошел в состав команды миссии и будет в дальнейшем создавать подобные изображения для помощи в выборе места забора пробы грунта с Бенну. Вторым ученым, работающим над проектом, стала астрофизик Клаудия Манцони (Claudia Manzoni).</p>, <p></p>, <p class=\"title\"></p>, <p class=\"credits\">NASA/Goddard/University of Arizona</p>, <p>Исследование астероида Бенну может дать важную информацию о формировании и эволюции Солнечной системы, включая и ответ на вопрос о том, какие малые тела могут быть ответственны за поставку аминокислот и воды на молодую Землю. О том, что уже узнали ученые об астероиде, читайте в нашем специальном материале <a href=\"https://nplus1.ru/material/2019/03/20/about-Bennu\" target=\"_blank\" title=\"Link: https://nplus1.ru/material/2019/03/20/about-Bennu\">«Небесное тело алмазной формы»</a>.</p>, <p><i>Александр Войтюк</i></p>, <p><br/></p>, <p>Нашли опечатку? Выделите фрагмент и нажмите Ctrl+Enter.</p>, <p class=\"subtitle\">Загляни в душу самому известному персонажу DC Comics</p>, <p>Коэффициент сложности</p>, <p>Коэффициент сложности</p>, <p>Коэффициент сложности</p>, <p>Коэффициент сложности</p>, <p>Коэффициент сложности</p>, <p>Коэффициент сложности</p>, <p>Коэффициент сложности</p>, <p>Коэффициент сложности</p>, <p>Коэффициент сложности</p>, <p>Коэффициент сложности</p>, <p>© 2019 N+1 Интернет-издание   Свидетельство о регистрации СМИ Эл № ФС77-67614</p>, <p>Использование всех текстовых материалов без изменений в некоммерческих целях разрешается со ссылкой на N+1. \n",
       "                         Все аудиовизуальные произведения являются собственностью своих авторов и правообладателей и используются \n",
       "                         только в образовательных и информационных целях. Если вы являетесь собственником того или иного произведения \n",
       "                         и не согласны с его размещением на нашем сайте, пожалуйста, напишите на kirill@nplus1.ru</p>, <p>Материалы, опубликованные в разделе «Блоги», отражают позиции их авторов, которые могут не совпадать с мнением редакции.</p>, <p>Сайт может содержать контент, не предназначенный для лиц младше 18 лет.</p>, <p>\n",
       " <a class=\"pd\" href=\"https://nplus1.ru/personal-data-policy\">Политика обработки персональных данных пользователей сайта</a>\n",
       " </p>, <p>\n",
       " <script async=\"\" src=\"//s.luxupcdnc.com/t/consent_195458.js\" type=\"text/javascript\"></script>\n",
       " <a href=\"#\" onclick=\"if(window.__lxG__consent__ !== undefined) {window.__lxG__consent__.showConsent()} else {alert('This function works only for users from the European Economic Area (EEA).')}; return false\">Change privacy settings</a>\n",
       " </p>, <p>\n",
       " </p>]"
      ]
     },
     "execution_count": 16,
     "metadata": {},
     "output_type": "execute_result"
    }
   ],
   "source": [
    "soup0.find_all('p')"
   ]
  },
  {
   "cell_type": "markdown",
   "metadata": {},
   "source": [
    "Выберем из полученного списка первый элемент и найдем в нем все тэги `<a>`:"
   ]
  },
  {
   "cell_type": "code",
   "execution_count": 17,
   "metadata": {},
   "outputs": [
    {
     "data": {
      "text/plain": [
       "[<a data-rubric=\"astronomy\" href=\"/rubric/astronomy\">Астрономия</a>]"
      ]
     },
     "execution_count": 17,
     "metadata": {},
     "output_type": "execute_result"
    }
   ],
   "source": [
    "soup0.find_all('p')[0].find_all('a')"
   ]
  },
  {
   "cell_type": "markdown",
   "metadata": {},
   "source": [
    "Получился список из одного элемента. Применим списковые включения – вытащим из каждого элемента (их могло бы быть больше) текст и поместим его в новый список `rubrics`."
   ]
  },
  {
   "cell_type": "code",
   "execution_count": 18,
   "metadata": {},
   "outputs": [
    {
     "data": {
      "text/plain": [
       "['Астрономия']"
      ]
     },
     "execution_count": 18,
     "metadata": {},
     "output_type": "execute_result"
    }
   ],
   "source": [
    "rubrics = [r.text for r in soup0.find_all('p')[0].find_all('a')]\n",
    "rubrics"
   ]
  },
  {
   "cell_type": "markdown",
   "metadata": {},
   "source": [
    "Осталась только сложность. Возьмем соответствующий кусок кода:"
   ]
  },
  {
   "cell_type": "code",
   "execution_count": 19,
   "metadata": {},
   "outputs": [
    {
     "data": {
      "text/plain": [
       "[<span class=\"difficult-value\">2.3</span>]"
      ]
     },
     "execution_count": 19,
     "metadata": {},
     "output_type": "execute_result"
    }
   ],
   "source": [
    "soup0.find_all('span', {'class' : 'difficult-value'})"
   ]
  },
  {
   "cell_type": "markdown",
   "metadata": {},
   "source": [
    "И выберем оттуда текст."
   ]
  },
  {
   "cell_type": "code",
   "execution_count": 20,
   "metadata": {},
   "outputs": [
    {
     "data": {
      "text/plain": [
       "'2.3'"
      ]
     },
     "execution_count": 20,
     "metadata": {},
     "output_type": "execute_result"
    }
   ],
   "source": [
    "diff = soup0.find_all('span', {'class' : 'difficult-value'})[0].text\n",
    "diff"
   ]
  },
  {
   "cell_type": "markdown",
   "metadata": {},
   "source": [
    "Теперь перейдем к тексту самой новости. Как можно заметить, текст сохранен в абзацах `<p></p>`, причем безо всяких атрибутов. Сообщим Python, что нас интересуют куски с пустым атрибутом `class`:"
   ]
  },
  {
   "cell_type": "code",
   "execution_count": 21,
   "metadata": {},
   "outputs": [],
   "source": [
    "text_list = soup0.find_all('p', {'class' : None})"
   ]
  },
  {
   "cell_type": "markdown",
   "metadata": {},
   "source": [
    "«Выцепим» все тексты (без тэгов) из полученного списка:"
   ]
  },
  {
   "cell_type": "code",
   "execution_count": 22,
   "metadata": {},
   "outputs": [],
   "source": [
    "text = [t.text for t in text_list]"
   ]
  },
  {
   "cell_type": "markdown",
   "metadata": {},
   "source": [
    "Склеим все элементы списка `text` через пробел:"
   ]
  },
  {
   "cell_type": "code",
   "execution_count": 23,
   "metadata": {},
   "outputs": [
    {
     "data": {
      "text/plain": [
       "'Исследователи из команды миссии OSIRIS-REx создали стереопару, благодаря которой можно ощутить в объеме 52-метровую скалу на поверхности астероида Бенну. Подобные изображения помогут в выборе места для забора пробы грунта с астероида, сообщается\\xa0на сайте миссии. Старт автоматической межпланетной станции OSIRIS-REx состоялся в сентябре 2016 года. Главная цель миссии — изучение 500-метрового околоземного астероида\\xa0(101955) Бенну, относящегося к спектральному классу В. Станция достигла своей цели 3 декабря 2018 года, после чего начала изучение состава грунта при помощи спектрометров. Ожидается, что в начале июля 2020 года станция сблизится с поверхностью астероида и при помощи специального манипулятора соберет с нее 60 граммов пыли и фрагментов породы. После этого в марте 2021 года космический аппарат отправится к Земле и сбросит капсулу с грунтом в сентябре 2023 года. Фотографии валуна на астероиде, из которых было смонтирована стереопара, были получены 1 и 2 декабря 2018 года бортовой камерой PolyCam во время фазы финального сближения OSIRIS-Rex с астероидом. Размер скалы — 52 метра, а находится она в южном полушарии астероида. Скала уходит вглубь поверхности и может быть выступающей частью одного из фрагментов родительского тела астероида.\\xa0 Примечательно, что в работе принял участие Брайан Мэй — гитарист рок-группы Queen и астрофизик, который в январе официально вошел в состав команды миссии и будет в дальнейшем создавать подобные изображения для помощи в выборе места забора пробы грунта с Бенну. Вторым ученым, работающим над проектом, стала астрофизик Клаудия Манцони (Claudia Manzoni).  Исследование астероида Бенну может дать важную информацию о формировании и эволюции Солнечной системы, включая и ответ на вопрос о том, какие малые тела могут быть ответственны за поставку аминокислот и воды на молодую Землю. О том, что уже узнали ученые об астероиде, читайте в нашем специальном материале «Небесное тело алмазной формы». Александр Войтюк  Нашли опечатку? Выделите фрагмент и нажмите Ctrl+Enter. Коэффициент сложности Коэффициент сложности Коэффициент сложности Коэффициент сложности Коэффициент сложности Коэффициент сложности Коэффициент сложности Коэффициент сложности Коэффициент сложности Коэффициент сложности © 2019 N+1 Интернет-издание \\xa0 Свидетельство о регистрации СМИ Эл № ФС77-67614 Использование всех текстовых материалов без изменений в некоммерческих целях разрешается со ссылкой на N+1. \\n                        Все аудиовизуальные произведения являются собственностью своих авторов и правообладателей и используются \\n                        только в образовательных и информационных целях. Если вы являетесь собственником того или иного произведения \\n                        и не согласны с его размещением на нашем сайте, пожалуйста, напишите на kirill@nplus1.ru Материалы, опубликованные в разделе «Блоги», отражают позиции их авторов, которые могут не совпадать с мнением редакции. Сайт может содержать контент, не предназначенный для лиц младше 18 лет. \\nПолитика обработки персональных данных пользователей сайта\\n \\n\\nChange privacy settings\\n \\n'"
      ]
     },
     "execution_count": 23,
     "metadata": {},
     "output_type": "execute_result"
    }
   ],
   "source": [
    "final_text = ' '.join(text)\n",
    "final_text"
   ]
  },
  {
   "cell_type": "markdown",
   "metadata": {},
   "source": [
    "Все здорово, только мешают отступы-переходы на новую строку `\\n`. Заменим их на пробелы с помощью метода `.replace`:"
   ]
  },
  {
   "cell_type": "code",
   "execution_count": 24,
   "metadata": {},
   "outputs": [],
   "source": [
    "final_text = final_text.replace('\\n', ' ')"
   ]
  },
  {
   "cell_type": "markdown",
   "metadata": {},
   "source": [
    "Не прошло и двух пар, как мы разобрались со всем :) Теперь осталось совсем чуть-чуть. Написать готовую функцию для всех проделанных нами действий и применить ее в цикле для всех ссылок в списке `full_urls`. Напишем! Аргументом функции будет ссылка на новость, а возвращать она будет текст новости и всю необходимую информацию (дата, автор, сложность и проч.). Скопируем все строки кода выше."
   ]
  },
  {
   "cell_type": "code",
   "execution_count": 25,
   "metadata": {},
   "outputs": [],
   "source": [
    "def GetNews(url0):\n",
    "    \"\"\"\n",
    "    Returns a tuple with url0, date, author, description, title, final_text, rubrics, diff.\n",
    "    Parameters:\n",
    "    \n",
    "    url0 is a link to the news (string)\n",
    "    \"\"\"\n",
    "    page0 = requests.get(url0)\n",
    "    soup0 = BeautifulSoup(page0.text, 'lxml')\n",
    "    author = soup0.find_all('meta', {'name' : 'author'})[0].attrs['content']\n",
    "    date = soup0.find_all('meta', {'itemprop' : 'datePublished'})[0].attrs['content']\n",
    "    title = soup0.find_all('meta', {'property' : 'og:title'})[0].attrs['content']\n",
    "    description = soup0.find_all('meta', {'name' : 'description'})[0].attrs['content']\n",
    "    rubrics = [r.text for r in soup0.find_all('p')[0].find_all('a')]\n",
    "    diff = soup0.find_all('span', {'class' : 'difficult-value'})[0].text\n",
    "    text_list = soup0.find_all('p', {'class' : None})\n",
    "    text = [t.text for t in text_list]\n",
    "    final_text = ' '.join(text)\n",
    "    final_text = final_text.replace('\\n', ' ')\n",
    "    \n",
    "    return url0, date, author, description, title, final_text, rubrics, diff"
   ]
  },
  {
   "cell_type": "markdown",
   "metadata": {},
   "source": [
    "Уфф. Осталось применить ее в цикле. Но давайте не будем спешить: импортируем функцию `sleep` для задержки, чтобы на каждой итерации цикла, прежде чем перейти к следующей новости, Python ждал несколько секунд. Во-первых, это нужно, чтобы сайт «не понял», чтобы мы его грабим, да еще автоматически. Во-вторых, с небольшой задержкой всегда есть гарантия, что страница прогрузится (сейчас это пока не очень важно, но особенно актуально будет, когда будем обсуждать встраивание в браузер с Selenium). Приступим."
   ]
  },
  {
   "cell_type": "code",
   "execution_count": 26,
   "metadata": {},
   "outputs": [],
   "source": [
    "from time import sleep"
   ]
  },
  {
   "cell_type": "code",
   "execution_count": 27,
   "metadata": {},
   "outputs": [],
   "source": [
    "news = [] # это будет список из кортежей, в которых будут храниться данные по каждой новости\n",
    "\n",
    "for link in full_urls:\n",
    "    res = GetNews(link)\n",
    "    news.append(res)\n",
    "    sleep(3) # задержка в 3 секунды"
   ]
  },
  {
   "cell_type": "markdown",
   "metadata": {},
   "source": [
    "Так теперь выглядит первый элемент списка:"
   ]
  },
  {
   "cell_type": "code",
   "execution_count": 28,
   "metadata": {},
   "outputs": [
    {
     "data": {
      "text/plain": [
       "('https://nplus1.ru/news/2019/03/31/first',\n",
       " '2019-03-31',\n",
       " 'Илья Ферапонтов',\n",
       " 'Он должен заменить легкий транспортник Ан-26',\n",
       " 'Транспортный самолет Ил-112В совершил первый полет',\n",
       " 'Российский военно-транспортный самолет Ил-112В совершил первый полет, сообщает Авиационный комплекс имени Ильюшина. Испытания прошли на\\xa0аэродроме воронежского авиазавода ПАО «ВАСО», командиром экипажа был шеф-пилот ПАО «Ил» Герой России Николай Куимов. Первый полет стал завершением цикла аэродромной отработки, в\\xa0ходе которой были проведены испытания всех систем, в\\xa0том числе пробежки по\\xa0аэродрому. Полет прошел в\\xa0штатном режиме. В\\xa0воздухе Ил-112В сопровождал самолет-лаборатория Ил-114ЛЛ. Ил-112В в\\xa0перспективе должен заменить легкий транспортник Ан-26. Он\\xa0будет использоваться для перевозки и\\xa0десантирования легкой техники, грузов и\\xa0бойцов, его грузоподъемность\\xa0— около пяти тонн. Самолет сможет развивать скорость до\\xa0550 километров в\\xa0час и\\xa0совершать полеты на\\xa0расстояние до\\xa03,4 тысячи километров, а\\xa0при взлете с\\xa0грунтовых аэродромов и\\xa0максимальной загрузкой\\xa0— до 1,2 тысячи километров. Транспортник сможет взлетать с\\xa0взлетно-посадочных полос длиной не\\xa0более 900\\xa0метров. Пробег Ил-112В при посадке составит около 600\\xa0метров. Ранее Министерство обороны России объявляло о\\xa0намерении приобрести 62\\xa0самолета этого типа до\\xa02020\\xa0года, однако в августе 2018 года появилась информация о планах заказать не менее 100 машин. Сергей Кузнецов Нашли опечатку? Выделите фрагмент и нажмите Ctrl+Enter. Коэффициент сложности Коэффициент сложности Коэффициент сложности Коэффициент сложности Коэффициент сложности Коэффициент сложности Коэффициент сложности Коэффициент сложности Коэффициент сложности Коэффициент сложности © 2019 N+1 Интернет-издание \\xa0 Свидетельство о регистрации СМИ Эл № ФС77-67614 Использование всех текстовых материалов без изменений в некоммерческих целях разрешается со ссылкой на N+1.                          Все аудиовизуальные произведения являются собственностью своих авторов и правообладателей и используются                          только в образовательных и информационных целях. Если вы являетесь собственником того или иного произведения                          и не согласны с его размещением на нашем сайте, пожалуйста, напишите на kirill@nplus1.ru Материалы, опубликованные в разделе «Блоги», отражают позиции их авторов, которые могут не совпадать с мнением редакции. Сайт может содержать контент, не предназначенный для лиц младше 18 лет.  Политика обработки персональных данных пользователей сайта    Change privacy settings   ',\n",
       " ['Авиация'],\n",
       " '1.2')"
      ]
     },
     "execution_count": 28,
     "metadata": {},
     "output_type": "execute_result"
    }
   ],
   "source": [
    "news[0]"
   ]
  },
  {
   "cell_type": "markdown",
   "metadata": {},
   "source": [
    "Импортируем `pandas` и создадим датафрейм из списка кортежей: "
   ]
  },
  {
   "cell_type": "code",
   "execution_count": 29,
   "metadata": {},
   "outputs": [],
   "source": [
    "import pandas as pd"
   ]
  },
  {
   "cell_type": "code",
   "execution_count": 30,
   "metadata": {},
   "outputs": [],
   "source": [
    "df = pd.DataFrame(news)"
   ]
  },
  {
   "cell_type": "code",
   "execution_count": 31,
   "metadata": {},
   "outputs": [
    {
     "data": {
      "text/html": [
       "<div>\n",
       "<style scoped>\n",
       "    .dataframe tbody tr th:only-of-type {\n",
       "        vertical-align: middle;\n",
       "    }\n",
       "\n",
       "    .dataframe tbody tr th {\n",
       "        vertical-align: top;\n",
       "    }\n",
       "\n",
       "    .dataframe thead th {\n",
       "        text-align: right;\n",
       "    }\n",
       "</style>\n",
       "<table border=\"1\" class=\"dataframe\">\n",
       "  <thead>\n",
       "    <tr style=\"text-align: right;\">\n",
       "      <th></th>\n",
       "      <th>0</th>\n",
       "      <th>1</th>\n",
       "      <th>2</th>\n",
       "      <th>3</th>\n",
       "      <th>4</th>\n",
       "      <th>5</th>\n",
       "      <th>6</th>\n",
       "      <th>7</th>\n",
       "    </tr>\n",
       "  </thead>\n",
       "  <tbody>\n",
       "    <tr>\n",
       "      <th>0</th>\n",
       "      <td>https://nplus1.ru/news/2019/03/31/first</td>\n",
       "      <td>2019-03-31</td>\n",
       "      <td>Илья Ферапонтов</td>\n",
       "      <td>Он должен заменить легкий транспортник Ан-26</td>\n",
       "      <td>Транспортный самолет Ил-112В совершил первый п...</td>\n",
       "      <td>Российский военно-транспортный самолет Ил-112В...</td>\n",
       "      <td>[Авиация]</td>\n",
       "      <td>1.2</td>\n",
       "    </tr>\n",
       "    <tr>\n",
       "      <th>1</th>\n",
       "      <td>https://nplus1.ru/news/2019/03/30/very-big-bou...</td>\n",
       "      <td>2019-03-30</td>\n",
       "      <td>Александр Войтюк</td>\n",
       "      <td>В создании стереопары принял участие астрофизи...</td>\n",
       "      <td>OSIRIS-REx показал 52-метровую скалу на поверх...</td>\n",
       "      <td>Исследователи из команды миссии OSIRIS-REx соз...</td>\n",
       "      <td>[Астрономия]</td>\n",
       "      <td>2.3</td>\n",
       "    </tr>\n",
       "  </tbody>\n",
       "</table>\n",
       "</div>"
      ],
      "text/plain": [
       "                                                   0           1  \\\n",
       "0            https://nplus1.ru/news/2019/03/31/first  2019-03-31   \n",
       "1  https://nplus1.ru/news/2019/03/30/very-big-bou...  2019-03-30   \n",
       "\n",
       "                  2                                                  3  \\\n",
       "0   Илья Ферапонтов       Он должен заменить легкий транспортник Ан-26   \n",
       "1  Александр Войтюк  В создании стереопары принял участие астрофизи...   \n",
       "\n",
       "                                                   4  \\\n",
       "0  Транспортный самолет Ил-112В совершил первый п...   \n",
       "1  OSIRIS-REx показал 52-метровую скалу на поверх...   \n",
       "\n",
       "                                                   5             6    7  \n",
       "0  Российский военно-транспортный самолет Ил-112В...     [Авиация]  1.2  \n",
       "1  Исследователи из команды миссии OSIRIS-REx соз...  [Астрономия]  2.3  "
      ]
     },
     "execution_count": 31,
     "metadata": {},
     "output_type": "execute_result"
    }
   ],
   "source": [
    "df.head(2)"
   ]
  },
  {
   "cell_type": "markdown",
   "metadata": {},
   "source": [
    "Переименуем столбцы в базе."
   ]
  },
  {
   "cell_type": "code",
   "execution_count": 32,
   "metadata": {},
   "outputs": [],
   "source": [
    "df.columns = ['link', 'date', 'author', 'desc', 'title', 'text', 'rubric', 'diffc']"
   ]
  },
  {
   "cell_type": "code",
   "execution_count": 33,
   "metadata": {},
   "outputs": [
    {
     "data": {
      "text/html": [
       "<div>\n",
       "<style scoped>\n",
       "    .dataframe tbody tr th:only-of-type {\n",
       "        vertical-align: middle;\n",
       "    }\n",
       "\n",
       "    .dataframe tbody tr th {\n",
       "        vertical-align: top;\n",
       "    }\n",
       "\n",
       "    .dataframe thead th {\n",
       "        text-align: right;\n",
       "    }\n",
       "</style>\n",
       "<table border=\"1\" class=\"dataframe\">\n",
       "  <thead>\n",
       "    <tr style=\"text-align: right;\">\n",
       "      <th></th>\n",
       "      <th>link</th>\n",
       "      <th>date</th>\n",
       "      <th>author</th>\n",
       "      <th>desc</th>\n",
       "      <th>title</th>\n",
       "      <th>text</th>\n",
       "      <th>rubric</th>\n",
       "      <th>diffc</th>\n",
       "    </tr>\n",
       "  </thead>\n",
       "  <tbody>\n",
       "    <tr>\n",
       "      <th>0</th>\n",
       "      <td>https://nplus1.ru/news/2019/03/31/first</td>\n",
       "      <td>2019-03-31</td>\n",
       "      <td>Илья Ферапонтов</td>\n",
       "      <td>Он должен заменить легкий транспортник Ан-26</td>\n",
       "      <td>Транспортный самолет Ил-112В совершил первый п...</td>\n",
       "      <td>Российский военно-транспортный самолет Ил-112В...</td>\n",
       "      <td>[Авиация]</td>\n",
       "      <td>1.2</td>\n",
       "    </tr>\n",
       "    <tr>\n",
       "      <th>1</th>\n",
       "      <td>https://nplus1.ru/news/2019/03/30/very-big-bou...</td>\n",
       "      <td>2019-03-30</td>\n",
       "      <td>Александр Войтюк</td>\n",
       "      <td>В создании стереопары принял участие астрофизи...</td>\n",
       "      <td>OSIRIS-REx показал 52-метровую скалу на поверх...</td>\n",
       "      <td>Исследователи из команды миссии OSIRIS-REx соз...</td>\n",
       "      <td>[Астрономия]</td>\n",
       "      <td>2.3</td>\n",
       "    </tr>\n",
       "  </tbody>\n",
       "</table>\n",
       "</div>"
      ],
      "text/plain": [
       "                                                link        date  \\\n",
       "0            https://nplus1.ru/news/2019/03/31/first  2019-03-31   \n",
       "1  https://nplus1.ru/news/2019/03/30/very-big-bou...  2019-03-30   \n",
       "\n",
       "             author                                               desc  \\\n",
       "0   Илья Ферапонтов       Он должен заменить легкий транспортник Ан-26   \n",
       "1  Александр Войтюк  В создании стереопары принял участие астрофизи...   \n",
       "\n",
       "                                               title  \\\n",
       "0  Транспортный самолет Ил-112В совершил первый п...   \n",
       "1  OSIRIS-REx показал 52-метровую скалу на поверх...   \n",
       "\n",
       "                                                text        rubric diffc  \n",
       "0  Российский военно-транспортный самолет Ил-112В...     [Авиация]   1.2  \n",
       "1  Исследователи из команды миссии OSIRIS-REx соз...  [Астрономия]   2.3  "
      ]
     },
     "execution_count": 33,
     "metadata": {},
     "output_type": "execute_result"
    }
   ],
   "source": [
    "df.head(2)"
   ]
  },
  {
   "cell_type": "markdown",
   "metadata": {},
   "source": [
    "Теперь внесем изменения: сделаем столбец `diffc` числовым – типа *float*."
   ]
  },
  {
   "cell_type": "code",
   "execution_count": 34,
   "metadata": {},
   "outputs": [],
   "source": [
    "df['diffc'] = [float(i) for i in df.diffc]"
   ]
  },
  {
   "cell_type": "markdown",
   "metadata": {},
   "source": [
    "Теперь сложность представлена в базе как количественный показатель, и описывать ее можно соответствующим образом:"
   ]
  },
  {
   "cell_type": "code",
   "execution_count": 35,
   "metadata": {},
   "outputs": [
    {
     "data": {
      "text/plain": [
       "count    30.000000\n",
       "mean      4.416667\n",
       "std       2.370521\n",
       "min       1.100000\n",
       "25%       2.125000\n",
       "50%       4.900000\n",
       "75%       6.750000\n",
       "max       8.200000\n",
       "Name: diffc, dtype: float64"
      ]
     },
     "execution_count": 35,
     "metadata": {},
     "output_type": "execute_result"
    }
   ],
   "source": [
    "df.diffc.describe()"
   ]
  },
  {
   "cell_type": "markdown",
   "metadata": {},
   "source": [
    "Теперь столбец со сложностью точно числовой. Можем даже построить для него гистограмму."
   ]
  },
  {
   "cell_type": "code",
   "execution_count": 36,
   "metadata": {},
   "outputs": [
    {
     "data": {
      "text/plain": [
       "<matplotlib.axes._subplots.AxesSubplot at 0x1174ce198>"
      ]
     },
     "execution_count": 36,
     "metadata": {},
     "output_type": "execute_result"
    },
    {
     "data": {
      "image/png": "[encoded data removed]",
      "text/plain": [
       "<Figure size 432x288 with 1 Axes>"
      ]
     },
     "metadata": {},
     "output_type": "display_data"
    }
   ],
   "source": [
    "%matplotlib inline\n",
    "df.diffc.plot.hist()"
   ]
  },
  {
   "cell_type": "markdown",
   "metadata": {},
   "source": [
    "Объединим рубрики в *text* в одну строку через запятую:"
   ]
  },
  {
   "cell_type": "code",
   "execution_count": 37,
   "metadata": {},
   "outputs": [],
   "source": [
    "df['rubric'] = [','.join(r) for r in df.rubric]"
   ]
  },
  {
   "cell_type": "markdown",
   "metadata": {},
   "source": [
    "Давайте почистим текст новостей – уберем оттуда текст, не относящийся к новостям. Найдем лишнее:"
   ]
  },
  {
   "cell_type": "code",
   "execution_count": null,
   "metadata": {},
   "outputs": [],
   "source": [
    "df.text[0]"
   ]
  },
  {
   "cell_type": "markdown",
   "metadata": {},
   "source": [
    "Лишний текст находится после фразы 'Нашли опечатку?'. Так давайте будем разбивать строки по этой фразе с помощью метода `.split()` и брать все, что до нее (элемент с индексом 0)."
   ]
  },
  {
   "cell_type": "code",
   "execution_count": 38,
   "metadata": {},
   "outputs": [],
   "source": [
    "df['clean_text'] = [t.split('Нашли опечатку?')[0] for t in df.text]"
   ]
  },
  {
   "cell_type": "markdown",
   "metadata": {},
   "source": [
    "Осталось только заменить непонятные символы `\\xa0` на пробелы:"
   ]
  },
  {
   "cell_type": "code",
   "execution_count": 39,
   "metadata": {},
   "outputs": [],
   "source": [
    "df['clean_text'] = [t.replace(\"\\xa0\", \" \") for t in df.clean_text]"
   ]
  },
  {
   "cell_type": "code",
   "execution_count": 40,
   "metadata": {},
   "outputs": [
    {
     "data": {
      "text/plain": [
       "'Российский военно-транспортный самолет Ил-112В совершил первый полет, сообщает Авиационный комплекс имени Ильюшина. Испытания прошли на аэродроме воронежского авиазавода ПАО «ВАСО», командиром экипажа был шеф-пилот ПАО «Ил» Герой России Николай Куимов. Первый полет стал завершением цикла аэродромной отработки, в ходе которой были проведены испытания всех систем, в том числе пробежки по аэродрому. Полет прошел в штатном режиме. В воздухе Ил-112В сопровождал самолет-лаборатория Ил-114ЛЛ. Ил-112В в перспективе должен заменить легкий транспортник Ан-26. Он будет использоваться для перевозки и десантирования легкой техники, грузов и бойцов, его грузоподъемность — около пяти тонн. Самолет сможет развивать скорость до 550 километров в час и совершать полеты на расстояние до 3,4 тысячи километров, а при взлете с грунтовых аэродромов и максимальной загрузкой — до 1,2 тысячи километров. Транспортник сможет взлетать с взлетно-посадочных полос длиной не более 900 метров. Пробег Ил-112В при посадке составит около 600 метров. Ранее Министерство обороны России объявляло о намерении приобрести 62 самолета этого типа до 2020 года, однако в августе 2018 года появилась информация о планах заказать не менее 100 машин. Сергей Кузнецов '"
      ]
     },
     "execution_count": 40,
     "metadata": {},
     "output_type": "execute_result"
    }
   ],
   "source": [
    "df.clean_text[0]"
   ]
  },
  {
   "cell_type": "markdown",
   "metadata": {},
   "source": [
    "Всё! Сохраняем датафрейм в файл. Для разнообразия сохраним в Excel:"
   ]
  },
  {
   "cell_type": "code",
   "execution_count": 41,
   "metadata": {},
   "outputs": [],
   "source": [
    "df.to_excel('nplus-news.xlsx')"
   ]
  }
 ],
 "metadata": {
  "kernelspec": {
   "display_name": "Python 3",
   "language": "python",
   "name": "python3"
  },
  "language_info": {
   "codemirror_mode": {
    "name": "ipython",
    "version": 3
   },
   "file_extension": ".py",
   "mimetype": "text/x-python",
   "name": "python",
   "nbconvert_exporter": "python",
   "pygments_lexer": "ipython3",
   "version": "3.6.5"
  }
 },
 "nbformat": 4,
 "nbformat_minor": 2
}
