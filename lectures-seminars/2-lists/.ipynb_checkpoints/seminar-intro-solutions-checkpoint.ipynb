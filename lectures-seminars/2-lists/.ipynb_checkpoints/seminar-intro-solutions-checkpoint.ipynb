{
 "cells": [
  {
   "cell_type": "markdown",
   "metadata": {},
   "source": [
    "# Python для анализа данных\n",
    "\n",
    "*Алла Тамбовцева, НИУ ВШЭ*\n",
    "\n",
    "\n",
    "## Семинар 1 по темам: вычисления, переменные, приведение типов, форматирование строк\n",
    "\n",
    "*Примечание: под программой в заданиях подразумевается просто блок работающего кода, который выполняет нужную задачу. Для удобства можно считать, что одна ячейка с кодом – это одна программа.* \n"
   ]
  },
  {
   "cell_type": "markdown",
   "metadata": {},
   "source": [
    "### Задание 0 (вычислительное)\n",
    "\n",
    "Посчитайте:\n",
    "\n",
    "* $\\log(25)$, $\\log(\\exp(3))$, $\\log_{10}1000$;\n",
    "* $\\pi^3$, $123^4$; \n",
    "* $\\sqrt{459}$."
   ]
  },
  {
   "cell_type": "code",
   "execution_count": 1,
   "metadata": {},
   "outputs": [
    {
     "name": "stdout",
     "output_type": "stream",
     "text": [
      "3.2188758248682006\n",
      "3.0\n",
      "2.9999999999999996\n",
      "3.0\n",
      "31.006276680299816\n",
      "228886641\n",
      "21.42428528562855\n",
      "21.42428528562855\n"
     ]
    }
   ],
   "source": [
    "import math\n",
    "\n",
    "# пункт 1\n",
    "print(math.log(25))\n",
    "print(math.log(math.exp(3)))\n",
    "print(math.log(1000, 10))  # на самом деле ровно 3 – опять история про формат float\n",
    "print(math.log10(1000))  # альтернатива строке выше\n",
    "\n",
    "# пункт 2\n",
    "print(math.pi ** 3)\n",
    "print(123 ** 4)\n",
    "\n",
    "# пункт 3\n",
    "print(math.sqrt(459))\n",
    "print(459 ** 0.5)  # альтернатива коду выше"
   ]
  },
  {
   "cell_type": "markdown",
   "metadata": {},
   "source": [
    "### Задание 1 (стартовое)\n",
    "\n",
    "В переменных `a` и `b` хранятся некоторые числа. Напишите код, который бы менял значения переменных местами. Создавать вспомогательные переменные *можно*.\n",
    "\n",
    "**Пример:**"
   ]
  },
  {
   "cell_type": "code",
   "execution_count": 5,
   "metadata": {},
   "outputs": [],
   "source": [
    "# до\n",
    "a = 2\n",
    "b = 5"
   ]
  },
  {
   "cell_type": "code",
   "execution_count": 2,
   "metadata": {},
   "outputs": [
    {
     "name": "stdout",
     "output_type": "stream",
     "text": [
      "5\n",
      "2\n"
     ]
    }
   ],
   "source": [
    "# после\n",
    "print(a)\n",
    "print(b)"
   ]
  },
  {
   "cell_type": "code",
   "execution_count": 6,
   "metadata": {},
   "outputs": [
    {
     "name": "stdout",
     "output_type": "stream",
     "text": [
      "5\n",
      "2\n"
     ]
    }
   ],
   "source": [
    "c = a\n",
    "a = b\n",
    "b = c\n",
    "print(a)\n",
    "print(b)"
   ]
  },
  {
   "cell_type": "markdown",
   "metadata": {},
   "source": [
    "Еще в Python можно решить эту задачу через множественное присваивание, без создания третьей переменной:"
   ]
  },
  {
   "cell_type": "code",
   "execution_count": 8,
   "metadata": {},
   "outputs": [
    {
     "name": "stdout",
     "output_type": "stream",
     "text": [
      "5 2\n"
     ]
    }
   ],
   "source": [
    "a = 2\n",
    "b = 5\n",
    "a, b = b, a\n",
    "print(a, b)"
   ]
  },
  {
   "cell_type": "markdown",
   "metadata": {},
   "source": [
    "### Задание 2 (экономическое)\n",
    "\n",
    "Напишите программу, которая логарифмирует значение ВВП, которое хранится в переменной `gdp` и округляет результат до второго знака после запятой."
   ]
  },
  {
   "cell_type": "code",
   "execution_count": 9,
   "metadata": {},
   "outputs": [
    {
     "data": {
      "text/plain": [
       "15.32"
      ]
     },
     "execution_count": 9,
     "metadata": {},
     "output_type": "execute_result"
    }
   ],
   "source": [
    "gdp = 4500000\n",
    "log_gdp = round(math.log(gdp), 2) \n",
    "log_gdp"
   ]
  },
  {
   "cell_type": "markdown",
   "metadata": {},
   "source": [
    "На семинаре мы еще рассмотрели иной вариант решения, в предположении, что нам не важно, в каком виде будет храниться результат, а важно, как он будет отображен на экране. То есть, с применением форматирования строк:"
   ]
  },
  {
   "cell_type": "code",
   "execution_count": 10,
   "metadata": {},
   "outputs": [
    {
     "name": "stdout",
     "output_type": "stream",
     "text": [
      "15.32\n"
     ]
    }
   ],
   "source": [
    "gdp = 4500000\n",
    "log_gdp = math.log(gdp)\n",
    "print(\"%.2f\"%log_gdp)"
   ]
  },
  {
   "cell_type": "markdown",
   "metadata": {},
   "source": [
    "### Задание 3 (политологическое)\n",
    "\n",
    "В переменной `fh` хранится значение индекса политической свободы *Freedom House*, а в переменной `p`\n",
    "значение индекса Polity IV. Напишите программу, которая будет считать индекс `Freedom`:\n",
    "\n",
    "$$\n",
    "\\text{Freedom} = 0.4 \\cdot \\text{Freedom House} + 0.6 \\cdot \\text{Polity IV}\n",
    "$$"
   ]
  },
  {
   "cell_type": "code",
   "execution_count": 11,
   "metadata": {},
   "outputs": [
    {
     "name": "stdout",
     "output_type": "stream",
     "text": [
      "4.4\n"
     ]
    }
   ],
   "source": [
    "fh = 8\n",
    "p = 2\n",
    "Freedom = 0.4 * 8 + 0.6 * 2\n",
    "print(Freedom)"
   ]
  },
  {
   "cell_type": "markdown",
   "metadata": {},
   "source": [
    "### Задание 4 (весеннее)\n",
    "\n",
    "С приходом весны питон решил каждый день выползать погреться на солнышко. Однако он знал, что солнце весной довольно активное, и поэтому разработал такую схему: в первый день он греется одну минуту, а в каждый последующий день увеличивает время пребывания на солнце на 3 минуты. Напишите код, который позволит вычислять, сколько минут питон будет тратить на солнечные ванны в некоторый выбранный день.\n",
    "\n",
    "*Внимание:* ваш код должен выводить номер дня и число минут. Использовать циклы нельзя, в задании предполагается многократный запуск ячеек с кодом. \n",
    "\n",
    "Если хочется избежать многократного запуска ячейки с кодом (что оправдано), попробуйте решить эту задачу без повторного запуска ячейки и при этом без цикла, предполагая, что пользователь с клавиатуры вводит номер интересующего его дня, а на экран выводится соответствующее число минут."
   ]
  },
  {
   "cell_type": "code",
   "execution_count": 12,
   "metadata": {},
   "outputs": [],
   "source": [
    "# решение 1 – с многократным запуском следующей ячейки\n",
    "i = 1\n",
    "day = 1"
   ]
  },
  {
   "cell_type": "code",
   "execution_count": 13,
   "metadata": {},
   "outputs": [
    {
     "name": "stdout",
     "output_type": "stream",
     "text": [
      "2 4\n"
     ]
    }
   ],
   "source": [
    "i = i + 1\n",
    "day = day + 3\n",
    "print(i, day) "
   ]
  },
  {
   "cell_type": "code",
   "execution_count": 14,
   "metadata": {},
   "outputs": [
    {
     "name": "stdout",
     "output_type": "stream",
     "text": [
      "Enter day number: 5\n",
      "13\n"
     ]
    }
   ],
   "source": [
    "# решение 2 – запрашиваем номер дня у пользователя и выводим результат – число минут\n",
    "n = int(input(\"Enter day number: \"))\n",
    "res = 1 + 3 * (n - 1)\n",
    "print(res)"
   ]
  },
  {
   "cell_type": "markdown",
   "metadata": {},
   "source": [
    "### Задание 5 (приветственное)\n",
    "\n",
    "Напишите программу, которая запрашивает у пользователя имя и фамилию и выводит на экран сообщение "
   ]
  },
  {
   "cell_type": "markdown",
   "metadata": {},
   "source": [
    "```Имя Фамилия```, добро пожаловать!"
   ]
  },
  {
   "cell_type": "code",
   "execution_count": 16,
   "metadata": {},
   "outputs": [
    {
     "name": "stdout",
     "output_type": "stream",
     "text": [
      "Enter name: Alla\n",
      "Enter surname: T\n"
     ]
    }
   ],
   "source": [
    "name = input(\"Enter name: \")\n",
    "surname = input(\"Enter surname: \")"
   ]
  },
  {
   "cell_type": "code",
   "execution_count": 19,
   "metadata": {},
   "outputs": [
    {
     "name": "stdout",
     "output_type": "stream",
     "text": [
      "Alla T, добро пожаловать!\n"
     ]
    }
   ],
   "source": [
    "# решение 1 – без форматирования строк, но с выбором разделителя\n",
    "print(name, \" \", surname, \", добро пожаловать!\", sep=\"\")"
   ]
  },
  {
   "cell_type": "code",
   "execution_count": 20,
   "metadata": {},
   "outputs": [
    {
     "name": "stdout",
     "output_type": "stream",
     "text": [
      "Alla T, добро пожаловать!\n"
     ]
    }
   ],
   "source": [
    "# решение 2 – с f-строками\n",
    "print(f\"{name} {surname}, добро пожаловать!\")"
   ]
  },
  {
   "cell_type": "code",
   "execution_count": 21,
   "metadata": {},
   "outputs": [
    {
     "name": "stdout",
     "output_type": "stream",
     "text": [
      "Alla T, добро пожаловать!\n"
     ]
    }
   ],
   "source": [
    "# решение 3 – с «классическим» форматированием строк\n",
    "print(\"%s %s, добро пожаловать!\" %(name, surname))"
   ]
  },
  {
   "cell_type": "markdown",
   "metadata": {},
   "source": [
    "### Задание 6 (биологическая)\n",
    "\n",
    "Напишите программу, которая запрашивает у пользователя с клавиатуры его рост в сантиметрах, его вес в килограммах (каждый показатель – с новой строки, в новом запросе) и выводит на экран сообщение вида:\n",
    "\n",
    "    Индекс массы тела: [значение].\n",
    "    \n",
    "где вместо `[значение]` подставляется посчитанное значение индекса массы тела. \n",
    "\n",
    "Индекс массы тела считается так:\n",
    "\n",
    "$$\n",
    "\\text{BMI} = \\text{m} / \\text{h}^2, \n",
    "$$\n",
    "\n",
    "где `m` – масса тела в килограммах, `h` – рост *в метрах*."
   ]
  },
  {
   "cell_type": "code",
   "execution_count": 23,
   "metadata": {},
   "outputs": [
    {
     "name": "stdout",
     "output_type": "stream",
     "text": [
      "Enter your height: 168\n",
      "Enter your weight: 56\n"
     ]
    }
   ],
   "source": [
    "height = int(input(\"Enter your height: \"))\n",
    "weight = int(input(\"Enter your weight: \"))\n",
    "bmi = weight / (height / 100) ** 2"
   ]
  },
  {
   "cell_type": "code",
   "execution_count": 24,
   "metadata": {},
   "outputs": [
    {
     "name": "stdout",
     "output_type": "stream",
     "text": [
      "Индекс массы тела: 19.841269841269845.\n"
     ]
    }
   ],
   "source": [
    "# решение 1 – без форматирования строк, но с выбором разделителя\n",
    "print(\"Индекс массы тела: \", bmi, \".\", sep=\"\")"
   ]
  },
  {
   "cell_type": "code",
   "execution_count": 25,
   "metadata": {},
   "outputs": [
    {
     "name": "stdout",
     "output_type": "stream",
     "text": [
      "Индекс массы тела: 19.841269841269845.\n"
     ]
    }
   ],
   "source": [
    "# решение 2 – с f-строками\n",
    "print(f\"Индекс массы тела: {bmi}.\")"
   ]
  },
  {
   "cell_type": "code",
   "execution_count": 26,
   "metadata": {},
   "outputs": [
    {
     "name": "stdout",
     "output_type": "stream",
     "text": [
      "Индекс массы тела: 19.841270.\n"
     ]
    }
   ],
   "source": [
    "# решение 3 – с «классическим» форматированием строк\n",
    "print(\"Индекс массы тела: %f.\" %bmi)"
   ]
  }
 ],
 "metadata": {
  "kernelspec": {
   "display_name": "Python 3",
   "language": "python",
   "name": "python3"
  },
  "language_info": {
   "codemirror_mode": {
    "name": "ipython",
    "version": 3
   },
   "file_extension": ".py",
   "mimetype": "text/x-python",
   "name": "python",
   "nbconvert_exporter": "python",
   "pygments_lexer": "ipython3",
   "version": "3.6.8"
  }
 },
 "nbformat": 4,
 "nbformat_minor": 2
}
