{
 "cells": [
  {
   "cell_type": "markdown",
   "metadata": {},
   "source": [
    "# Python для анализа данных\n",
    "\n",
    "*Алла Тамбовцева, НИУ ВШЭ*\n",
    "\n",
    "## Семинар по темам: списки, кортежи, словари\n",
    "## Решения"
   ]
  },
  {
   "cell_type": "markdown",
   "metadata": {},
   "source": [
    "### Задача 1\n",
    "\n",
    "Есть список имен:"
   ]
  },
  {
   "cell_type": "code",
   "execution_count": 2,
   "metadata": {},
   "outputs": [],
   "source": [
    "girls = [\"Иветта\", \"Виолетта\", \"Кассандра\", \"Вирджиния\", \n",
    "         \"Амелия\", \"Розамунда\", \"Янина\", \"Беатриса\"]"
   ]
  },
  {
   "cell_type": "markdown",
   "metadata": {},
   "source": [
    "Используя список `girls`, выведите на экран следующие списки:\n",
    "\n",
    "    [\"Виолетта\", \"Кассандра\", \"Вирджиния\", \"Амелия\"]\n",
    "    [\"Вирджиния\", \"Амелия\", \"Розамунда\", \"Янина\", \"Беатриса\"]\n",
    "    [\"Иветта\", \"Виолетта\", \"Вирджиния\", \"Амелия\"]\n",
    "    [\"Кассандра\", \"Амелия\", \"Розамунда\"]"
   ]
  },
  {
   "cell_type": "code",
   "execution_count": 3,
   "metadata": {},
   "outputs": [
    {
     "name": "stdout",
     "output_type": "stream",
     "text": [
      "['Виолетта', 'Кассандра', 'Вирджиния', 'Амелия']\n",
      "['Вирджиния', 'Амелия', 'Розамунда', 'Янина', 'Беатриса']\n",
      "['Иветта', 'Виолетта', 'Вирджиния', 'Амелия']\n",
      "['Кассандра', 'Амелия', 'Розамунда']\n"
     ]
    }
   ],
   "source": [
    "print(girls[1:5])  # 1\n",
    "print(girls[3:])  # 2\n",
    "print(girls[0:2] + girls[3:5])  # 3\n",
    "print(girls[2:3] + girls[4:6])  # 4"
   ]
  },
  {
   "cell_type": "markdown",
   "metadata": {},
   "source": [
    "В последнем пункте главное не вызвать имя Кассандра отдельно, без среза, так как в таком случае мы будем складывать строку и список, что даст ошибку:"
   ]
  },
  {
   "cell_type": "code",
   "execution_count": 4,
   "metadata": {},
   "outputs": [
    {
     "ename": "TypeError",
     "evalue": "must be str, not list",
     "output_type": "error",
     "traceback": [
      "\u001b[0;31m---------------------------------------------------------------------------\u001b[0m",
      "\u001b[0;31mTypeError\u001b[0m                                 Traceback (most recent call last)",
      "\u001b[0;32m<ipython-input-4-7318500f5786>\u001b[0m in \u001b[0;36m<module>\u001b[0;34m\u001b[0m\n\u001b[0;32m----> 1\u001b[0;31m \u001b[0mprint\u001b[0m\u001b[0;34m(\u001b[0m\u001b[0mgirls\u001b[0m\u001b[0;34m[\u001b[0m\u001b[0;36m2\u001b[0m\u001b[0;34m]\u001b[0m \u001b[0;34m+\u001b[0m \u001b[0mgirls\u001b[0m\u001b[0;34m[\u001b[0m\u001b[0;36m4\u001b[0m\u001b[0;34m:\u001b[0m\u001b[0;36m6\u001b[0m\u001b[0;34m]\u001b[0m\u001b[0;34m)\u001b[0m\u001b[0;34m\u001b[0m\u001b[0;34m\u001b[0m\u001b[0m\n\u001b[0m",
      "\u001b[0;31mTypeError\u001b[0m: must be str, not list"
     ]
    }
   ],
   "source": [
    "print(girls[2] + girls[4:6])"
   ]
  },
  {
   "cell_type": "markdown",
   "metadata": {},
   "source": [
    "Эту ошибку можно исправить, добавив квадратные скобки вокруг Кассандры, создав список из одного элемента (хотя, конечно, решение со срезами более элегантное):"
   ]
  },
  {
   "cell_type": "code",
   "execution_count": 5,
   "metadata": {},
   "outputs": [
    {
     "name": "stdout",
     "output_type": "stream",
     "text": [
      "['Кассандра', 'Амелия', 'Розамунда']\n"
     ]
    }
   ],
   "source": [
    "print([girls[2]] + girls[4:6])"
   ]
  },
  {
   "cell_type": "markdown",
   "metadata": {},
   "source": [
    "### Задача 2\n",
    "\n",
    "Объясните, что делает следующий код и почему он выдает такие результаты:"
   ]
  },
  {
   "cell_type": "code",
   "execution_count": 7,
   "metadata": {},
   "outputs": [
    {
     "name": "stdout",
     "output_type": "stream",
     "text": [
      "5\n",
      "3\n",
      "5\n",
      "7\n"
     ]
    }
   ],
   "source": [
    "l = [1,2,3,4]\n",
    "\n",
    "for i in range(len(l)):\n",
    "    a = l[i] + l[i-1]\n",
    "    print(a)"
   ]
  },
  {
   "cell_type": "markdown",
   "metadata": {},
   "source": [
    "Разберем код на части. Что такое `range(len(l))`?"
   ]
  },
  {
   "cell_type": "code",
   "execution_count": 8,
   "metadata": {},
   "outputs": [
    {
     "data": {
      "text/plain": [
       "[0, 1, 2, 3]"
      ]
     },
     "execution_count": 8,
     "metadata": {},
     "output_type": "execute_result"
    }
   ],
   "source": [
    "list(range(len(l))) # индексы элементов списка l\n",
    "[0, 1, 2, 3]"
   ]
  },
  {
   "cell_type": "markdown",
   "metadata": {},
   "source": [
    "Значит, цикл `for` бегает по индексам списка `l`. Тогда `l[i]` ‒ это i-тый элемент списка `l`, а `l[i-1]` ‒ элемент, предшествующий i-тому элементу. Эти два элемента складываются, и результат сохраняется в `a`.\n",
    "\n",
    "Посмотрим. Если `i = 0`, то получаем `l[0]` и `l[-1]`. Значит, на первом шаге (на первой итерации) цикла мы складываем первый и последний элементы списка.\n",
    "\n",
    "    1 + 4 = 5\n",
    "\n",
    "Двигаемся дальше. Если `i = 1`, то получаем `l[1]` и `l[0]`. Значит, на втором шаге цикла мы складываем второй и первый элементы списка.\n",
    "\n",
    "    2 + 1 = 3\n",
    "\n",
    "И так далее.\n",
    "\n",
    "Почему этот код интересен? Потому, что он не ломается: Python не возражает против отрицательных индексов элементов, он просто начинает считать элементы с конца списка."
   ]
  },
  {
   "cell_type": "markdown",
   "metadata": {},
   "source": [
    "### Задача 3\n",
    "\n",
    "Напишите программу, которая берет строку \"1; 2; 3; 100\" и возвращает:\n",
    "\n",
    "* список из целых чисел\n",
    "* список из чисел с плавающей точкой"
   ]
  },
  {
   "cell_type": "code",
   "execution_count": 9,
   "metadata": {},
   "outputs": [
    {
     "data": {
      "text/plain": [
       "['1', '2', '3', '100']"
      ]
     },
     "execution_count": 9,
     "metadata": {},
     "output_type": "execute_result"
    }
   ],
   "source": [
    "s = \"1; 2; 3; 100\"  # здесь мог бы быть input(), чтобы пользователь вводил это сам\n",
    "s_list = s.split(\"; \")\n",
    "s_list"
   ]
  },
  {
   "cell_type": "code",
   "execution_count": 10,
   "metadata": {},
   "outputs": [
    {
     "data": {
      "text/plain": [
       "[1, 2, 3, 100]"
      ]
     },
     "execution_count": 10,
     "metadata": {},
     "output_type": "execute_result"
    }
   ],
   "source": [
    "int_nums = []  # список из целых чисел\n",
    "\n",
    "for i in s_list:\n",
    "    num = int(i)\n",
    "    int_nums.append(num)\n",
    "int_nums"
   ]
  },
  {
   "cell_type": "code",
   "execution_count": 11,
   "metadata": {},
   "outputs": [
    {
     "data": {
      "text/plain": [
       "[1.0, 2.0, 3.0, 100.0]"
      ]
     },
     "execution_count": 11,
     "metadata": {},
     "output_type": "execute_result"
    }
   ],
   "source": [
    "flo_nums = []  # список из чисел с плавающей точкой\n",
    "\n",
    "for j in s_list:\n",
    "    flo_nums.append(float(j))\n",
    "flo_nums"
   ]
  },
  {
   "cell_type": "markdown",
   "metadata": {},
   "source": [
    "Или более компактно и эффективно, используя списковые включения."
   ]
  },
  {
   "cell_type": "code",
   "execution_count": 12,
   "metadata": {},
   "outputs": [
    {
     "data": {
      "text/plain": [
       "[1, 2, 3, 100]"
      ]
     },
     "execution_count": 12,
     "metadata": {},
     "output_type": "execute_result"
    }
   ],
   "source": [
    "s = \"1; 2; 3; 100\"\n",
    "s_list = s.split(\"; \")\n",
    "int_nums = [int(i) for i in s_list]\n",
    "int_nums"
   ]
  },
  {
   "cell_type": "code",
   "execution_count": 13,
   "metadata": {},
   "outputs": [
    {
     "data": {
      "text/plain": [
       "[1.0, 2.0, 3.0, 100.0]"
      ]
     },
     "execution_count": 13,
     "metadata": {},
     "output_type": "execute_result"
    }
   ],
   "source": [
    "s = \"1; 2; 3; 100\"\n",
    "s_list = s.split(\"; \")\n",
    "f_nums = [float(j) for j in s_list]\n",
    "f_nums"
   ]
  },
  {
   "cell_type": "markdown",
   "metadata": {},
   "source": [
    "### Задача 4\n",
    "\n",
    "Напишите программу, которая запрашивает у пользователя номер мобильного телефона, введенный через дефис, а возвращает номер, записанный без дефисов и пробелов.\n",
    "\n",
    "*Входные данные:*\n",
    "\n",
    "    8-900-123-45-67\n",
    "\n",
    "*Выходные данные:*\n",
    "\n",
    "    89001234567"
   ]
  },
  {
   "cell_type": "code",
   "execution_count": 14,
   "metadata": {},
   "outputs": [
    {
     "name": "stdout",
     "output_type": "stream",
     "text": [
      "8-900-123-45-67\n",
      "89001234567\n"
     ]
    }
   ],
   "source": [
    "tel = input()\n",
    "tel_list = tel.split(\"-\")  # разбиваем по -\n",
    "new_tel = \"\".join(tel_list)  # склеиваем обратно по пустой строке\n",
    "print(new_tel)"
   ]
  },
  {
   "cell_type": "markdown",
   "metadata": {},
   "source": [
    "### Задача 5\n",
    "\n",
    "Напишите программу, которая принимает на вход список слов такого вида:\n",
    "\n",
    "    words = [\"Speak \",\"to\", \"me \", \"of\", \"Florence\" ,\"And \", \"of\", \"the\", \"Renaissance\"]\n",
    "\n",
    "а возвращает список\n",
    "\n",
    "    words_clean = [\"speak\", \"to\", \"me\", \"of\", \"florence\", \"and\", \"of\", \"the\", \"renaissance\"]\n",
    "\n",
    "Другими словами, программа убирает пробелы в словах и приводит все слова к нижнему регистру.\n",
    "\n",
    "**Подсказка:** запросите `help()`  по  методам `.strip()` и `.lower()`."
   ]
  },
  {
   "cell_type": "markdown",
   "metadata": {},
   "source": [
    "Запросить `help()` для метода можно так: взять объект, для которого этот метод опредеден (в нашем случае строку) и после точки записать название метода:"
   ]
  },
  {
   "cell_type": "code",
   "execution_count": 15,
   "metadata": {},
   "outputs": [
    {
     "name": "stdout",
     "output_type": "stream",
     "text": [
      "Help on built-in function strip:\n",
      "\n",
      "strip(...) method of builtins.str instance\n",
      "    S.strip([chars]) -> str\n",
      "    \n",
      "    Return a copy of the string S with leading and trailing\n",
      "    whitespace removed.\n",
      "    If chars is given and not None, remove characters in chars instead.\n",
      "\n"
     ]
    }
   ],
   "source": [
    "help(\"abc\".strip) "
   ]
  },
  {
   "cell_type": "code",
   "execution_count": 16,
   "metadata": {},
   "outputs": [
    {
     "data": {
      "text/plain": [
       "'abc'"
      ]
     },
     "execution_count": 16,
     "metadata": {},
     "output_type": "execute_result"
    }
   ],
   "source": [
    "w = \"abc\"\n",
    "w.lower()"
   ]
  },
  {
   "cell_type": "code",
   "execution_count": 18,
   "metadata": {},
   "outputs": [],
   "source": [
    "words = [\"Speak \",\"to\", \"me \", \"of\", \"Florence\" ,\"And \", \"of\", \"the\", \"Renaissance\"]"
   ]
  },
  {
   "cell_type": "code",
   "execution_count": 19,
   "metadata": {},
   "outputs": [
    {
     "data": {
      "text/plain": [
       "['speak', 'to', 'me', 'of', 'florence', 'and', 'of', 'the', 'renaissance']"
      ]
     },
     "execution_count": 19,
     "metadata": {},
     "output_type": "execute_result"
    }
   ],
   "source": [
    "words_clean = []  # пустой список\n",
    "for w in words:\n",
    "    low = w.lower()  # делаем все буквы маленькими\n",
    "    stripped = low.strip()  # убираем лишние пробелы по краям\n",
    "    words_clean.append(stripped)\n",
    "words_clean"
   ]
  },
  {
   "cell_type": "markdown",
   "metadata": {},
   "source": [
    "Или совсем компактный вариант, используя списковые включения (методы можно применять, «наслаивая» друг на друга, то есть ставя точку и добавляя новый метод)."
   ]
  },
  {
   "cell_type": "code",
   "execution_count": 20,
   "metadata": {},
   "outputs": [
    {
     "data": {
      "text/plain": [
       "['speak', 'to', 'me', 'of', 'florence', 'and', 'of', 'the', 'renaissance']"
      ]
     },
     "execution_count": 20,
     "metadata": {},
     "output_type": "execute_result"
    }
   ],
   "source": [
    "words_clean = [w.lower().strip() for w in words_clean]\n",
    "words_clean"
   ]
  },
  {
   "cell_type": "markdown",
   "metadata": {},
   "source": [
    "Задачи 6-8 разберем позже."
   ]
  }
 ],
 "metadata": {
  "kernelspec": {
   "display_name": "Python 3",
   "language": "python",
   "name": "python3"
  },
  "language_info": {
   "codemirror_mode": {
    "name": "ipython",
    "version": 3
   },
   "file_extension": ".py",
   "mimetype": "text/x-python",
   "name": "python",
   "nbconvert_exporter": "python",
   "pygments_lexer": "ipython3",
   "version": "3.6.8"
  }
 },
 "nbformat": 4,
 "nbformat_minor": 2
}
