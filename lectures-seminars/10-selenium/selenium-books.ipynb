{
 "cells": [
  {
   "cell_type": "markdown",
   "metadata": {},
   "source": [
    "# Python для анализа данных\n",
    "\n",
    "*Алла Тамбовцева, НИУ ВШЭ*"
   ]
  },
  {
   "cell_type": "markdown",
   "metadata": {},
   "source": [
    "Посмотрим на другие примеры использования `selenium`. \n",
    "\n",
    "**Пример.** Зайдем на сайт книжного магазина и найдем все книги про Python. Загрузим библиотеку, веб-драйвер и откроем страницу в браузере через Python."
   ]
  },
  {
   "cell_type": "code",
   "execution_count": 1,
   "metadata": {},
   "outputs": [],
   "source": [
    "from selenium import webdriver as wb\n",
    "br = wb.Chrome(\"/Users/allat/Downloads/chromedriver\")\n",
    "\n",
    "# открываем страницу в Chrome в автоматическом режиме\n",
    "br.get(\"http://www.biblio-globus.ru/\")"
   ]
  },
  {
   "cell_type": "markdown",
   "metadata": {},
   "source": [
    "Найдем с помощью CSS Selector'а (*SelectorGadget*) поле для ввода названия книги или автора. "
   ]
  },
  {
   "cell_type": "code",
   "execution_count": 2,
   "metadata": {},
   "outputs": [],
   "source": [
    "field = br.find_element_by_css_selector(\"input\")"
   ]
  },
  {
   "cell_type": "markdown",
   "metadata": {},
   "source": [
    "Сохраним запрос:"
   ]
  },
  {
   "cell_type": "code",
   "execution_count": 3,
   "metadata": {},
   "outputs": [],
   "source": [
    "author = \"Python\"  # переменная author - условность"
   ]
  },
  {
   "cell_type": "markdown",
   "metadata": {},
   "source": [
    "Введем запрос в поле для поиска (`.send_keys`) и подождем чуть-чуть:"
   ]
  },
  {
   "cell_type": "code",
   "execution_count": 4,
   "metadata": {},
   "outputs": [],
   "source": [
    "field.send_keys(author)\n",
    "br.implicitly_wait(2)  # подождем пару секунд"
   ]
  },
  {
   "cell_type": "markdown",
   "metadata": {},
   "source": [
    "Теперь найдем кнопку для поиска (значок *лупа* рядом со строкой поиска) через CSS Selector:"
   ]
  },
  {
   "cell_type": "code",
   "execution_count": 5,
   "metadata": {},
   "outputs": [],
   "source": [
    "submit = br.find_element_by_css_selector(\"#search_submit\")"
   ]
  },
  {
   "cell_type": "markdown",
   "metadata": {},
   "source": [
    "Кликнем на нее:"
   ]
  },
  {
   "cell_type": "code",
   "execution_count": 6,
   "metadata": {},
   "outputs": [],
   "source": [
    "submit.click()"
   ]
  },
  {
   "cell_type": "markdown",
   "metadata": {},
   "source": [
    "Сохраним первую страницу с результатами в переменную `page1`."
   ]
  },
  {
   "cell_type": "code",
   "execution_count": 7,
   "metadata": {},
   "outputs": [],
   "source": [
    "page1 = br.page_source"
   ]
  },
  {
   "cell_type": "code",
   "execution_count": 9,
   "metadata": {},
   "outputs": [],
   "source": [
    "page1"
   ]
  },
  {
   "cell_type": "markdown",
   "metadata": {},
   "source": [
    "Теперь обработаем эту страницу через `BeautifulSoup`:"
   ]
  },
  {
   "cell_type": "code",
   "execution_count": 10,
   "metadata": {},
   "outputs": [],
   "source": [
    "from bs4 import BeautifulSoup"
   ]
  },
  {
   "cell_type": "code",
   "execution_count": 11,
   "metadata": {},
   "outputs": [],
   "source": [
    "soup1 = BeautifulSoup(page1, 'lxml')"
   ]
  },
  {
   "cell_type": "markdown",
   "metadata": {},
   "source": [
    "Найдем все названия книг на этой странице. По исходному коду можно увидеть, что они имеют тэг `a` с атрибутом `class`, равным `name`:"
   ]
  },
  {
   "cell_type": "code",
   "execution_count": 12,
   "metadata": {},
   "outputs": [
    {
     "data": {
      "text/plain": [
       "[<a class=\"name\" href=\"/search/catalog/details/10548788\">Python : Карманный справочник</a>,\n",
       " <a class=\"name\" href=\"/search/catalog/details/10557981\">Python : создаем программы и игры,</a>,\n",
       " <a class=\"name\" href=\"/search/catalog/details/9635926\">Изучаем Python</a>,\n",
       " <a class=\"name\" href=\"/search/catalog/details/10519118\">Python 3   Самое необходимое </a>,\n",
       " <a class=\"name\" href=\"/search/catalog/details/10540996\">Простой Python просто с нуля</a>,\n",
       " <a class=\"name\" href=\"/search/catalog/details/10545061\">Python и машинное обучение: машинное и глубокое обучение с использованием Python, scikit-learn и TenFlow</a>,\n",
       " <a class=\"name\" href=\"/search/catalog/details/10394770\">Алгоритмы. Справочник с примерами на C, C++, Java и Python</a>,\n",
       " <a class=\"name\" href=\"/search/catalog/details/10513916\">Python 3 и PyQt 5. Разработка приложений</a>,\n",
       " <a class=\"name\" href=\"/search/catalog/details/10551375\">Практикум по математической статистике. Проверка гипотез с использованием Excel, MatCalc, R и Python</a>,\n",
       " <a class=\"name\" href=\"/search/catalog/details/10555114\">Django 2.1. Практика создания веб-сайтов на Python</a>]"
      ]
     },
     "execution_count": 12,
     "metadata": {},
     "output_type": "execute_result"
    }
   ],
   "source": [
    "soup1.find_all('a', {'class':'name'})"
   ]
  },
  {
   "cell_type": "markdown",
   "metadata": {},
   "source": [
    "С помощью списковых включений выберем из ссылок с тэгом `<a>` текст (так мы уже делали, и не раз)."
   ]
  },
  {
   "cell_type": "code",
   "execution_count": 13,
   "metadata": {},
   "outputs": [],
   "source": [
    "books1 = [b.text for b in soup1.find_all('a', {'class':'name'})]"
   ]
  },
  {
   "cell_type": "code",
   "execution_count": 14,
   "metadata": {},
   "outputs": [
    {
     "data": {
      "text/plain": [
       "['Python : Карманный справочник',\n",
       " 'Python : создаем программы и игры,',\n",
       " 'Изучаем Python',\n",
       " 'Python 3   Самое необходимое ',\n",
       " 'Простой Python просто с нуля',\n",
       " 'Python и машинное обучение: машинное и глубокое обучение с использованием Python, scikit-learn и TenFlow',\n",
       " 'Алгоритмы. Справочник с примерами на C, C++, Java и Python',\n",
       " 'Python 3 и PyQt 5. Разработка приложений',\n",
       " 'Практикум по математической статистике. Проверка гипотез с использованием Excel, MatCalc, R и Python',\n",
       " 'Django 2.1. Практика создания веб-сайтов на Python']"
      ]
     },
     "execution_count": 14,
     "metadata": {},
     "output_type": "execute_result"
    }
   ],
   "source": [
    "books1"
   ]
  },
  {
   "cell_type": "markdown",
   "metadata": {},
   "source": [
    "Теперь аналогичным образом сгрузим информацию об авторах:"
   ]
  },
  {
   "cell_type": "code",
   "execution_count": 15,
   "metadata": {},
   "outputs": [],
   "source": [
    "authors1 = [a.text for a in soup1.find_all('div', {'class': 'author'})]"
   ]
  },
  {
   "cell_type": "markdown",
   "metadata": {},
   "source": [
    "Сгрузим расположение:"
   ]
  },
  {
   "cell_type": "code",
   "execution_count": 16,
   "metadata": {},
   "outputs": [],
   "source": [
    "place1 = [p.text for p in soup1.find_all('div', {'class':'placement'})]"
   ]
  },
  {
   "cell_type": "code",
   "execution_count": 17,
   "metadata": {},
   "outputs": [
    {
     "data": {
      "text/plain": [
       "['Расположение в торговом зале: Уровень 1, зал № 07, секция 07, шкаф 72, полка 04',\n",
       " 'Расположение в торговом зале: Уровень 1, зал № 07, секция 07, шкаф 72, полка 06',\n",
       " 'Расположение в торговом зале: Уровень 1, зал № 07, секция 07, шкаф 72, полка 05',\n",
       " 'Расположение в торговом зале: Уровень 1, зал № 07, секция 07, шкаф 72, полка 06',\n",
       " 'Расположение в торговом зале: Уровень 1, зал № 07, секция 07, шкаф 72, полка 05',\n",
       " 'Расположение в торговом зале: Уровень 1, зал № 07, секция 06, шкаф 58, полка 01',\n",
       " 'Расположение в торговом зале: Уровень 1, зал № 07, секция 06, шкаф 60, полка 08',\n",
       " 'Расположение в торговом зале: Уровень 1, зал № 07, секция 07, шкаф 72, полка 04',\n",
       " 'Расположение в торговом зале: Уровень 1, зал № 07, секция 07, шкаф 65, полка 06',\n",
       " 'Расположение в торговом зале: Уровень 1, зал № 07, секция 07, шкаф 72, полка 07']"
      ]
     },
     "execution_count": 17,
     "metadata": {},
     "output_type": "execute_result"
    }
   ],
   "source": [
    "place1"
   ]
  },
  {
   "cell_type": "markdown",
   "metadata": {},
   "source": [
    "И, конечно, цену:"
   ]
  },
  {
   "cell_type": "code",
   "execution_count": 18,
   "metadata": {},
   "outputs": [],
   "source": [
    "price1 = [p.text for p in soup1.find_all('div', \n",
    "                                         {'class':'title_data price'})]"
   ]
  },
  {
   "cell_type": "code",
   "execution_count": 19,
   "metadata": {},
   "outputs": [
    {
     "data": {
      "text/plain": [
       "['Цена: 569,00 руб.',\n",
       " 'Цена: 469,00 руб.',\n",
       " 'Цена: 3659,00 руб.',\n",
       " 'Цена: 899,00 руб.',\n",
       " 'Цена: 819,00 руб.',\n",
       " 'Цена: 2349,00 руб.',\n",
       " 'Цена: 1409,00 руб.',\n",
       " 'Цена: 1239,00 руб.',\n",
       " 'Цена: 249,00 руб.',\n",
       " 'Цена: 1109,00 руб.']"
      ]
     },
     "execution_count": 19,
     "metadata": {},
     "output_type": "execute_result"
    }
   ],
   "source": [
    "price1"
   ]
  },
  {
   "cell_type": "markdown",
   "metadata": {},
   "source": [
    "Осталось пройтись по всем страницам, которые были выданы в результате поиска. Для примера перейдем на страницу 2 и на этом остановимся."
   ]
  },
  {
   "cell_type": "code",
   "execution_count": 20,
   "metadata": {},
   "outputs": [],
   "source": [
    "next_p = br.find_element_by_css_selector('.next_page')"
   ]
  },
  {
   "cell_type": "code",
   "execution_count": 21,
   "metadata": {},
   "outputs": [],
   "source": [
    "next_p.click()"
   ]
  },
  {
   "cell_type": "markdown",
   "metadata": {},
   "source": [
    "Проделаем то же самое, что и с первой страницей. По-хорошему нужно написать функцию, которая будет искать на странице названия книг, их расположение и цену. Но оставим это в качестве задания читателю :)"
   ]
  },
  {
   "cell_type": "code",
   "execution_count": 22,
   "metadata": {},
   "outputs": [],
   "source": [
    "page2 = br.page_source\n",
    "soup2 = BeautifulSoup(page2, 'lxml')\n",
    "books2 = [b.text for b in soup2.find_all('a', {'class':'name'})]\n",
    "author2 = [a.text for a in soup2.find_all('div', {'class': 'author'})]\n",
    "place2 = [p.text for p in soup2.find_all('div', {'class':'placement'})]\n",
    "price2 = [p.text for p in soup2.find_all('div', {'class':'title_data price'})]"
   ]
  },
  {
   "cell_type": "markdown",
   "metadata": {},
   "source": [
    "Расширим списки результатов с первой страницы данными, полученными со второй страницы, используя метод `.extend()`."
   ]
  },
  {
   "cell_type": "code",
   "execution_count": 23,
   "metadata": {},
   "outputs": [],
   "source": [
    "books1.extend(books2)\n",
    "authors1.extend(books2)\n",
    "place1.extend(place2)\n",
    "price1.extend(price2)"
   ]
  },
  {
   "cell_type": "markdown",
   "metadata": {},
   "source": [
    "Осталось импортировать библиотеку `pandas` и создать датафрейм."
   ]
  },
  {
   "cell_type": "code",
   "execution_count": 24,
   "metadata": {},
   "outputs": [],
   "source": [
    "import pandas as pd"
   ]
  },
  {
   "cell_type": "markdown",
   "metadata": {},
   "source": [
    "Для разнообразия создадим датафрейм не из списка списков, а из словаря. Ключами словаря будут названия столбцов в таблице, а значениями – списки с сохраненной информацией (названия книг, цены и проч.)."
   ]
  },
  {
   "cell_type": "code",
   "execution_count": 25,
   "metadata": {},
   "outputs": [],
   "source": [
    "df = pd.DataFrame({'book': books1, 'author': authors1,\n",
    "                   'placement': place1, 'price': price1})"
   ]
  },
  {
   "cell_type": "code",
   "execution_count": 26,
   "metadata": {},
   "outputs": [
    {
     "data": {
      "text/html": [
       "<div>\n",
       "<style scoped>\n",
       "    .dataframe tbody tr th:only-of-type {\n",
       "        vertical-align: middle;\n",
       "    }\n",
       "\n",
       "    .dataframe tbody tr th {\n",
       "        vertical-align: top;\n",
       "    }\n",
       "\n",
       "    .dataframe thead th {\n",
       "        text-align: right;\n",
       "    }\n",
       "</style>\n",
       "<table border=\"1\" class=\"dataframe\">\n",
       "  <thead>\n",
       "    <tr style=\"text-align: right;\">\n",
       "      <th></th>\n",
       "      <th>book</th>\n",
       "      <th>author</th>\n",
       "      <th>placement</th>\n",
       "      <th>price</th>\n",
       "    </tr>\n",
       "  </thead>\n",
       "  <tbody>\n",
       "    <tr>\n",
       "      <th>0</th>\n",
       "      <td>Python : Карманный справочник</td>\n",
       "      <td>М. Лутц</td>\n",
       "      <td>Расположение в торговом зале: Уровень 1, зал №...</td>\n",
       "      <td>Цена: 569,00 руб.</td>\n",
       "    </tr>\n",
       "    <tr>\n",
       "      <th>1</th>\n",
       "      <td>Python : создаем программы и игры,</td>\n",
       "      <td>Д. М. Кольцов</td>\n",
       "      <td>Расположение в торговом зале: Уровень 1, зал №...</td>\n",
       "      <td>Цена: 469,00 руб.</td>\n",
       "    </tr>\n",
       "    <tr>\n",
       "      <th>2</th>\n",
       "      <td>Изучаем Python</td>\n",
       "      <td>М. Лутц</td>\n",
       "      <td>Расположение в торговом зале: Уровень 1, зал №...</td>\n",
       "      <td>Цена: 3659,00 руб.</td>\n",
       "    </tr>\n",
       "    <tr>\n",
       "      <th>3</th>\n",
       "      <td>Python 3   Самое необходимое</td>\n",
       "      <td>Прохоренок</td>\n",
       "      <td>Расположение в торговом зале: Уровень 1, зал №...</td>\n",
       "      <td>Цена: 899,00 руб.</td>\n",
       "    </tr>\n",
       "    <tr>\n",
       "      <th>4</th>\n",
       "      <td>Простой Python просто с нуля</td>\n",
       "      <td>Р. Гаско</td>\n",
       "      <td>Расположение в торговом зале: Уровень 1, зал №...</td>\n",
       "      <td>Цена: 819,00 руб.</td>\n",
       "    </tr>\n",
       "  </tbody>\n",
       "</table>\n",
       "</div>"
      ],
      "text/plain": [
       "                                 book          author  \\\n",
       "0       Python : Карманный справочник         М. Лутц   \n",
       "1  Python : создаем программы и игры,  Д. М. Кольцов    \n",
       "2                      Изучаем Python         М. Лутц   \n",
       "3       Python 3   Самое необходимое       Прохоренок   \n",
       "4        Простой Python просто с нуля        Р. Гаско   \n",
       "\n",
       "                                           placement               price  \n",
       "0  Расположение в торговом зале: Уровень 1, зал №...   Цена: 569,00 руб.  \n",
       "1  Расположение в торговом зале: Уровень 1, зал №...   Цена: 469,00 руб.  \n",
       "2  Расположение в торговом зале: Уровень 1, зал №...  Цена: 3659,00 руб.  \n",
       "3  Расположение в торговом зале: Уровень 1, зал №...   Цена: 899,00 руб.  \n",
       "4  Расположение в торговом зале: Уровень 1, зал №...   Цена: 819,00 руб.  "
      ]
     },
     "execution_count": 26,
     "metadata": {},
     "output_type": "execute_result"
    }
   ],
   "source": [
    "df.head()"
   ]
  },
  {
   "cell_type": "markdown",
   "metadata": {},
   "source": [
    "Давайте приведем столбец с ценой к числовому типу. Уберем слова *Цена* и *руб*, а потом сконвертируем строки в числа с плавающей точкой. Напишем функцию `get_price()`,"
   ]
  },
  {
   "cell_type": "code",
   "execution_count": 27,
   "metadata": {},
   "outputs": [],
   "source": [
    "def get_price(price):\n",
    "    book_price = price.split(' ')[1]  # разобьем строку по пробелу и возьмем второй элемент\n",
    "    book_price = book_price.replace(',', '.')  # заменим запятую на точку\n",
    "    price_num = float(book_price)  # сконвертируем в float\n",
    "    return price_num"
   ]
  },
  {
   "cell_type": "code",
   "execution_count": 29,
   "metadata": {},
   "outputs": [
    {
     "data": {
      "text/plain": [
       "569.0"
      ]
     },
     "execution_count": 29,
     "metadata": {},
     "output_type": "execute_result"
    }
   ],
   "source": [
    "# проверка\n",
    "get_price(df.price[0])"
   ]
  },
  {
   "cell_type": "markdown",
   "metadata": {},
   "source": [
    "Всё отлично работает! Применим функцию к столбцу *price* и создадим новый столбец *nprice*."
   ]
  },
  {
   "cell_type": "code",
   "execution_count": 30,
   "metadata": {},
   "outputs": [],
   "source": [
    "df['nprice'] = df.price.apply(get_price)"
   ]
  },
  {
   "cell_type": "code",
   "execution_count": 31,
   "metadata": {},
   "outputs": [
    {
     "data": {
      "text/html": [
       "<div>\n",
       "<style scoped>\n",
       "    .dataframe tbody tr th:only-of-type {\n",
       "        vertical-align: middle;\n",
       "    }\n",
       "\n",
       "    .dataframe tbody tr th {\n",
       "        vertical-align: top;\n",
       "    }\n",
       "\n",
       "    .dataframe thead th {\n",
       "        text-align: right;\n",
       "    }\n",
       "</style>\n",
       "<table border=\"1\" class=\"dataframe\">\n",
       "  <thead>\n",
       "    <tr style=\"text-align: right;\">\n",
       "      <th></th>\n",
       "      <th>book</th>\n",
       "      <th>author</th>\n",
       "      <th>placement</th>\n",
       "      <th>price</th>\n",
       "      <th>nprice</th>\n",
       "    </tr>\n",
       "  </thead>\n",
       "  <tbody>\n",
       "    <tr>\n",
       "      <th>0</th>\n",
       "      <td>Python : Карманный справочник</td>\n",
       "      <td>М. Лутц</td>\n",
       "      <td>Расположение в торговом зале: Уровень 1, зал №...</td>\n",
       "      <td>Цена: 569,00 руб.</td>\n",
       "      <td>569.0</td>\n",
       "    </tr>\n",
       "    <tr>\n",
       "      <th>1</th>\n",
       "      <td>Python : создаем программы и игры,</td>\n",
       "      <td>Д. М. Кольцов</td>\n",
       "      <td>Расположение в торговом зале: Уровень 1, зал №...</td>\n",
       "      <td>Цена: 469,00 руб.</td>\n",
       "      <td>469.0</td>\n",
       "    </tr>\n",
       "    <tr>\n",
       "      <th>2</th>\n",
       "      <td>Изучаем Python</td>\n",
       "      <td>М. Лутц</td>\n",
       "      <td>Расположение в торговом зале: Уровень 1, зал №...</td>\n",
       "      <td>Цена: 3659,00 руб.</td>\n",
       "      <td>3659.0</td>\n",
       "    </tr>\n",
       "    <tr>\n",
       "      <th>3</th>\n",
       "      <td>Python 3   Самое необходимое</td>\n",
       "      <td>Прохоренок</td>\n",
       "      <td>Расположение в торговом зале: Уровень 1, зал №...</td>\n",
       "      <td>Цена: 899,00 руб.</td>\n",
       "      <td>899.0</td>\n",
       "    </tr>\n",
       "    <tr>\n",
       "      <th>4</th>\n",
       "      <td>Простой Python просто с нуля</td>\n",
       "      <td>Р. Гаско</td>\n",
       "      <td>Расположение в торговом зале: Уровень 1, зал №...</td>\n",
       "      <td>Цена: 819,00 руб.</td>\n",
       "      <td>819.0</td>\n",
       "    </tr>\n",
       "  </tbody>\n",
       "</table>\n",
       "</div>"
      ],
      "text/plain": [
       "                                 book          author  \\\n",
       "0       Python : Карманный справочник         М. Лутц   \n",
       "1  Python : создаем программы и игры,  Д. М. Кольцов    \n",
       "2                      Изучаем Python         М. Лутц   \n",
       "3       Python 3   Самое необходимое       Прохоренок   \n",
       "4        Простой Python просто с нуля        Р. Гаско   \n",
       "\n",
       "                                           placement               price  \\\n",
       "0  Расположение в торговом зале: Уровень 1, зал №...   Цена: 569,00 руб.   \n",
       "1  Расположение в торговом зале: Уровень 1, зал №...   Цена: 469,00 руб.   \n",
       "2  Расположение в торговом зале: Уровень 1, зал №...  Цена: 3659,00 руб.   \n",
       "3  Расположение в торговом зале: Уровень 1, зал №...   Цена: 899,00 руб.   \n",
       "4  Расположение в торговом зале: Уровень 1, зал №...   Цена: 819,00 руб.   \n",
       "\n",
       "   nprice  \n",
       "0   569.0  \n",
       "1   469.0  \n",
       "2  3659.0  \n",
       "3   899.0  \n",
       "4   819.0  "
      ]
     },
     "execution_count": 31,
     "metadata": {},
     "output_type": "execute_result"
    }
   ],
   "source": [
    "df.head()"
   ]
  },
  {
   "cell_type": "markdown",
   "metadata": {},
   "source": [
    "Теперь можем расположить книги по цене в порядке возрастания:"
   ]
  },
  {
   "cell_type": "code",
   "execution_count": 32,
   "metadata": {},
   "outputs": [
    {
     "data": {
      "text/html": [
       "<div>\n",
       "<style scoped>\n",
       "    .dataframe tbody tr th:only-of-type {\n",
       "        vertical-align: middle;\n",
       "    }\n",
       "\n",
       "    .dataframe tbody tr th {\n",
       "        vertical-align: top;\n",
       "    }\n",
       "\n",
       "    .dataframe thead th {\n",
       "        text-align: right;\n",
       "    }\n",
       "</style>\n",
       "<table border=\"1\" class=\"dataframe\">\n",
       "  <thead>\n",
       "    <tr style=\"text-align: right;\">\n",
       "      <th></th>\n",
       "      <th>book</th>\n",
       "      <th>author</th>\n",
       "      <th>placement</th>\n",
       "      <th>price</th>\n",
       "      <th>nprice</th>\n",
       "    </tr>\n",
       "  </thead>\n",
       "  <tbody>\n",
       "    <tr>\n",
       "      <th>8</th>\n",
       "      <td>Практикум по математической статистике. Провер...</td>\n",
       "      <td>В. И. Глебов, С. Я. Криволапов</td>\n",
       "      <td>Расположение в торговом зале: Уровень 1, зал №...</td>\n",
       "      <td>Цена: 249,00 руб.</td>\n",
       "      <td>249.0</td>\n",
       "    </tr>\n",
       "    <tr>\n",
       "      <th>1</th>\n",
       "      <td>Python : создаем программы и игры,</td>\n",
       "      <td>Д. М. Кольцов</td>\n",
       "      <td>Расположение в торговом зале: Уровень 1, зал №...</td>\n",
       "      <td>Цена: 469,00 руб.</td>\n",
       "      <td>469.0</td>\n",
       "    </tr>\n",
       "    <tr>\n",
       "      <th>0</th>\n",
       "      <td>Python : Карманный справочник</td>\n",
       "      <td>М. Лутц</td>\n",
       "      <td>Расположение в торговом зале: Уровень 1, зал №...</td>\n",
       "      <td>Цена: 569,00 руб.</td>\n",
       "      <td>569.0</td>\n",
       "    </tr>\n",
       "    <tr>\n",
       "      <th>4</th>\n",
       "      <td>Простой Python просто с нуля</td>\n",
       "      <td>Р. Гаско</td>\n",
       "      <td>Расположение в торговом зале: Уровень 1, зал №...</td>\n",
       "      <td>Цена: 819,00 руб.</td>\n",
       "      <td>819.0</td>\n",
       "    </tr>\n",
       "    <tr>\n",
       "      <th>3</th>\n",
       "      <td>Python 3   Самое необходимое</td>\n",
       "      <td>Прохоренок</td>\n",
       "      <td>Расположение в торговом зале: Уровень 1, зал №...</td>\n",
       "      <td>Цена: 899,00 руб.</td>\n",
       "      <td>899.0</td>\n",
       "    </tr>\n",
       "    <tr>\n",
       "      <th>10</th>\n",
       "      <td>Python. Экспресс-курс</td>\n",
       "      <td>Python. Экспресс-курс</td>\n",
       "      <td>Расположение в торговом зале: Уровень 1, зал №...</td>\n",
       "      <td>Цена: 989,00 руб.</td>\n",
       "      <td>989.0</td>\n",
       "    </tr>\n",
       "    <tr>\n",
       "      <th>11</th>\n",
       "      <td>Глубокое обучение на Python</td>\n",
       "      <td>Глубокое обучение на Python</td>\n",
       "      <td>Расположение в торговом зале: Уровень 1, зал №...</td>\n",
       "      <td>Цена: 1039,00 руб.</td>\n",
       "      <td>1039.0</td>\n",
       "    </tr>\n",
       "    <tr>\n",
       "      <th>9</th>\n",
       "      <td>Django 2.1. Практика создания веб-сайтов на Py...</td>\n",
       "      <td>В. А. Дронов</td>\n",
       "      <td>Расположение в торговом зале: Уровень 1, зал №...</td>\n",
       "      <td>Цена: 1109,00 руб.</td>\n",
       "      <td>1109.0</td>\n",
       "    </tr>\n",
       "    <tr>\n",
       "      <th>7</th>\n",
       "      <td>Python 3 и PyQt 5. Разработка приложений</td>\n",
       "      <td>Н. А. Прохоренок, В. Дронов</td>\n",
       "      <td>Расположение в торговом зале: Уровень 1, зал №...</td>\n",
       "      <td>Цена: 1239,00 руб.</td>\n",
       "      <td>1239.0</td>\n",
       "    </tr>\n",
       "    <tr>\n",
       "      <th>18</th>\n",
       "      <td>Скрапинг веб-сайтов с помощью Python : сбор да...</td>\n",
       "      <td>Скрапинг веб-сайтов с помощью Python : сбор да...</td>\n",
       "      <td>Расположение в торговом зале: Уровень 1, зал №...</td>\n",
       "      <td>Цена: 1279,00 руб.</td>\n",
       "      <td>1279.0</td>\n",
       "    </tr>\n",
       "    <tr>\n",
       "      <th>6</th>\n",
       "      <td>Алгоритмы. Справочник с примерами на C, C++, J...</td>\n",
       "      <td>Дж. Хайнеман, Г. Поллис, С. Селков</td>\n",
       "      <td>Расположение в торговом зале: Уровень 1, зал №...</td>\n",
       "      <td>Цена: 1409,00 руб.</td>\n",
       "      <td>1409.0</td>\n",
       "    </tr>\n",
       "    <tr>\n",
       "      <th>15</th>\n",
       "      <td>Искусственный интеллект с примерами на Python</td>\n",
       "      <td>Искусственный интеллект с примерами на Python</td>\n",
       "      <td>Расположение в торговом зале: Уровень 1, зал №...</td>\n",
       "      <td>Цена: 1409,00 руб.</td>\n",
       "      <td>1409.0</td>\n",
       "    </tr>\n",
       "    <tr>\n",
       "      <th>19</th>\n",
       "      <td>Python для сложных задач: наука о данных и маш...</td>\n",
       "      <td>Python для сложных задач: наука о данных и маш...</td>\n",
       "      <td>Расположение в торговом зале: Уровень 1, зал №...</td>\n",
       "      <td>Цена: 1409,00 руб.</td>\n",
       "      <td>1409.0</td>\n",
       "    </tr>\n",
       "    <tr>\n",
       "      <th>13</th>\n",
       "      <td>Программирование на языке Python</td>\n",
       "      <td>Программирование на языке Python</td>\n",
       "      <td>Расположение в торговом зале: Уровень 1, зал №...</td>\n",
       "      <td>Цена: 1879,00 руб.</td>\n",
       "      <td>1879.0</td>\n",
       "    </tr>\n",
       "    <tr>\n",
       "      <th>17</th>\n",
       "      <td>Python. К вершинам мастерства</td>\n",
       "      <td>Python. К вершинам мастерства</td>\n",
       "      <td>Расположение в торговом зале: Уровень 1, зал №...</td>\n",
       "      <td>Цена: 1969,00 руб.</td>\n",
       "      <td>1969.0</td>\n",
       "    </tr>\n",
       "    <tr>\n",
       "      <th>16</th>\n",
       "      <td>Программирование на Python 3</td>\n",
       "      <td>Программирование на Python 3</td>\n",
       "      <td>Расположение в торговом зале: Уровень 1, зал №...</td>\n",
       "      <td>Цена: 2269,00 руб.</td>\n",
       "      <td>2269.0</td>\n",
       "    </tr>\n",
       "    <tr>\n",
       "      <th>5</th>\n",
       "      <td>Python и машинное обучение: машинное и глубоко...</td>\n",
       "      <td>С. Рашка, В. Мирджалили</td>\n",
       "      <td>Расположение в торговом зале: Уровень 1, зал №...</td>\n",
       "      <td>Цена: 2349,00 руб.</td>\n",
       "      <td>2349.0</td>\n",
       "    </tr>\n",
       "    <tr>\n",
       "      <th>14</th>\n",
       "      <td>Python. Справочник. Полное описание языка</td>\n",
       "      <td>Python. Справочник. Полное описание языка</td>\n",
       "      <td>Расположение в торговом зале: Уровень 1, зал №...</td>\n",
       "      <td>Цена: 2349,00 руб.</td>\n",
       "      <td>2349.0</td>\n",
       "    </tr>\n",
       "    <tr>\n",
       "      <th>12</th>\n",
       "      <td>Программирование на Python. Т. 1</td>\n",
       "      <td>Программирование на Python. Т. 1</td>\n",
       "      <td>Расположение в торговом зале: Уровень 1, зал №...</td>\n",
       "      <td>Цена: 2779,00 руб.</td>\n",
       "      <td>2779.0</td>\n",
       "    </tr>\n",
       "    <tr>\n",
       "      <th>2</th>\n",
       "      <td>Изучаем Python</td>\n",
       "      <td>М. Лутц</td>\n",
       "      <td>Расположение в торговом зале: Уровень 1, зал №...</td>\n",
       "      <td>Цена: 3659,00 руб.</td>\n",
       "      <td>3659.0</td>\n",
       "    </tr>\n",
       "  </tbody>\n",
       "</table>\n",
       "</div>"
      ],
      "text/plain": [
       "                                                 book  \\\n",
       "8   Практикум по математической статистике. Провер...   \n",
       "1                  Python : создаем программы и игры,   \n",
       "0                       Python : Карманный справочник   \n",
       "4                        Простой Python просто с нуля   \n",
       "3                       Python 3   Самое необходимое    \n",
       "10                              Python. Экспресс-курс   \n",
       "11                        Глубокое обучение на Python   \n",
       "9   Django 2.1. Практика создания веб-сайтов на Py...   \n",
       "7            Python 3 и PyQt 5. Разработка приложений   \n",
       "18  Скрапинг веб-сайтов с помощью Python : сбор да...   \n",
       "6   Алгоритмы. Справочник с примерами на C, C++, J...   \n",
       "15      Искусственный интеллект с примерами на Python   \n",
       "19  Python для сложных задач: наука о данных и маш...   \n",
       "13                   Программирование на языке Python   \n",
       "17                      Python. К вершинам мастерства   \n",
       "16                       Программирование на Python 3   \n",
       "5   Python и машинное обучение: машинное и глубоко...   \n",
       "14          Python. Справочник. Полное описание языка   \n",
       "12                   Программирование на Python. Т. 1   \n",
       "2                                      Изучаем Python   \n",
       "\n",
       "                                               author  \\\n",
       "8                      В. И. Глебов, С. Я. Криволапов   \n",
       "1                                      Д. М. Кольцов    \n",
       "0                                             М. Лутц   \n",
       "4                                            Р. Гаско   \n",
       "3                                          Прохоренок   \n",
       "10                              Python. Экспресс-курс   \n",
       "11                        Глубокое обучение на Python   \n",
       "9                                        В. А. Дронов   \n",
       "7                         Н. А. Прохоренок, В. Дронов   \n",
       "18  Скрапинг веб-сайтов с помощью Python : сбор да...   \n",
       "6                  Дж. Хайнеман, Г. Поллис, С. Селков   \n",
       "15      Искусственный интеллект с примерами на Python   \n",
       "19  Python для сложных задач: наука о данных и маш...   \n",
       "13                   Программирование на языке Python   \n",
       "17                      Python. К вершинам мастерства   \n",
       "16                       Программирование на Python 3   \n",
       "5                             С. Рашка, В. Мирджалили   \n",
       "14          Python. Справочник. Полное описание языка   \n",
       "12                   Программирование на Python. Т. 1   \n",
       "2                                             М. Лутц   \n",
       "\n",
       "                                            placement               price  \\\n",
       "8   Расположение в торговом зале: Уровень 1, зал №...   Цена: 249,00 руб.   \n",
       "1   Расположение в торговом зале: Уровень 1, зал №...   Цена: 469,00 руб.   \n",
       "0   Расположение в торговом зале: Уровень 1, зал №...   Цена: 569,00 руб.   \n",
       "4   Расположение в торговом зале: Уровень 1, зал №...   Цена: 819,00 руб.   \n",
       "3   Расположение в торговом зале: Уровень 1, зал №...   Цена: 899,00 руб.   \n",
       "10  Расположение в торговом зале: Уровень 1, зал №...   Цена: 989,00 руб.   \n",
       "11  Расположение в торговом зале: Уровень 1, зал №...  Цена: 1039,00 руб.   \n",
       "9   Расположение в торговом зале: Уровень 1, зал №...  Цена: 1109,00 руб.   \n",
       "7   Расположение в торговом зале: Уровень 1, зал №...  Цена: 1239,00 руб.   \n",
       "18  Расположение в торговом зале: Уровень 1, зал №...  Цена: 1279,00 руб.   \n",
       "6   Расположение в торговом зале: Уровень 1, зал №...  Цена: 1409,00 руб.   \n",
       "15  Расположение в торговом зале: Уровень 1, зал №...  Цена: 1409,00 руб.   \n",
       "19  Расположение в торговом зале: Уровень 1, зал №...  Цена: 1409,00 руб.   \n",
       "13  Расположение в торговом зале: Уровень 1, зал №...  Цена: 1879,00 руб.   \n",
       "17  Расположение в торговом зале: Уровень 1, зал №...  Цена: 1969,00 руб.   \n",
       "16  Расположение в торговом зале: Уровень 1, зал №...  Цена: 2269,00 руб.   \n",
       "5   Расположение в торговом зале: Уровень 1, зал №...  Цена: 2349,00 руб.   \n",
       "14  Расположение в торговом зале: Уровень 1, зал №...  Цена: 2349,00 руб.   \n",
       "12  Расположение в торговом зале: Уровень 1, зал №...  Цена: 2779,00 руб.   \n",
       "2   Расположение в торговом зале: Уровень 1, зал №...  Цена: 3659,00 руб.   \n",
       "\n",
       "    nprice  \n",
       "8    249.0  \n",
       "1    469.0  \n",
       "0    569.0  \n",
       "4    819.0  \n",
       "3    899.0  \n",
       "10   989.0  \n",
       "11  1039.0  \n",
       "9   1109.0  \n",
       "7   1239.0  \n",
       "18  1279.0  \n",
       "6   1409.0  \n",
       "15  1409.0  \n",
       "19  1409.0  \n",
       "13  1879.0  \n",
       "17  1969.0  \n",
       "16  2269.0  \n",
       "5   2349.0  \n",
       "14  2349.0  \n",
       "12  2779.0  \n",
       "2   3659.0  "
      ]
     },
     "execution_count": 32,
     "metadata": {},
     "output_type": "execute_result"
    }
   ],
   "source": [
    "df.sort_values('nprice')"
   ]
  },
  {
   "cell_type": "markdown",
   "metadata": {},
   "source": [
    "И сохраним всю таблицу в csv-файл:"
   ]
  },
  {
   "cell_type": "code",
   "execution_count": null,
   "metadata": {},
   "outputs": [],
   "source": [
    "df.to_csv(\"books.csv\")"
   ]
  }
 ],
 "metadata": {
  "kernelspec": {
   "display_name": "Python 3",
   "language": "python",
   "name": "python3"
  },
  "language_info": {
   "codemirror_mode": {
    "name": "ipython",
    "version": 3
   },
   "file_extension": ".py",
   "mimetype": "text/x-python",
   "name": "python",
   "nbconvert_exporter": "python",
   "pygments_lexer": "ipython3",
   "version": "3.6.5"
  }
 },
 "nbformat": 4,
 "nbformat_minor": 2
}
