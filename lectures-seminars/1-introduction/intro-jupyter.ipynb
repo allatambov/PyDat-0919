{
 "cells": [
  {
   "cell_type": "markdown",
   "metadata": {},
   "source": [
    "## Python для анализа данных\n",
    "\n",
    "*Алла Тамбовцева, НИУ ВШЭ*"
   ]
  },
  {
   "cell_type": "markdown",
   "metadata": {},
   "source": [
    "### Знакомство с Jupyter Notebook\n",
    "\n",
    "Jupyter Notebook чем-то похож на текстовый редактор: есть меню, панель инструментов и поле для работы, которое состоит из ячеек (*cells*). Ячейки могут содержать как код, так и текст (неразмеченный и размеченный). Комментарии в ячейках с кодом должны начинаться со знака `#`.\n",
    "\n",
    "Пример ячейки с кодом:"
   ]
  },
  {
   "cell_type": "code",
   "execution_count": 1,
   "metadata": {},
   "outputs": [
    {
     "name": "stdout",
     "output_type": "stream",
     "text": [
      "3 0.2\n"
     ]
    }
   ],
   "source": [
    "a = 3 # создаем переменную a и присваиваем ей значение 3\n",
    "b = 0.2 \n",
    "\n",
    "# комментарий 1\n",
    "# комментарий 2\n",
    "\n",
    "print(a, b) # выводим на экран значения переменных A и B"
   ]
  },
  {
   "cell_type": "markdown",
   "metadata": {},
   "source": [
    "По умолчанию тип ячейки *Code*, это можно увидеть на панели под меню. Чтобы изменить тип ячейки, нужно нажать на стрелочку вниз и выбрать нужный вариант. Всего вариантов четыре: *Code*, *Markdown*, *RawNBConvert* и *Heading*.\n",
    "\n",
    "* *Code*: ячейка с кодом Python;\n",
    "* *Markdown*: ячейка с размеченным текстом, язык разметки Markdown;\n",
    "* *RawNBConvert*: неразмеченный «сырой» текст, без курсива/полужирного шрифта;\n",
    "* *Heading*: устарел, раньше использовался для заголовков, сейчас их нужно создавать в режиме *Markdown*."
   ]
  },
  {
   "cell_type": "markdown",
   "metadata": {},
   "source": [
    "Примеры ячеек с размеченным текстом (язык разметки Markdown, почитать про него можно [здесь](https://jupyter-notebook.readthedocs.io/en/latest/examples/Notebook/Working%20With%20Markdown%20Cells.html) и [здесь](http://nestacms.com/docs/creating-content/markdown-cheat-sheet)) — см. ниже."
   ]
  },
  {
   "cell_type": "markdown",
   "metadata": {},
   "source": [
    "### Что можно делать с помощью Markdown?\n",
    "\n",
    "Выделять заголовки разных уровней.\n",
    "\n",
    "На входе:\n",
    "\n",
    "    # Заголовок 1\n",
    "    ## Заголовок 2\n",
    "    ### Заголовок 3\n",
    "    \n",
    "На выходе:"
   ]
  },
  {
   "cell_type": "markdown",
   "metadata": {},
   "source": [
    "# Заголовок 1\n",
    "## Заголовок 2\n",
    "### Заголовок 3"
   ]
  },
  {
   "cell_type": "markdown",
   "metadata": {},
   "source": [
    "Выделять части текста с помощью *курсива* или **полужирного начертания**. Или даже <s>зачеркивать</s>. Вот так этот текст выглядит в размеченном виде:\n",
    "\n",
    "       Выделять части текста с помощью *курсива* или **полужирного начертания**. Или даже <s>зачеркивать</s>."
   ]
  },
  {
   "cell_type": "markdown",
   "metadata": {},
   "source": [
    "Добавлять списки разного вида. \n",
    "\n",
    "**Ненумерованный список.** \n",
    "\n",
    "На входе:\n",
    "\n",
    "    * пункт 1\n",
    "    * пункт 2\n",
    "    * пункт 3\n",
    "\n",
    "На выходе:\n",
    "\n",
    "* пункт 1\n",
    "* пункт 2\n",
    "* пункт 3"
   ]
  },
  {
   "cell_type": "markdown",
   "metadata": {},
   "source": [
    "**Нумерованный список:**\n",
    "\n",
    "На входе:\n",
    "\n",
    "    1. Во-первых,...\n",
    "    2. Во-вторых,...\n",
    "    3. В-третьих,...\n",
    "    \n",
    "На выходе: \n",
    "\n",
    "1. Во-первых,...\n",
    "2. Во-вторых,...\n",
    "3. В-третьих,...\n"
   ]
  },
  {
   "cell_type": "markdown",
   "metadata": {},
   "source": [
    "Для тех, кто знаком с LaTeX: можно красиво оформлять формулы, используя синтаксис, принятый в LaTeX (наличие установленного на компьютере LaTeX не требуется, текст компилируется в самом Jupyter Notebook):\n",
    "\n",
    "$$(x+y)^2 = x^2 + 2xy + y^2$$\n",
    "\n",
    "$$\\Delta = I_{2018} - I_{2017}$$\n",
    "\n",
    "$$P(A|B) = \\frac{P(A \\cap B)}{P(B)}$$\n",
    "\n",
    "$$\\sin(\\alpha)^2 + cos(\\alpha)^2 = 1$$\n",
    "\n",
    "Формулы были получены таким образом:\n",
    "\n",
    "    $$(x+y)^2 = x^2 + 2xy + y^2$$\n",
    "\n",
    "    $$\\Delta = I_{2018} - I_{2017}$$\n",
    "\n",
    "    $$P(A|B) = \\frac{P(A \\cap B)}{P(B)}$$\n",
    "\n",
    "    $$\\sin(\\alpha)^2 + cos(\\alpha)^2 = 1$$"
   ]
  },
  {
   "cell_type": "markdown",
   "metadata": {},
   "source": [
    "Еще можно добавлять **ссылки**. Либо текст ссылки и саму ссылку: текст `[Jupyter](http://jupyter.org)` даст ссылку [Jupyter](http://jupyter.org). Либо саму ссылку как есть: текст `<http://jupyter.org/>` вернет ссылку <http://jupyter.org/>."
   ]
  },
  {
   "cell_type": "markdown",
   "metadata": {},
   "source": [
    "И, конечно, можно добавлять картинки!"
   ]
  },
  {
   "cell_type": "markdown",
   "metadata": {},
   "source": [
    "Например, так:\n",
    "\n",
    "`![title](test.png) `"
   ]
  },
  {
   "cell_type": "markdown",
   "metadata": {},
   "source": [
    "![title](test.png) "
   ]
  },
  {
   "cell_type": "markdown",
   "metadata": {},
   "source": [
    "Или так (синтаксис, как в html, кто знаком):\n",
    "\n",
    "`<img src =\"test.png\" alt =\"Test picture\">`\n",
    "    \n",
    "<img src =\"test.png\" alt =\"Test picture\">"
   ]
  },
  {
   "cell_type": "markdown",
   "metadata": {},
   "source": [
    "*Примечание:* часть с *alt* нужна для того, чтобы в случае, если картинки с таким названием нет, выводился какой-то альтернативный текст вместо нее."
   ]
  },
  {
   "cell_type": "markdown",
   "metadata": {},
   "source": [
    "### Горячие клавиши"
   ]
  },
  {
   "cell_type": "markdown",
   "metadata": {},
   "source": [
    "В Jupyter Notebook есть свои горячие клавиши, которые позволяют добавлять или удалять ячейки, менять их тип и так далее. Чтобы работать в режиме горячих клавиш, нужно выйти из редактирования ячейки (нажать на *Esc*), а потом набрать нужную комбинацию клавиш. Чтобы вернуться в режим редактирования ячейки, можно кликнуть на нее два раза или, выбрав ее, нажать *Enter*. Все полезные комбинации клавиш можно найти в меню (*Help - Keyboard Shortcuts*) или нажав *Esc*, а потом *H* или *P*."
   ]
  },
  {
   "cell_type": "markdown",
   "metadata": {},
   "source": [
    "### Если потерялись"
   ]
  },
  {
   "cell_type": "markdown",
   "metadata": {},
   "source": [
    "И наконец: как найти, куда Jupyter сохраняет ноутбуки — файлы с расширением `.ipynb`. Можно импортировать модуль *os* и узнать текущую рабочую папку (*current working directory*) — в ней будут лежать ноутбуки."
   ]
  },
  {
   "cell_type": "code",
   "execution_count": null,
   "metadata": {},
   "outputs": [],
   "source": [
    "import os\n",
    "os.getcwd()"
   ]
  },
  {
   "cell_type": "markdown",
   "metadata": {},
   "source": [
    "С помощью `import` мы будем импортировать любые модули или библиотеки Python, а также отдельные функции при необходимости. Кроме того, можем импортировать текст философии Python, которая имеет название \"The Zen of Python\":"
   ]
  },
  {
   "cell_type": "code",
   "execution_count": 5,
   "metadata": {},
   "outputs": [
    {
     "name": "stdout",
     "output_type": "stream",
     "text": [
      "The Zen of Python, by Tim Peters\n",
      "\n",
      "Beautiful is better than ugly.\n",
      "Explicit is better than implicit.\n",
      "Simple is better than complex.\n",
      "Complex is better than complicated.\n",
      "Flat is better than nested.\n",
      "Sparse is better than dense.\n",
      "Readability counts.\n",
      "Special cases aren't special enough to break the rules.\n",
      "Although practicality beats purity.\n",
      "Errors should never pass silently.\n",
      "Unless explicitly silenced.\n",
      "In the face of ambiguity, refuse the temptation to guess.\n",
      "There should be one-- and preferably only one --obvious way to do it.\n",
      "Although that way may not be obvious at first unless you're Dutch.\n",
      "Now is better than never.\n",
      "Although never is often better than *right* now.\n",
      "If the implementation is hard to explain, it's a bad idea.\n",
      "If the implementation is easy to explain, it may be a good idea.\n",
      "Namespaces are one honking great idea -- let's do more of those!\n"
     ]
    }
   ],
   "source": [
    "import this"
   ]
  }
 ],
 "metadata": {
  "kernelspec": {
   "display_name": "Python 3",
   "language": "python",
   "name": "python3"
  },
  "language_info": {
   "codemirror_mode": {
    "name": "ipython",
    "version": 3
   },
   "file_extension": ".py",
   "mimetype": "text/x-python",
   "name": "python",
   "nbconvert_exporter": "python",
   "pygments_lexer": "ipython3",
   "version": "3.6.8"
  }
 },
 "nbformat": 4,
 "nbformat_minor": 2
}
