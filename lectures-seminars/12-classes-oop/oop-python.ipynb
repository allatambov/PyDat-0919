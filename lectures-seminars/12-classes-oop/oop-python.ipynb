{
 "cells": [
  {
   "cell_type": "markdown",
   "metadata": {},
   "source": [
    "## Классы в Python"
   ]
  },
  {
   "cell_type": "markdown",
   "metadata": {},
   "source": [
    "Создим класс `Student`. С одной стороны, это объект определенного нами типа `Student`, с другой – это описание этого объекта, содержащее его инициализацию, атрибуты и методы.\n",
    "\n",
    "Пока наш класс будет включать только атрибуты: имя и оценку студента. Напишем функцию с `__init__`, которая будет инициализировать наш класс и фиксировать его атрибуты:"
   ]
  },
  {
   "cell_type": "code",
   "execution_count": 2,
   "metadata": {},
   "outputs": [],
   "source": [
    "class Student():\n",
    "    def __init__(self, name, grades):\n",
    "        self.name = name\n",
    "        self.grades = grades"
   ]
  },
  {
   "cell_type": "markdown",
   "metadata": {},
   "source": [
    "Здесь `self` – это сам объект, `name` и `grades` – нужные нам атрибуты (как, например, `.columns` и `.index` у датафрейма pandas). С\n",
    "\n",
    "Класс создали и описали. Теперь создадим объект класса Student:"
   ]
  },
  {
   "cell_type": "code",
   "execution_count": 3,
   "metadata": {},
   "outputs": [],
   "source": [
    "s = Student(\"Emily\", [8, 9, 5, 4, 10]) "
   ]
  },
  {
   "cell_type": "code",
   "execution_count": 4,
   "metadata": {},
   "outputs": [
    {
     "data": {
      "text/plain": [
       "'Emily'"
      ]
     },
     "execution_count": 4,
     "metadata": {},
     "output_type": "execute_result"
    }
   ],
   "source": [
    "s.name"
   ]
  },
  {
   "cell_type": "code",
   "execution_count": 5,
   "metadata": {},
   "outputs": [
    {
     "data": {
      "text/plain": [
       "[8, 9, 5, 4, 10]"
      ]
     },
     "execution_count": 5,
     "metadata": {},
     "output_type": "execute_result"
    }
   ],
   "source": [
    "s.grades"
   ]
  },
  {
   "cell_type": "markdown",
   "metadata": {},
   "source": [
    "Теперь доптшем методы. Как мы уже обсуждали, методы – это функции, которые мы применяем к объектам определенного типа. Напишем методы `maxgrade()`, `mingrade()` и `status`, которые будут возвращать максимальную и минимальную оценку из списка оценок и «статус» студента (*perfect*, если доля отличных оценок выше 0.8 и *not perfect* в противном случае)."
   ]
  },
  {
   "cell_type": "code",
   "execution_count": 1,
   "metadata": {},
   "outputs": [],
   "source": [
    "class Student():\n",
    "    def __init__(self, name, grades):\n",
    "        self.name = name\n",
    "        self.grades = grades\n",
    "    def maxgrade(self):\n",
    "        print(max(self.grades))\n",
    "        return max(self.grades)\n",
    "    def mingrade(self):\n",
    "        print(min(self.grades))\n",
    "    def status(self):\n",
    "        n = len(list(filter(lambda x: x >= 8, \n",
    "                            self.grades)))\n",
    "        prop = n / len(self.grades) \n",
    "        if prop > 0.8:\n",
    "            print(\"perfect\")\n",
    "        else:\n",
    "            print(\"not perfect\")"
   ]
  },
  {
   "cell_type": "markdown",
   "metadata": {},
   "source": [
    "Проверим:"
   ]
  },
  {
   "cell_type": "code",
   "execution_count": 2,
   "metadata": {},
   "outputs": [],
   "source": [
    "s = Student(\"Emily\", [8, 9, 5, 4, 10]) "
   ]
  },
  {
   "cell_type": "code",
   "execution_count": 4,
   "metadata": {},
   "outputs": [
    {
     "name": "stdout",
     "output_type": "stream",
     "text": [
      "10\n"
     ]
    },
    {
     "data": {
      "text/plain": [
       "10"
      ]
     },
     "execution_count": 4,
     "metadata": {},
     "output_type": "execute_result"
    }
   ],
   "source": [
    "s.maxgrade()"
   ]
  },
  {
   "cell_type": "code",
   "execution_count": 9,
   "metadata": {},
   "outputs": [
    {
     "name": "stdout",
     "output_type": "stream",
     "text": [
      "not perfect\n"
     ]
    }
   ],
   "source": [
    "s.status()"
   ]
  },
  {
   "cell_type": "markdown",
   "metadata": {},
   "source": [
    "Теперь создадим класс `Grades` и реализуем так называемое наследование классов: пропишем методы, которые относятся исключительно к оценкам, внутри класса `Grades`, а потом этот класс поместим внутрь класса `Student`, чтобы на эти методы можно было ссылаться. Идея наследования очень похожа на идею вложенных функций: создается маленькая, довольно универсальная функция, на которую потом можно ссылаться в больших, более специфицированных разнообразных функциях, чтобы не прописывать какой-то общий код много раз:"
   ]
  },
  {
   "cell_type": "code",
   "execution_count": 6,
   "metadata": {},
   "outputs": [],
   "source": [
    "class Grades():\n",
    "    def __init__(self, grades):\n",
    "        self.grades = grades\n",
    "    def maxgrade(self):\n",
    "        print(max(self.grades))\n",
    "    def mingrade(self):\n",
    "        print(min(self.grades))\n",
    "    def meangrade(self):\n",
    "        print(sum(self.grades) / len(self.grades))"
   ]
  },
  {
   "cell_type": "markdown",
   "metadata": {},
   "source": [
    "Применим: "
   ]
  },
  {
   "cell_type": "code",
   "execution_count": 7,
   "metadata": {},
   "outputs": [],
   "source": [
    "G = Grades([4, 5, 9, 8])"
   ]
  },
  {
   "cell_type": "code",
   "execution_count": 8,
   "metadata": {},
   "outputs": [
    {
     "name": "stdout",
     "output_type": "stream",
     "text": [
      "[3, 3, 5, 5]\n"
     ]
    }
   ],
   "source": [
    "G.scale5()"
   ]
  },
  {
   "cell_type": "code",
   "execution_count": 9,
   "metadata": {},
   "outputs": [],
   "source": [
    "class Student(Grades):\n",
    "    def __init__(self, name, byear, grades):\n",
    "        self.name = name\n",
    "        self.grades = grades\n",
    "        self.byear = byear\n",
    "    def getage(self):\n",
    "        print(2018-self.byear) "
   ]
  },
  {
   "cell_type": "code",
   "execution_count": 10,
   "metadata": {},
   "outputs": [],
   "source": [
    "s = Student(\"Anna\", 1993, [3, 5, 8])"
   ]
  },
  {
   "cell_type": "code",
   "execution_count": 11,
   "metadata": {
    "scrolled": true
   },
   "outputs": [
    {
     "name": "stdout",
     "output_type": "stream",
     "text": [
      "5.333333333333333\n"
     ]
    }
   ],
   "source": [
    "s.meangrade()"
   ]
  }
 ],
 "metadata": {
  "kernelspec": {
   "display_name": "Python 3",
   "language": "python",
   "name": "python3"
  },
  "language_info": {
   "codemirror_mode": {
    "name": "ipython",
    "version": 3
   },
   "file_extension": ".py",
   "mimetype": "text/x-python",
   "name": "python",
   "nbconvert_exporter": "python",
   "pygments_lexer": "ipython3",
   "version": "3.6.8"
  }
 },
 "nbformat": 4,
 "nbformat_minor": 2
}
