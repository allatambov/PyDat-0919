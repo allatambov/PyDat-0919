{
 "cells": [
  {
   "cell_type": "markdown",
   "metadata": {},
   "source": [
    "# Python для анализа данных\n",
    "\n",
    "*Алла Тамбовцева, НИУ ВШЭ*\n",
    "\n",
    "## Домашнее задание 5"
   ]
  },
  {
   "cell_type": "markdown",
   "metadata": {},
   "source": [
    "## Часть 1: библиотка `numpy`"
   ]
  },
  {
   "cell_type": "markdown",
   "metadata": {},
   "source": [
    "### Задача 1\n",
    "\n",
    "Напишите функцию `build_array()`, которая принимает на вход размерность квадратной матрицы (двумерного массива, в котором число строк и столбцов совпадают) и создает единичную матрицу `E` (массив) соответствующей размерности. Использовать готовую функцию `np.eye()` нельзя, воспользуйтесь циклами и условиями.\n",
    "\n",
    "**Пример:**\n",
    "\n",
    "*Ввод:*\n",
    "\n",
    "    build_array(4)\n",
    "\n",
    "*Вывод:*\n",
    "\n",
    "    array([[1., 0., 0., 0.],\n",
    "       [0., 1., 0., 0.],\n",
    "       [0., 0., 1., 0.],\n",
    "       [0., 0., 0., 1.]])"
   ]
  },
  {
   "cell_type": "code",
   "execution_count": 50,
   "metadata": {
    "deletable": false,
    "nbgrader": {
     "checksum": "3668b2d36f1f494f831799749ac78a68",
     "grade": false,
     "grade_id": "cell-803054c1924c271b",
     "locked": false,
     "schema_version": 1,
     "solution": true
    }
   },
   "outputs": [],
   "source": [
    "import numpy as np\n",
    "def build_array(k):\n",
    "    matrix = np.zeros((k,k))\n",
    "    for i in range(k):\n",
    "       \n",
    "        for j in range(k):\n",
    "            if i == j:\n",
    "                matrix[i][j] = 1\n",
    "   \n",
    "\n",
    "            \n",
    "   \n",
    "    return matrix\n",
    "\n",
    "                \n",
    "                \n",
    "        "
   ]
  },
  {
   "cell_type": "code",
   "execution_count": 51,
   "metadata": {
    "deletable": false,
    "nbgrader": {
     "checksum": "4950acb427b2abe1d5ec5f3649111021",
     "grade": true,
     "grade_id": "cell-44193850ebf220f7",
     "locked": true,
     "points": 1,
     "schema_version": 1,
     "solution": false
    }
   },
   "outputs": [],
   "source": [
    "assert np.array_equal(build_array(4), np.eye(4)), \"Incorrect answer for n=4\"\n",
    "assert np.array_equal(build_array(5), np.eye(5)), \"Incorrect answer for n=5\"\n",
    "assert np.array_equal(build_array(10), np.eye(10)), \"Incorrect answer for n=10\"\n",
    "assert np.array_equal(build_array(2), np.eye(2)), \"Incorrect answer for n=2\"\n",
    "assert np.array_equal(build_array(9), np.eye(9)), \"Incorrect answer for n=9\""
   ]
  },
  {
   "cell_type": "markdown",
   "metadata": {},
   "source": [
    "### Задача 2\n",
    "\n",
    "В теории вероятностей существует понятие математического ожидания – среднее ожидаемое значение случайной величины. Для дискретной случайной величины $X$ (множество её значений не бесконечно) математическое ожидание считается так:\n",
    "\n",
    "$$E(X)=x_1\\cdot p_1+x_2\\cdot p_2+⋯+x_k\\cdot p_k,$$\n",
    "\n",
    "то есть как сумма произведений значений величины на соответствующие им вероятности.\n",
    "\n",
    "Напишите функцию `expectation()`, которая принимает на вход два списка (список значений случайной величины и список вероятностей) и возвращает математическое ожидание случайной величины. В решении используйте массивы.\n",
    "\n",
    "**Пример:**\n",
    "\n",
    "*Ввод:*\n",
    "    \n",
    "    expectation([-1, 2, 5], [0.2, 0.4, 0.4])\n",
    "\n",
    "*Вывод:*\n",
    "\n",
    "    2.6"
   ]
  },
  {
   "cell_type": "code",
   "execution_count": 20,
   "metadata": {
    "deletable": false,
    "nbgrader": {
     "checksum": "9f825d96ef14faa125aba5b3d295114a",
     "grade": false,
     "grade_id": "cell-eca9a110c682f0b9",
     "locked": false,
     "schema_version": 1,
     "solution": true
    }
   },
   "outputs": [
    {
     "data": {
      "text/plain": [
       "1.65"
      ]
     },
     "execution_count": 20,
     "metadata": {},
     "output_type": "execute_result"
    }
   ],
   "source": [
    "def expectation(variable, probability):\n",
    "    EX = 0\n",
    "    for v in variable:\n",
    "        k = variable.index(v)\n",
    "        ex = v*probability[k]\n",
    "        EX+=ex\n",
    "            \n",
    "            \n",
    "    return EX        \n",
    "expectation([-2, 0, 1, 6], [0.05, 0.45, 0.25, 0.25])\n",
    "    "
   ]
  },
  {
   "cell_type": "code",
   "execution_count": 21,
   "metadata": {
    "deletable": false,
    "nbgrader": {
     "checksum": "0554280ba5c7c0946905e67e3ba3ee69",
     "grade": true,
     "grade_id": "cell-638ff1c868a47732",
     "locked": true,
     "points": 1,
     "schema_version": 1,
     "solution": false
    }
   },
   "outputs": [],
   "source": [
    "assert expectation([5, 6, 7], [0.1, 0.2, 0.7]) == 6.6, \"Incorrect\"\n",
    "assert expectation([-2, 0, 1, 6], [0.05, 0.45, 0.25, 0.25]) == 1.65, \"Incorrect\""
   ]
  },
  {
   "cell_type": "markdown",
   "metadata": {},
   "source": [
    "### Задача 3\n",
    "\n",
    "Напишите функцию `my_reshape()`, которая принимает на вход массив и его новую размерность (пару чисел), и:\n",
    "\n",
    "* если указанные измерения корректны, то возвращает массив новой размерности\n",
    "* если указанные измерения некорректны, то возвращает пустой массив (пример: из массива $2 \\times 5$ нельзя сделать новый массив $4 \\times 3$,  потому что в старом массиве 10 элементов, а в новом – 12).\n",
    "\n",
    "**Пример:**\n",
    "\n",
    "*Ввод:*\n",
    "\n",
    "    A = np.array([[2, 4, 6], \n",
    "                [4, 8, 10]])\n",
    "\n",
    "    my_reshape(A, 6, 1)\n",
    "\n",
    "*Вывод:*\n",
    "\n",
    "    array([[2], \n",
    "           [4], \n",
    "           [6], \n",
    "           [4], \n",
    "           [8],\n",
    "           [10]])\n",
    "           \n",
    "*Ввод:*\n",
    "\n",
    "    A = np.array([[2, 4, 6], \n",
    "                [4, 8, 10]])\n",
    "\n",
    "    my_reshape(A, 4, 2)\n",
    "\n",
    "*Вывод:*\n",
    "\n",
    "    array([])\n",
    "    \n",
    "*Примечание: результаты в выводе могут визуально отличаться (выводиться без переносов по строкам, с указанием типа данных), это нормально, примеры модифицированы для читаемости.*"
   ]
  },
  {
   "cell_type": "code",
   "execution_count": 238,
   "metadata": {
    "deletable": false,
    "nbgrader": {
     "checksum": "b9773877ce291331b6536b5c1c67a0bb",
     "grade": false,
     "grade_id": "cell-ef84d305ceaaa1f4",
     "locked": false,
     "schema_version": 1,
     "solution": true
    }
   },
   "outputs": [
    {
     "data": {
      "text/plain": [
       "array([[1., 1., 1., 1., 1., 1., 1., 1., 1., 1., 1., 1., 1., 1., 1., 1.,\n",
       "        1., 1.],\n",
       "       [1., 1., 1., 1., 1., 1., 1., 1., 1., 1., 1., 1., 1., 1., 1., 1.,\n",
       "        1., 1.]])"
      ]
     },
     "execution_count": 238,
     "metadata": {},
     "output_type": "execute_result"
    }
   ],
   "source": [
    "import numpy as np\n",
    "from array import *\n",
    "\n",
    "def my_reshape(matrix,m,n):\n",
    "    if matrix.size == n * m:\n",
    "        new = matrix.reshape(m,n)\n",
    "    else:\n",
    "        new = np.array([])\n",
    "    return new    \n",
    "    \n",
    "    \n",
    "my_reshape(np.ones((6,6)), 2, 18)      \n",
    "\n",
    "    \n",
    "    "
   ]
  },
  {
   "cell_type": "code",
   "execution_count": 239,
   "metadata": {
    "deletable": false,
    "nbgrader": {
     "checksum": "51d50ae953f2f57ad48ce716d15340f4",
     "grade": true,
     "grade_id": "cell-08a0f98cf47479b6",
     "locked": true,
     "points": 1,
     "schema_version": 1,
     "solution": false
    }
   },
   "outputs": [],
   "source": [
    "assert np.array_equal(my_reshape(np.ones((6, 6)), 2, 18), \n",
    "                      np.array([[1., 1., 1., 1., 1., 1., 1., 1., 1., 1., 1., 1., 1., 1., 1., 1., 1., 1.],\n",
    "                               [1., 1., 1., 1., 1., 1., 1., 1., 1., 1., 1., 1., 1., 1., 1., 1., 1., 1.]])), \"Incorrect for \" + np.ones((6, 6))\n",
    "\n",
    "assert np.array_equal(my_reshape(np.eye(4), 7, 4), \n",
    "                      np.array([])), \"Incorrect\"\n",
    "                      "
   ]
  },
  {
   "cell_type": "markdown",
   "metadata": {},
   "source": [
    "### Часть 2: библиотека `pandas`"
   ]
  },
  {
   "cell_type": "markdown",
   "metadata": {},
   "source": [
    "### csv\n",
    "\n",
    "1. Загрузите csv-файл с таблицей по [ссылке](http://math-info.hse.ru/f/2017-18/py-prog/Fishing.csv). Описание базы см.[здесь](https://vincentarelbundock.github.io/Rdatasets/doc/Ecdat/Fishing.html).\n",
    "2. Выведите описательные статистики для всех количественных (integer, float) переменных в базе.\n",
    "3. Выберите из таблицы только строки, которые соответствуют респондентам, которые выбрали рыбалку на берегу (beach).\n",
    "4. Выберите из таблицы строки, которые соответствуют респондентам, которые предпочитают рыбачить на лодке (boat) с доходом (income) ниже 3500. Сохраните результат в переменную d.\n",
    "5. Переименуйте столбец catch в c_rate.\n",
    "6. Добавьте в таблицу столбец log_income, содержащий натуральный логарифм доходов респондентов.\n",
    "7. Сгруппируйте наблюдения в таблице по признаку тип рыбалки (mode) и выведите для каждого типа среднюю цену (price), которую респонденты готовы заплатить за рыбалку.\n",
    "8. Постройте гистограмму для показателя pboat, поменяйте ее цвет и добавьте название графика.\n",
    "9. Выведите на экран первые 8 строк таблицы. А теперь последние 8.\n",
    "10. Сохраните изменённый датафрейм в csv-файл."
   ]
  },
  {
   "cell_type": "markdown",
   "metadata": {},
   "source": [
    "### Excel\n",
    "\n",
    "**Файл для работы**\n",
    "\n",
    "polit.xlsx ([ссылка](http://math-info.hse.ru/f/2018-19/comm-math/polit.xlsx) на файл)\n",
    "\n",
    "**Описание файла**\n",
    "\n",
    "сокращенная версия файла `PetersMcGuireData.xlsx`, взятого [отсюда](http://jmcguire.faculty.wesleyan.edu/welcome/data/#20LActries) (страница James W.McGuire, Data used in “Authoritarianism in the Middle East”).\n",
    "\n",
    "Переменные:\n",
    "\n",
    "* ctry – country\n",
    "* fh09 – Freedom House index (ranging from 1 (most) to 7 (fewest) political rights and civil liberties), 2009\n",
    "* polity09 – Polity2 score (ranging from -10 to +10, latter most democratic), 2009\n",
    "* gini – Gini index of income inequality, 2000-2010\n",
    "* fparl08 – female share of seats in parliament (%), 2008\n",
    "* mena – Middle East and North Africa (1 - yes, 0 - no)\n",
    "* lati – Latin America (1 - yes, 0 - no)\n",
    "* cari – Caribbean, former British, French, Dutch colony\n",
    "* east – East Asia\n",
    "* sovi – Former Soviet Bloc\n",
    "* afri – Africa\n",
    "* corr0509 – Control of Corruption, average 2005-2009 (expert rating).\n",
    "\n",
    "**Задания**\n",
    "\n",
    "1. Загрузите таблицу из файла `polit.xlsx` и сохраните ее в переменную `df`. \n",
    "2. Выведите общую информацию по таблице: число строк и столбцов, типы данных в таблице. Есть ли в таблице пропущенные значения?\n",
    "3. Если в таблице есть строки с пропущенными значениями, удалите их. Сохраните изменения в `df`.\n",
    "4. Выведите на экран описательные статистики по всем количественным переменным в таблице. Выберите какой-нибудь интересующий вас столбец и проинтерпретируйте описательные статистики по нему (т.е. опишите «обычными» словами, что значат значения типа `min`, `std`, `50%` и так далее).\n",
    "5. Выберите в таблице строки, которые соответствуют странам со значениями Freedom House (`fh09`) выше 5. Сохраните их в переменную `not_free`.\n",
    "6. Выберите в таблице строки, которые соответствуют странам Африки (`afri`) с процентом женщин в парламенте выше 30%.\n",
    "7. Выберите в таблице строки, которые соответствуют странам Африки или Латинской Америки (`afri` и `lati`) со значением `polity09` больше или равным 8.\n",
    "7. Отсортируйте строки в таблице в соответствии со значениями столбца со средними значениями индекса Control of Corruption (`corr0509`) по убыванию и выведите: первые 10 строк; последние 10 строк. Используйте метод `.sort_values()`.\n",
    "\n",
    "*Пример:*\n",
    "\n",
    "    df.sort_values('column_name', ascending = False) # ascend - возрастать\n",
    "\n",
    "8. Добавьте в `df` столбец corr_round, в котором будут храниться округленные до 2 знака после запятой значения индекса Control of Corruption (`corr0509`).\n",
    "\n",
    "9. Добавьте в `df` столбец `fh_status`, в котором будут храниться типы стран в зависимости от значения индекса Freedom House (значения free, partly free, not free). Соответствие значений `fh09` с типами стран см. [здесь](https://freedomhouse.org/report/freedom-world-2016/methodology) (в конце, Table 3).\n",
    "10. Сгруппируйте строки в таблице в соответствии со значениями столбца `fh_status`, полученного в предыдущей части и выведите минимальное, среднее и максимальное значение показателя `gini` (индекс Джини) по каждой группе.\n",
    "11. Сгруппируйте строки в таблице в соответствии со значениями столбца `fh_status` и запишите строки, относящиеся к разным группам, в отдельные csv-файлы.\n",
    "\n",
    "*Подсказка:* используйте цикл for и перебирайте в нем пары название группы-датафрейм. Попробуйте прогнать следующий код и посмотреть, что получится:\n",
    "\n",
    "    for name, table in df.groupby('fh_status'):\n",
    "        print(name, table.head(2))\n",
    "\n",
    "Сочетая функционал `pandas` и `matplotlib`, постройте диаграмму рассеяния (scatterplot, функция `scatter()`) для пары показателей `fh09` и `corr0509`. Поменяйте тип точек (маркер) и цвет точек. Добавьте заголовок к графику."
   ]
  },
  {
   "cell_type": "code",
   "execution_count": null,
   "metadata": {},
   "outputs": [],
   "source": []
  }
 ],
 "metadata": {
  "kernelspec": {
   "display_name": "Python 3",
   "language": "python",
   "name": "python3"
  },
  "language_info": {
   "codemirror_mode": {
    "name": "ipython",
    "version": 3
   },
   "file_extension": ".py",
   "mimetype": "text/x-python",
   "name": "python",
   "nbconvert_exporter": "python",
   "pygments_lexer": "ipython3",
   "version": "3.7.0"
  }
 },
 "nbformat": 4,
 "nbformat_minor": 2
}
