{
 "cells": [
  {
   "cell_type": "code",
   "execution_count": 1,
   "metadata": {},
   "outputs": [],
   "source": [
    "import requests\n",
    "from bs4 import BeautifulSoup"
   ]
  },
  {
   "cell_type": "code",
   "execution_count": 14,
   "metadata": {},
   "outputs": [],
   "source": [
    "page = requests.get(\"https://nplus1.ru/\")\n",
    "cont = BeautifulSoup(page.text) # \"lxml\"\n",
    "links_raw = cont.findAll('a') "
   ]
  },
  {
   "cell_type": "code",
   "execution_count": 36,
   "metadata": {},
   "outputs": [],
   "source": [
    "links_clean = []\n",
    "\n",
    "for i in links_raw:\n",
    "    if '/news/' in i.get(\"href\"):\n",
    "        links_clean.append(i.get(\"href\")) \n",
    "\n",
    "links_full = [\"https://nplus1.ru/\" + a for a in links_clean]"
   ]
  },
  {
   "cell_type": "code",
   "execution_count": 39,
   "metadata": {},
   "outputs": [
    {
     "data": {
      "text/plain": [
       "'Дмитрий Трунин'"
      ]
     },
     "execution_count": 39,
     "metadata": {},
     "output_type": "execute_result"
    }
   ],
   "source": [
    "link0 = links_full[0]\n",
    "page0 = requests.get(link0)\n",
    "cont0 = BeautifulSoup(page0.text) \n",
    "author = cont0.findAll('meta', \n",
    "                     {'name':'mediator_author'})[0].get('content')\n",
    "date = cont0.findAll('meta', \n",
    "              {'itemprop':'datePublished'})[0].get('content')\n",
    "desc = cont0.findAll('meta', \n",
    "              {'name':'description'})[0].get('content')\n",
    "diffc = cont0.findAll('span', {'class':'difficult-value'})[0].text\n",
    "atime = cont0.findAll('time')[0].findAll('span')[0].text\n",
    "text_raw = cont0.findAll('p', {'class':None})\n",
    "text_clean = [t.text for t in text_raw]\n",
    "article = \" \".join(text_clean)"
   ]
  }
 ],
 "metadata": {
  "kernelspec": {
   "display_name": "Python 3",
   "language": "python",
   "name": "python3"
  },
  "language_info": {
   "codemirror_mode": {
    "name": "ipython",
    "version": 3
   },
   "file_extension": ".py",
   "mimetype": "text/x-python",
   "name": "python",
   "nbconvert_exporter": "python",
   "pygments_lexer": "ipython3",
   "version": "3.7.3"
  }
 },
 "nbformat": 4,
 "nbformat_minor": 2
}
